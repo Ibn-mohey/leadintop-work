{
 "cells": [
  {
   "cell_type": "code",
   "execution_count": 168,
   "id": "76ef85ad",
   "metadata": {},
   "outputs": [],
   "source": [
    "import pandas as pd\n",
    "from selenium import webdriver\n",
    "from selenium.webdriver.chrome.options import Options\n",
    "from selenium.webdriver.common.keys import Keys\n",
    "from selenium.webdriver.common.by import By\n",
    "from selenium.webdriver.chrome.service import Service\n",
    "from webdriver_manager.chrome import ChromeDriverManager\n",
    "from selenium.webdriver.support.ui import Select\n",
    "from selenium.webdriver.support.ui import WebDriverWait\n",
    "import re\n",
    "from selenium import webdriver\n",
    "import urllib.request\n",
    "import socket\n",
    "import urllib.error\n",
    "from selenium.webdriver.support import expected_conditions as EC\n",
    "import time\n",
    "import csv\n",
    "import random\n",
    "import threading as th\n",
    "from selenium import webdriver\n",
    "from selenium.webdriver.common.proxy import Proxy, ProxyType\n",
    "import time\n",
    "from selenium import webdriver\n",
    "from selenium.webdriver.common.action_chains import ActionChains\n",
    "from datetime import datetime\n",
    "import requests\n",
    "import urllib.request\n",
    "from datetime import datetime\n",
    "import sqlite3\n",
    "\n",
    "\n"
   ]
  },
  {
   "cell_type": "code",
   "execution_count": 169,
   "id": "8e8fa283",
   "metadata": {
    "scrolled": true
   },
   "outputs": [
    {
     "name": "stdout",
     "output_type": "stream",
     "text": [
      "\n"
     ]
    },
    {
     "name": "stderr",
     "output_type": "stream",
     "text": [
      "[WDM] - ====== WebDriver manager ======\n",
      "[WDM] - Current google-chrome version is 104.0.5112\n",
      "[WDM] - Get LATEST chromedriver version for 104.0.5112 google-chrome\n",
      "[WDM] - About to download new driver from https://chromedriver.storage.googleapis.com/104.0.5112.79/chromedriver_win32.zip\n",
      "[WDM] - Driver has been saved in cache [C:\\Users\\asd_v\\.wdm\\drivers\\chromedriver\\win32\\104.0.5112.79]\n"
     ]
    }
   ],
   "source": [
    "options = webdriver.ChromeOptions()\n",
    "\n",
    "driver = webdriver.Chrome(service=Service(ChromeDriverManager().install()))\n",
    "def open_driver():\n",
    "    return webdriver.Chrome(service=Service(ChromeDriverManager().install()))"
   ]
  },
  {
   "cell_type": "code",
   "execution_count": 170,
   "id": "f88ddbb9",
   "metadata": {},
   "outputs": [],
   "source": [
    "def open_link(search_term,country= \"EG\",start_date = None,end_date=None,media_type='video'):\n",
    "    link = f'https://www.facebook.com/ads/library/?active_status=all&ad_type=all&country={country}&q={search_term}&sort_data[direction]=desc&sort_data[mode]=relevancy_monthly_grouped&start_date[min]={start_date}&start_date[max]={end_date}&search_type=keyword_unordered&media_type=all&media_type={media_type}'\n",
    "    driver.get(link)\n",
    "    time.sleep(4)\n",
    "    \n",
    "def open_page(page_id,country= \"EG\",start_date = None,end_date=None):\n",
    "    link= f'https://www.facebook.com/ads/library/?active_status=all&ad_type=all&country={country}&view_all_page_id={page_id}&sort_data[direction]=desc&sort_data[mode]=relevancy_monthly_grouped&search_type=page&media_type=video'\n",
    "    driver.get(link)\n",
    "    time.sleep(4)"
   ]
  },
  {
   "cell_type": "code",
   "execution_count": 171,
   "id": "a577e17c",
   "metadata": {},
   "outputs": [],
   "source": [
    "def get_ads_number():\n",
    "    try:\n",
    "        text = WebDriverWait(driver, 10).until(EC.presence_of_element_located((By.CSS_SELECTOR,'div[class=\"gxhhhc31\"]'))).text\n",
    "        ADS_count = re.findall('(\\d+) result', text)[0]\n",
    "        if ADS_count == '0':\n",
    "            driver.refresh()\n",
    "            time.sleep(5)\n",
    "            text = WebDriverWait(driver, 10).until(EC.presence_of_element_located((By.CSS_SELECTOR,'div[class=\"gxhhhc31\"]'))).text\n",
    "            ADS_count = re.findall('(\\d+) result', text)[0]\n",
    "    except:\n",
    "        ADS_count = 0\n",
    "    return ADS_count"
   ]
  },
  {
   "cell_type": "code",
   "execution_count": 172,
   "id": "5a23bea5",
   "metadata": {},
   "outputs": [],
   "source": [
    "def scroll_down(limit = 'no limit'):\n",
    "    if limit == 'no limit':\n",
    "         #scroll to end \n",
    "        # Get scroll height\n",
    "        last_height = driver.execute_script(\"return document.body.scrollHeight\")\n",
    "\n",
    "        while True:\n",
    "            # Scroll down to bottom\n",
    "            driver.execute_script(\"window.scrollTo(0, document.body.scrollHeight);\")\n",
    "\n",
    "            # Wait to load page\n",
    "            time.sleep(2)\n",
    "\n",
    "            # Calculate new scroll height and compare with last scroll height\n",
    "            new_height = driver.execute_script(\"return document.body.scrollHeight\")\n",
    "            if new_height == last_height:\n",
    "                break\n",
    "            last_height = new_height\n",
    "    \n",
    "    #scroll enough \n",
    "    else:\n",
    "        ads = driver.find_elements(By.CSS_SELECTOR, value = 'div[class=\"_99s5\"]')\n",
    "        temp_ads = 0\n",
    "        while (len(ads) < limit and temp_ads < len(ads)):\n",
    "            temp_ads = len(ads)\n",
    "            driver.execute_script(\"window.scrollTo(0, document.body.scrollHeight);\")\n",
    "            time.sleep(3)\n",
    "            ads = driver.find_elements(By.CSS_SELECTOR, value = 'div[class=\"_99s5\"]')\n",
    "        time.sleep(2)"
   ]
  },
  {
   "cell_type": "code",
   "execution_count": 173,
   "id": "19cf5a03",
   "metadata": {},
   "outputs": [],
   "source": [
    "def find_ID(element):\n",
    "    try:\n",
    "        return WebDriverWait(element,10).until(EC.presence_of_element_located((By.XPATH, './div/div[1]/div/div[1]/div[4]/div/div/span'))).text[4:]\n",
    "    except:\n",
    "        return WebDriverWait(element,10).until(EC.presence_of_element_located((By.XPATH, './div/div[1]/div/div[1]/div[5]/div/div/span'))).text[4:]\n",
    "\n",
    "\n",
    "def find_start_date(element):\n",
    "    return WebDriverWait(element, 10).until(EC.presence_of_element_located((By.XPATH,'./div/div[1]/div/div[1]/div[2]/span'))).text[19:]\n",
    "\n",
    "\n",
    "def find_profile_pic(element):\n",
    "    try:\n",
    "        link = WebDriverWait(element, 10).until(EC.presence_of_element_located((By.XPATH,'.//img[@class=\"_8nqq img\"]'))).get_attribute('src')\n",
    "        name = re.findall('\\d+_\\d+_\\d+_n',link)[0] + '.png'\n",
    "        #download\n",
    "#         img_data = requests.get(link).content\n",
    "#         with open(name, 'wb') as handler:\n",
    "#             handler.write(img_data)\n",
    "        # get path \n",
    "        full_path = '' + name\n",
    "        return full_path\n",
    "    except:\n",
    "        return '84702798_579370612644419_4516628711310622720_n.png'\n",
    "\n",
    "\n",
    "def find_links(element):\n",
    "    links = \"\\n\".join([a.get_attribute('href') for a in element.find_elements(By.CSS_SELECTOR,'a')[1:] ])\n",
    "    links = urllib.parse.unquote(links).replace('https://l.facebook.com/l.php?u=', '')\n",
    "    links = re.findall('(https.+)&',links)\n",
    "    return \"\\n\".join(links)\n",
    "    \n",
    "def find_ad_videos(element):\n",
    "    try:\n",
    "        vids = WebDriverWait(element,10).until(EC.presence_of_all_elements_located((By.XPATH,'.//video')))\n",
    "        vids_links = [a.get_attribute('src') for a in vids ]\n",
    "        names = []\n",
    "        for video in vids_links:\n",
    "            name = re.findall('\\d+_\\d+_\\d+_n',video)[0] + '.mp4'\n",
    "#             urllib.request.urlretrieve(video, name)\n",
    "            names.append(name)\n",
    "        return \"\\n\".join(names)\n",
    "    except:\n",
    "        return \"No Videos found\"\n",
    "    \n",
    "    \n",
    "def find_content(element):\n",
    "    return WebDriverWait(element,10).until(EC.presence_of_element_located((By.XPATH,'./div/div[3]/div/div/div[2]/div'))).text\n",
    "\n",
    "\n",
    "def find_footer(element):\n",
    "    try:\n",
    "        footer = WebDriverWait(element, 10).until(EC.presence_of_element_located((By.CSS_SELECTOR,'div[class=\"_8jgz _8jg_\"]')))\n",
    "        action = WebDriverWait(footer, 10).until(EC.presence_of_element_located((By.XPATH,'./div[2]/div/div/span/div/div/div'))).text\n",
    "        return footer.text , action\n",
    "    except:\n",
    "        return \"No Footer\" , \"No Action\"\n",
    "\n",
    "\n",
    "def find_page_name(element):\n",
    "    return WebDriverWait(element,10).until(EC.presence_of_element_located((By.XPATH, './div/div[3]/div/div/div[1]/div/div/div'))).text.replace(\"\\nSponsored\", \"\")\n",
    "\n",
    "def find_ads_occurence(element):\n",
    "    try:\n",
    "        return int(element.find_element(By.XPATH, value ='./div/div[1]/div/div[1]/div[5]/span/strong').text.split(' ')[0])\n",
    "    except:\n",
    "        return '1'\n",
    "\n",
    "def click_see_ad_details(element):\n",
    "    click = WebDriverWait(element, 20).until(EC.element_to_be_clickable((By.XPATH,'./div/div[2]/div/span/div/div/div')))\n",
    "    driver.execute_script(\"arguments[0].click();\", click)\n",
    "    time.sleep(0.5)\n",
    "    return WebDriverWait(driver, 10).until(EC.presence_of_element_located((By.CSS_SELECTOR,'div[class=\"_5aat _4-hy uiLayer _3qw\"]')))\n"
   ]
  },
  {
   "cell_type": "code",
   "execution_count": 174,
   "id": "edbefeb5",
   "metadata": {},
   "outputs": [],
   "source": [
    "def get_page_data(element):\n",
    "    #from the about only \n",
    "    #FB_ID, page_likes,Insta_ID,insta_followers, static_ID\n",
    "    \n",
    "    #MAIN PAGE ELEMENT\n",
    "    main_element = click_see_ad_details(element)\n",
    "\n",
    "    #ABOUT THE PAGE ELEMENT\n",
    "    about_the_page = WebDriverWait(main_element, 10).until(EC.presence_of_element_located((By.XPATH,'./div[2]/div/div/div/div/div[3]/span/div[2]/div/div')))  \n",
    "\n",
    "\n",
    "    #get platforms\n",
    "    #likes and followers \n",
    "    platforms = {'img sp_PtYcfR367DW sx_5cfa10':'facebook',\n",
    "                 'img sp_t_NYcTTi0J9 sx_751e36':'facebook',\n",
    "                 'img sp_gQyYgf4UR9n sx_01cc92':'facebook',\n",
    "                 'img sp_gQyYgf4UR9n sx_891563':'instgram',\n",
    "                'img sp_PtYcfR367DW sx_b58526':'instgram', \n",
    "                'img sp_t_NYcTTi0J9 sx_ba826e':'instgram'}\n",
    "    FB_ID = \"NO Facebook ID found\"\n",
    "    Insta_ID = \"NO insta ID found\"\n",
    "    page_likes = 0\n",
    "    insta_followers = 0\n",
    "\n",
    "    try:\n",
    "         #all pages\n",
    "        pages = WebDriverWait(about_the_page, 2).until(EC.presence_of_all_elements_located((By.CSS_SELECTOR,'div[class=\"hael596l alzwoclg c61n2bf6 q46jt4gp bq6c9xl4 r9sb4e79\"]')))\n",
    "        for s in pages:    \n",
    "            text = s.find_element(By.XPATH,'.').text.replace(',','')\n",
    "        #facebook \n",
    "        if re.search('like', text):\n",
    "            FB_ID = s.find_element(By.XPATH,'./div[2]/div[1]').text\n",
    "            page_likes = int(re.findall('(\\d+) like' , text)[0])\n",
    "        if re.search('follower', text):\n",
    "            Insta_ID = s.find_element(By.XPATH,'./div[2]/div[1]').text\n",
    "            insta_followers = int(re.findall('(\\d+) follower' , text)[0])\n",
    "            \n",
    "            #old approach\n",
    "#             #get the class type \n",
    "#             text = s.find_element(By.XPATH,'./div[2]/div[2]').text.replace(',','')\n",
    "#             platform = platforms[s.find_element(By.CSS_SELECTOR,'i').get_attribute('class')]\n",
    "#             if platform == 'facebook':\n",
    "#                 FB_ID = s.find_element(By.XPATH,'./div[2]/div[1]').text\n",
    "#                 page_likes = int(re.findall('(\\d+)' , text)[0])\n",
    "#             else:\n",
    "#                 pass\n",
    "#             if platform == 'instgram':\n",
    "#                 Insta_ID = s.find_element(By.XPATH,'./div[2]/div[1]').text\n",
    "#                 insta_followers = int(re.findall('(\\d+)' , text)[0])\n",
    "#             else:\n",
    "#                 pass\n",
    "    except:\n",
    "        pass\n",
    "    \n",
    "    \n",
    "    #static ID \n",
    "    static_ID = \"NO static ID found\"\n",
    "    try:\n",
    "        page_link = WebDriverWait(main_element, 10).until(EC.presence_of_element_located((By.XPATH,'./div[2]/div/div/div/div/div[3]/span/div[2]/div/div/div[1]/div/a'))).get_attribute('href')\n",
    "        static_ID = re.findall(('view_all_page_id=(\\d+)'),page_link)[0]\n",
    "        # Open a new window\n",
    "        driver.execute_script(\"window.open('');\")\n",
    "\n",
    "        # Switch to the new window and open new URL\n",
    "        driver.switch_to.window(driver.window_handles[1])\n",
    "        driver.get(page_link)\n",
    "        ADS_count = get_ads_number()\n",
    "        driver.close()\n",
    "\n",
    "        # Switching to old tab\n",
    "        driver.switch_to.window(driver.window_handles[0])\n",
    "    except:\n",
    "        ADS_count = \"0\"\n",
    "    time.sleep(0.5)\n",
    "    webdriver.ActionChains(driver).send_keys(Keys.ESCAPE).perform()\n",
    "    time.sleep(1) \n",
    "#     print(FB_ID, page_likes,Insta_ID,insta_followers, static_ID)\n",
    "    return FB_ID, page_likes,Insta_ID,insta_followers,static_ID,ADS_count\n"
   ]
  },
  {
   "cell_type": "code",
   "execution_count": 79,
   "id": "549c60f1",
   "metadata": {},
   "outputs": [
    {
     "data": {
      "text/plain": [
       "'30/08/2022 15:27:05ريال'"
      ]
     },
     "execution_count": 79,
     "metadata": {},
     "output_type": "execute_result"
    }
   ],
   "source": [
    "text = datetime.now().strftime(\"%d/%m/%Y %H:%M:%S\")\n",
    "text +  'ريال'"
   ]
  },
  {
   "cell_type": "code",
   "execution_count": 77,
   "id": "ca241507",
   "metadata": {},
   "outputs": [
    {
     "data": {
      "text/plain": [
       "datetime.datetime(2022, 8, 30, 15, 2, 6)"
      ]
     },
     "execution_count": 77,
     "metadata": {},
     "output_type": "execute_result"
    }
   ],
   "source": [
    "datetimeobj = datetime.strptime(text, \"%d/%m/%Y %H:%M:%S\")\n",
    "datetimeobj"
   ]
  },
  {
   "cell_type": "code",
   "execution_count": 175,
   "id": "c6c440c8",
   "metadata": {},
   "outputs": [],
   "source": [
    "def start_save(search_term,country= \"EG\",start_date = None,end_date=None,media_type='video',limit = 'no limit'):\n",
    "    open_link(search_term,country,start_date,end_date,media_type)\n",
    "    scroll_down(limit)\n",
    "    \n",
    "    elements = driver.find_elements(By.CSS_SELECTOR, value = 'div[class=\"_99s5\"]')\n",
    "    for element in elements:\n",
    "        \n",
    "        date = datetime.now().strftime(\"%d/%m/%Y %H:%M:%S\")\n",
    "        days = datetime.now().strftime(\"%d/%m/%Y\")\n",
    "        AD_ID = find_ID(element)\n",
    "        Started_date = find_start_date(element)\n",
    "        profile_pic = find_profile_pic(element)\n",
    "        links = find_links(element)\n",
    "        videos = find_ad_videos(element)\n",
    "        content = find_content(element)\n",
    "        Footer_text , Footer_action = find_footer(element)\n",
    "        Page_name = find_page_name(element)\n",
    "        AD_occurance = find_ads_occurence(element)\n",
    "#         FB_ID, page_likes,Insta_ID,insta_followers, static_ID,ADS_count\n",
    "        Facebook_ID, Page_likes,instgram_ID , insta_followers, static_ID, Ads_count  = get_page_data(element)\n",
    "        #save to database   \n",
    "        try:\n",
    "            #insert if not exist \n",
    "            conn = sqlite3.connect('FaceBoookADS.db')\n",
    "            c = conn.cursor()\n",
    "            c.execute('''INSERT INTO ads VALUES \n",
    "            (?,?,?,?,?,?,?,?,?,?,?,?,?,?,?,?,?,?,?,?,?);'''\n",
    "              ,(AD_ID ,\n",
    "                Started_date ,\n",
    "                profile_pic ,\n",
    "                links ,\n",
    "                videos ,\n",
    "                content ,\n",
    "                Footer_text ,\n",
    "                Footer_action ,\n",
    "                Page_name ,\n",
    "                AD_occurance ,\n",
    "                Facebook_ID ,\n",
    "                Page_likes ,\n",
    "                instgram_ID ,\n",
    "                insta_followers ,\n",
    "                static_ID ,\n",
    "                Ads_count ,\n",
    "                Ads_count ,\n",
    "                days ,\n",
    "                date ,\n",
    "                1 ,\n",
    "                search_term ,\n",
    "                ))\n",
    "            conn.commit()\n",
    "            conn.close()\n",
    "        except:\n",
    "            #update the data \n",
    "            conn = sqlite3.connect('FaceBoookADS.db')\n",
    "            c = conn.cursor()\n",
    "            c.execute('''UPDATE ads SET \n",
    "            AD_occurance =?,\n",
    "            Page_likes =?,\n",
    "            insta_followers =?,\n",
    "            Ads_count =?,\n",
    "            cumulative_ads_count = cumulative_ads_count + ?,\n",
    "            date = date|| ',' || ? ,\n",
    "            days = days || ',' || ? ,\n",
    "            hits = hits + 1 , \n",
    "            search_term = search_term || ',' || ?   \n",
    "            where AD_ID = ?'''\n",
    "              ,(AD_occurance ,\n",
    "                Page_likes ,\n",
    "                insta_followers ,\n",
    "                Ads_count ,\n",
    "                Ads_count,\n",
    "                date,\n",
    "                days,\n",
    "                search_term,\n",
    "               AD_ID))\n",
    "            conn.commit()\n",
    "            conn.close()"
   ]
  },
  {
   "cell_type": "code",
   "execution_count": 176,
   "id": "10824ede",
   "metadata": {},
   "outputs": [],
   "source": [
    "start_save('عطور')"
   ]
  },
  {
   "cell_type": "code",
   "execution_count": 7,
   "id": "aca64b21",
   "metadata": {},
   "outputs": [],
   "source": [
    "def read_data(sort_by = 'Ads_count',sort_type = 'DESC'):\n",
    "    sqliteConnection = sqlite3.connect('FaceBoookADS.db')\n",
    "    cursor = sqliteConnection.cursor()\n",
    "    sqlite_select_query = f\"\"\"SELECT * FROM \"ads\" ORDER BY {sort_by} {sort_type}\"\"\"\n",
    "    cursor.execute(sqlite_select_query)\n",
    "    records = cursor.fetchall()\n",
    "    cursor.close()\n",
    "    return records\n"
   ]
  },
  {
   "cell_type": "code",
   "execution_count": 12,
   "id": "8f108a58",
   "metadata": {},
   "outputs": [],
   "source": [
    "def search_by_owner(owner,sort_by = 'Ads_count',sort_type = 'DESC'):\n",
    "    sqliteConnection = sqlite3.connect('FaceBoookADS.db')\n",
    "    cursor = sqliteConnection.cursor()\n",
    "    sqlite_select_query = f\"\"\"SELECT * FROM \"ads\" where LOWER(Page_name) LIKE '%{owner.lower()}%' ORDER BY {sort_by} {sort_type}\"\"\"\n",
    "    cursor.execute(sqlite_select_query)\n",
    "    records = cursor.fetchall()\n",
    "    cursor.close()\n",
    "    return records"
   ]
  },
  {
   "cell_type": "code",
   "execution_count": 13,
   "id": "509c212e",
   "metadata": {},
   "outputs": [],
   "source": [
    "def search_by_domain(domain,sort_by = 'Ads_count',sort_type = 'DESC'):\n",
    "    sqliteConnection = sqlite3.connect('FaceBoookADS.db')\n",
    "    cursor = sqliteConnection.cursor()\n",
    "    sqlite_select_query = f\"\"\"SELECT * FROM \"ads\" where LOWER(links) LIKE '%{domain.lower()}%' ORDER BY {sort_by} {sort_type}\"\"\"\n",
    "    cursor.execute(sqlite_select_query)\n",
    "    records = cursor.fetchall()\n",
    "    cursor.close()\n",
    "    return records"
   ]
  },
  {
   "cell_type": "code",
   "execution_count": 155,
   "id": "f6169409",
   "metadata": {
    "scrolled": true
   },
   "outputs": [],
   "source": [
    "# Create database\n",
    "conn = sqlite3.connect('FaceBoookADS.db')\n",
    "c = conn.cursor()\n",
    "try:\n",
    "    c.execute('''DROP TABLE ads''')\n",
    "except:\n",
    "    pass\n",
    "c.execute('''\n",
    "CREATE TABLE ads\n",
    "(AD_ID TEXT PRIMARY KEY, \n",
    "Started_date TEXT,\n",
    "profile_pic TEXT,\n",
    "links TEXT,\n",
    "videos TEXT,\n",
    "content TEXT,\n",
    "Footer_TEXT TEXT,\n",
    "Footer_action TEXT,\n",
    "Page_name TEXT,\n",
    "AD_occurance INT,\n",
    "Facebook_ID TEXT,\n",
    "Page_likes INT,\n",
    "instgram_ID TEXT,\n",
    "insta_followers INT,\n",
    "static_ID TEXT,\n",
    "Ads_count INT,\n",
    "cumulative_ads_count INT,\n",
    "days TEXT,\n",
    "date TEXT,\n",
    "hits INT,\n",
    "search_term TEXT)''')\n",
    "conn.commit()\n",
    "conn.close()"
   ]
  },
  {
   "cell_type": "code",
   "execution_count": null,
   "id": "1155f910",
   "metadata": {},
   "outputs": [],
   "source": []
  },
  {
   "cell_type": "code",
   "execution_count": null,
   "id": "dcb66713",
   "metadata": {},
   "outputs": [],
   "source": [
    "def Save_to_DataBase():\n",
    "    conn = sqlite3.connect('tablename.db')\n",
    "    c = conn.cursor()\n",
    "    c.execute('''INSERT INTO ads VALUES \n",
    "    (?, ?)'''\n",
    "              , (name, number))\n",
    "    conn.commit()\n",
    "    conn.close()"
   ]
  },
  {
   "cell_type": "code",
   "execution_count": null,
   "id": "a541c9ba",
   "metadata": {},
   "outputs": [],
   "source": [
    "def sort_started(by)"
   ]
  },
  {
   "cell_type": "code",
   "execution_count": null,
   "id": "07af84e5",
   "metadata": {},
   "outputs": [],
   "source": []
  },
  {
   "cell_type": "code",
   "execution_count": 21,
   "id": "f41d3b72",
   "metadata": {},
   "outputs": [],
   "source": [
    "def final_call(search_term):\n",
    "    open_link(search_term)\n",
    "    scroll_down()\n",
    "    elements = driver.find_elements(By.CSS_SELECTOR, value = 'div[class=\"_99s5\"]')\n",
    "    for element in elements:\n",
    "        print(find_start_date(element))\n",
    "        print(find_profile_pic(element))\n",
    "        print(find_links(element))\n",
    "        print(find_ad_videos(element))\n",
    "        print(find_content(element))\n",
    "        print(find_footer(element))\n",
    "        print()"
   ]
  },
  {
   "cell_type": "markdown",
   "id": "879bfd5d",
   "metadata": {},
   "source": [
    "### old code \n"
   ]
  },
  {
   "cell_type": "code",
   "execution_count": null,
   "id": "ce35a53a",
   "metadata": {},
   "outputs": [],
   "source": [
    "# def get_platforms(element):\n",
    "#     platforms = {'0px -948px':'facebook',\n",
    "#             '-17px -761px':'insgram',\n",
    "#             '-17px -66px':'audience network',\n",
    "#             '-17px -79px':'messenger'}\n",
    "#     all_platforms = element.find_element(By.XPATH\n",
    "#                  ,value = './div/div[1]/div/div[1]/div[3]/div').find_elements(By.CSS_SELECTOR,value= 'div[class=\"n7mw1l6l\"]')\n",
    "#     plat_list = [platforms[re.findall('-webkit-mask-position: (.+px);'\n",
    "#                                       ,plat.get_attribute(\"style\"))[0]] for plat in all_platforms]\n",
    "#     return '\\n'.join(plat_list)\n",
    "#     print(plat_list)\n",
    "#     for plat in all_platforms:\n",
    "#         style = plat.get_attribute(\"style\")\n",
    "#         key = re.findall('-webkit-mask-position: (.+px);',style)[0]\n",
    "#         print(platforms[key])\n",
    "\n",
    "\n",
    "\n",
    "\n",
    "# element.find_element(By.XPATH,'./div/div[3]/div/div/div[1]/div/div/div').text.replace(\"\\nSponsored\", \"\")\n"
   ]
  },
  {
   "cell_type": "markdown",
   "id": "d15b20ba",
   "metadata": {},
   "source": [
    "## Test area"
   ]
  },
  {
   "cell_type": "code",
   "execution_count": 60,
   "id": "c3522f65",
   "metadata": {
    "scrolled": true
   },
   "outputs": [
    {
     "name": "stdout",
     "output_type": "stream",
     "text": [
      "\n"
     ]
    },
    {
     "name": "stderr",
     "output_type": "stream",
     "text": [
      "[WDM] - ====== WebDriver manager ======\n",
      "[WDM] - Current google-chrome version is 104.0.5112\n",
      "[WDM] - Get LATEST chromedriver version for 104.0.5112 google-chrome\n",
      "[WDM] - Driver [C:\\Users\\asd_v\\.wdm\\drivers\\chromedriver\\win32\\104.0.5112.79\\chromedriver.exe] found in cache\n"
     ]
    }
   ],
   "source": [
    "driver = open_driver()"
   ]
  },
  {
   "cell_type": "code",
   "execution_count": 226,
   "id": "f7b68520",
   "metadata": {},
   "outputs": [],
   "source": [
    "open_link('عطور')\n",
    "scroll_down()\n",
    "elements = driver.find_elements(By.CSS_SELECTOR, value = 'div[class=\"_99s5\"]')[0:20]"
   ]
  },
  {
   "cell_type": "code",
   "execution_count": 192,
   "id": "7353a6f0",
   "metadata": {},
   "outputs": [
    {
     "data": {
      "text/plain": [
       "'76084'"
      ]
     },
     "execution_count": 192,
     "metadata": {},
     "output_type": "execute_result"
    }
   ],
   "source": [
    "text = '76084 likes • '\n",
    "re.findall('(\\d+) like',text)[0]"
   ]
  },
  {
   "cell_type": "code",
   "execution_count": 213,
   "id": "7b92c049",
   "metadata": {},
   "outputs": [],
   "source": [
    "matches  = re.compile('like')"
   ]
  },
  {
   "cell_type": "code",
   "execution_count": 215,
   "id": "7d3c76f9",
   "metadata": {},
   "outputs": [],
   "source": [
    "text = ' 10 like'"
   ]
  },
  {
   "cell_type": "code",
   "execution_count": 222,
   "id": "cfdfafb2",
   "metadata": {},
   "outputs": [
    {
     "data": {
      "text/plain": [
       "<re.Match object; span=(7, 11), match='like'>"
      ]
     },
     "execution_count": 222,
     "metadata": {},
     "output_type": "execute_result"
    }
   ],
   "source": [
    "re.search('like', 'no one like')"
   ]
  },
  {
   "cell_type": "code",
   "execution_count": 229,
   "id": "9d474c30",
   "metadata": {
    "scrolled": true
   },
   "outputs": [
    {
     "name": "stdout",
     "output_type": "stream",
     "text": [
      "416426223920370\n",
      "ID: 111910651565560 1 @itsahmedmagdy 30429\n",
      "\n",
      "ID: 103487002066679 76087 @muskandoud 1425\n",
      "\n",
      "@evelite3 64 @evelite.liteshop 1919\n",
      "\n",
      "@AlaFainShow 66039 @alafainshow 843\n",
      "\n",
      "@solesperfume 3 Insta Followers 0\n",
      "\n",
      "ID: 105997005577043 305 Insta Followers 0\n",
      "\n",
      "@mazeejaloudeygpt 10699 @mazeej_aloud 6456\n",
      "\n"
     ]
    },
    {
     "ename": "TimeoutException",
     "evalue": "Message: \n",
     "output_type": "error",
     "traceback": [
      "\u001b[1;31m---------------------------------------------------------------------------\u001b[0m",
      "\u001b[1;31mTimeoutException\u001b[0m                          Traceback (most recent call last)",
      "Input \u001b[1;32mIn [229]\u001b[0m, in \u001b[0;36m<cell line: 1>\u001b[1;34m()\u001b[0m\n\u001b[0;32m      8\u001b[0m FB_ID ,page_likes ,  Insta_ID ,insta_followers \u001b[38;5;241m=\u001b[39m \u001b[38;5;124m\"\u001b[39m\u001b[38;5;124mNO FB ID\u001b[39m\u001b[38;5;124m\"\u001b[39m,\u001b[38;5;124m\"\u001b[39m\u001b[38;5;124m0\u001b[39m\u001b[38;5;124m\"\u001b[39m,\u001b[38;5;124m\"\u001b[39m\u001b[38;5;124mInsta Followers\u001b[39m\u001b[38;5;124m\"\u001b[39m,\u001b[38;5;124m\"\u001b[39m\u001b[38;5;124m0\u001b[39m\u001b[38;5;124m\"\u001b[39m\n\u001b[0;32m     10\u001b[0m \u001b[38;5;66;03m# try:\u001b[39;00m\n\u001b[0;32m     11\u001b[0m \u001b[38;5;66;03m#all pages\u001b[39;00m\n\u001b[1;32m---> 12\u001b[0m pages \u001b[38;5;241m=\u001b[39m \u001b[43mWebDriverWait\u001b[49m\u001b[43m(\u001b[49m\u001b[43mabout_the_page\u001b[49m\u001b[43m,\u001b[49m\u001b[43m \u001b[49m\u001b[38;5;241;43m2\u001b[39;49m\u001b[43m)\u001b[49m\u001b[38;5;241;43m.\u001b[39;49m\u001b[43muntil\u001b[49m\u001b[43m(\u001b[49m\u001b[43mEC\u001b[49m\u001b[38;5;241;43m.\u001b[39;49m\u001b[43mpresence_of_all_elements_located\u001b[49m\u001b[43m(\u001b[49m\u001b[43m(\u001b[49m\u001b[43mBy\u001b[49m\u001b[38;5;241;43m.\u001b[39;49m\u001b[43mCSS_SELECTOR\u001b[49m\u001b[43m,\u001b[49m\u001b[38;5;124;43m'\u001b[39;49m\u001b[38;5;124;43mdiv[class=\u001b[39;49m\u001b[38;5;124;43m\"\u001b[39;49m\u001b[38;5;124;43mhael596l alzwoclg c61n2bf6 q46jt4gp bq6c9xl4 r9sb4e79\u001b[39;49m\u001b[38;5;124;43m\"\u001b[39;49m\u001b[38;5;124;43m]\u001b[39;49m\u001b[38;5;124;43m'\u001b[39;49m\u001b[43m)\u001b[49m\u001b[43m)\u001b[49m\u001b[43m)\u001b[49m\n\u001b[0;32m     13\u001b[0m \u001b[38;5;28;01mfor\u001b[39;00m s \u001b[38;5;129;01min\u001b[39;00m pages:\n\u001b[0;32m     14\u001b[0m     \u001b[38;5;66;03m#get the class type \u001b[39;00m\n\u001b[0;32m     15\u001b[0m \u001b[38;5;66;03m#     text = s.find_element(By.XPATH,'./div[2]/div[2]').text.replace(',','')\u001b[39;00m\n\u001b[0;32m     16\u001b[0m     text \u001b[38;5;241m=\u001b[39m s\u001b[38;5;241m.\u001b[39mfind_element(By\u001b[38;5;241m.\u001b[39mXPATH,\u001b[38;5;124m'\u001b[39m\u001b[38;5;124m.\u001b[39m\u001b[38;5;124m'\u001b[39m)\u001b[38;5;241m.\u001b[39mtext\u001b[38;5;241m.\u001b[39mreplace(\u001b[38;5;124m'\u001b[39m\u001b[38;5;124m,\u001b[39m\u001b[38;5;124m'\u001b[39m,\u001b[38;5;124m'\u001b[39m\u001b[38;5;124m'\u001b[39m)\n",
      "File \u001b[1;32m~\\anaconda3\\lib\\site-packages\\selenium\\webdriver\\support\\wait.py:90\u001b[0m, in \u001b[0;36mWebDriverWait.until\u001b[1;34m(self, method, message)\u001b[0m\n\u001b[0;32m     88\u001b[0m     \u001b[38;5;28;01mif\u001b[39;00m time\u001b[38;5;241m.\u001b[39mmonotonic() \u001b[38;5;241m>\u001b[39m end_time:\n\u001b[0;32m     89\u001b[0m         \u001b[38;5;28;01mbreak\u001b[39;00m\n\u001b[1;32m---> 90\u001b[0m \u001b[38;5;28;01mraise\u001b[39;00m TimeoutException(message, screen, stacktrace)\n",
      "\u001b[1;31mTimeoutException\u001b[0m: Message: \n"
     ]
    }
   ],
   "source": [
    "for element in elements:\n",
    "    print(find_ID(element))\n",
    "    main_element = click_see_ad_details(element)\n",
    "\n",
    "    #ABOUT THE PAGE ELEMENT\n",
    "    about_the_page = WebDriverWait(main_element, 10).until(EC.presence_of_element_located((By.XPATH,'./div[2]/div/div/div/div/div[3]/span/div[2]/div/div')))  \n",
    "\n",
    "    FB_ID ,page_likes ,  Insta_ID ,insta_followers = \"NO FB ID\",\"0\",\"Insta Followers\",\"0\"\n",
    "\n",
    "    # try:\n",
    "    #all pages\n",
    "    pages = WebDriverWait(about_the_page, 2).until(EC.presence_of_all_elements_located((By.CSS_SELECTOR,'div[class=\"hael596l alzwoclg c61n2bf6 q46jt4gp bq6c9xl4 r9sb4e79\"]')))\n",
    "    for s in pages:\n",
    "        #get the class type \n",
    "    #     text = s.find_element(By.XPATH,'./div[2]/div[2]').text.replace(',','')\n",
    "        text = s.find_element(By.XPATH,'.').text.replace(',','')\n",
    "        #facebook \n",
    "        if re.search('like', text):\n",
    "            FB_ID = s.find_element(By.XPATH,'./div[2]/div[1]').text\n",
    "            page_likes = int(re.findall('(\\d+) like' , text)[0])\n",
    "        if re.search('follower', text):\n",
    "            Insta_ID = s.find_element(By.XPATH,'./div[2]/div[1]').text\n",
    "            insta_followers = int(re.findall('(\\d+) follower' , text)[0])\n",
    "        #instgram \n",
    "\n",
    "    #     print(text)\n",
    "    #     print(\"_________\")\n",
    "    #     platform = platforms[s.find_element(By.CSS_SELECTOR,'i').get_attribute('class')]\n",
    "    #     if platform == 'facebook':\n",
    "    #         FB_ID = s.find_element(By.XPATH,'./div[2]/div[1]').text\n",
    "    #         page_likes = int(re.findall('(\\d+)' , text)[0])\n",
    "    #     else:\n",
    "    #         pass\n",
    "    #     if platform == 'instgram':\n",
    "    #         Insta_ID = s.find_element(By.XPATH,'./div[2]/div[1]').text\n",
    "    #         insta_followers = int(re.findall('(\\d+)' , text)[0])\n",
    "    #     else:\n",
    "    #         pass\n",
    "    # except:\n",
    "    #     pass\n",
    "    webdriver.ActionChains(driver).send_keys(Keys.ESCAPE).perform()\n",
    "    print(FB_ID ,page_likes ,  Insta_ID ,insta_followers )\n",
    "    "
   ]
  },
  {
   "cell_type": "markdown",
   "id": "cc768c10",
   "metadata": {},
   "source": [
    "### terms test area\n"
   ]
  },
  {
   "cell_type": "code",
   "execution_count": 41,
   "id": "48519089",
   "metadata": {},
   "outputs": [],
   "source": [
    "terms = '''\n",
    "better\n",
    "works\\worked\n",
    "acne\n",
    "breakouts\n",
    "saggy\n",
    "baggy\n",
    "squint\n",
    "correct\n",
    "exfoliate\n",
    "body \n",
    "after bath \n",
    "cool \n",
    "couple\n",
    "armpit\n",
    "skin \n",
    "smooth\n",
    "soft \n",
    "boost \n",
    "shower \n",
    "cream \n",
    "scent \n",
    "nails\n",
    "sweet \n",
    "trim\n",
    "soap \n",
    "wrinkles\n",
    "eyebrows\n",
    "dollar\n",
    "usd\n",
    "dhr\n",
    "ريال\n",
    "sar\n",
    "riyal\n",
    "Perfect\n",
    "relieve\n",
    "anti-stink\n",
    "fabletics\n",
    "'''.split()"
   ]
  },
  {
   "cell_type": "code",
   "execution_count": 55,
   "id": "11d98614",
   "metadata": {},
   "outputs": [
    {
     "name": "stdout",
     "output_type": "stream",
     "text": [
      "\n"
     ]
    },
    {
     "name": "stderr",
     "output_type": "stream",
     "text": [
      "[WDM] - ====== WebDriver manager ======\n",
      "[WDM] - Current google-chrome version is 104.0.5112\n",
      "[WDM] - Get LATEST chromedriver version for 104.0.5112 google-chrome\n",
      "[WDM] - Driver [C:\\Users\\asd_v\\.wdm\\drivers\\chromedriver\\win32\\104.0.5112.79\\chromedriver.exe] found in cache\n"
     ]
    }
   ],
   "source": [
    "driver = open_driver()"
   ]
  },
  {
   "cell_type": "code",
   "execution_count": null,
   "id": "55609537",
   "metadata": {
    "scrolled": true
   },
   "outputs": [],
   "source": [
    "strt = datetime.now()\n",
    "for term in terms:\n",
    "    print(term)\n",
    "    print(datetime.now() - strt)\n",
    "    open_link(term)\n",
    "    scroll_down(20)\n",
    "    elements = driver.find_elements(By.CSS_SELECTOR, value = 'div[class=\"_99s5\"]')[0:5]\n",
    "    for element in elements:\n",
    "        print(find_ID(element))\n",
    "        print(find_page_ad_count(element))\n",
    "    print(\"____________\")    \n",
    "    #     print(find_start_date(element))\n",
    "    #     print(find_profile_pic(element))\n",
    "    #     print(find_links(element))\n",
    "    #     print(find_ad_videos(element))\n",
    "    #     print(find_content(element))\n",
    "    #     print(find_footer(element))\n",
    "    #     print(find_page_name(element))\n",
    "    #     print(find_ads_occurence(element))\n",
    "    #     print(get_page_data(element))\n",
    "        "
   ]
  },
  {
   "cell_type": "markdown",
   "id": "b8365b8f",
   "metadata": {},
   "source": [
    "### database codes"
   ]
  },
  {
   "cell_type": "code",
   "execution_count": 142,
   "id": "69ca3def",
   "metadata": {},
   "outputs": [],
   "source": [
    "# Create database\n",
    "conn = sqlite3.connect('FaceBoookADS.db')\n",
    "c = conn.cursor()\n",
    "c.execute('''DROP TABLE ads2''')\n",
    "c.execute('''\n",
    "CREATE TABLE ads2\n",
    "(AD_ID TEXT PRIMARY KEY,\n",
    "date TEXT,\n",
    "days TEXT,\n",
    "hits INT,\n",
    "search_term TEXT)''')\n",
    "conn.commit()\n",
    "conn.close()"
   ]
  },
  {
   "cell_type": "code",
   "execution_count": 143,
   "id": "95fff978",
   "metadata": {},
   "outputs": [],
   "source": [
    "# Insert Values\n",
    "conn = sqlite3.connect('FaceBoookADS.db')\n",
    "c = conn.cursor()\n",
    "# text = datetime.now().strftime(\"%d/%m/%Y %H:%M:%S\")\n",
    "# text = text + ' '  + 'ريال'\n",
    "date = datetime.now().strftime(\"%d/%m/%Y %H:%M:%S\")\n",
    "days = datetime.now().strftime(\"%d/%m/%Y\")\n",
    "hits = 0\n",
    "search_term = 'ريال'\n",
    "c.execute(\"INSERT INTO ads2 VALUES (?, ?,?,?,?)\", ('ID1', date,days,hits,search_term))\n",
    "conn.commit()\n",
    "conn.close()"
   ]
  },
  {
   "cell_type": "code",
   "execution_count": 109,
   "id": "775ce436",
   "metadata": {},
   "outputs": [],
   "source": [
    "conn = sqlite3.connect('FaceBoookADS.db')\n",
    "c = conn.cursor()\n",
    "text = datetime.now().strftime(\"%d/%m/%Y %H:%M:%S\")\n",
    "text = text + ' '  + 'ريال'\n",
    "c.execute(\"UPDATE ads2 SET appears_Dates =  ?  where AD_ID = ?\", (text, 'test1'))\n",
    "conn.commit()\n",
    "conn.close()"
   ]
  },
  {
   "cell_type": "code",
   "execution_count": 149,
   "id": "542b64c3",
   "metadata": {},
   "outputs": [],
   "source": [
    "conn = sqlite3.connect('FaceBoookADS.db')\n",
    "c = conn.cursor()\n",
    "text = datetime.now().strftime(\"%d/%m/%Y %H:%M:%S\")\n",
    "text = text + ' '  + 'ريال'\n",
    "c.execute(\"UPDATE ads2 SET date = date|| ',' || ? , days = days || ',' || ? , hits = hits + 1 , search_term = search_term || ',' || ?   where AD_ID = ?\", (date,days,search_term, 'ID1'))\n",
    "conn.commit()\n",
    "conn.close()"
   ]
  },
  {
   "cell_type": "code",
   "execution_count": 114,
   "id": "c50155fb",
   "metadata": {},
   "outputs": [
    {
     "name": "stdout",
     "output_type": "stream",
     "text": [
      "['30/08/2022', '16:09:48', 'ريال']\n",
      "['30/08/2022', '16:09:50', 'ريال']\n"
     ]
    }
   ],
   "source": [
    "# Read Values\n",
    "conn = sqlite3.connect('FaceBoookADS.db')\n",
    "c = conn.cursor()\n",
    "\n",
    "for row in c.execute('SELECT * FROM ads2'):\n",
    "    value = row[1]\n",
    "#     print(row[1])\n",
    "\n",
    "# number = [row[2] for row in c.execute('SELECT * FROM tablename')]\n",
    "conn.close()\n",
    "for i in value.split(','):\n",
    "    print(i.split())"
   ]
  },
  {
   "cell_type": "code",
   "execution_count": 122,
   "id": "3f87b4a9",
   "metadata": {},
   "outputs": [
    {
     "data": {
      "text/plain": [
       "['30/08/2022 16:09:48 ريال', '30/08/2022 16:09:50 ريال']"
      ]
     },
     "execution_count": 122,
     "metadata": {},
     "output_type": "execute_result"
    }
   ],
   "source": [
    "\n",
    "value.split(',')"
   ]
  },
  {
   "cell_type": "code",
   "execution_count": 117,
   "id": "215965a1",
   "metadata": {},
   "outputs": [
    {
     "data": {
      "text/plain": [
       "['30/08/2022 16:09:48 ريال', '30/08/2022 16:09:50 ريال']"
      ]
     },
     "execution_count": 117,
     "metadata": {},
     "output_type": "execute_result"
    }
   ],
   "source": [
    "value.split(',')"
   ]
  }
 ],
 "metadata": {
  "kernelspec": {
   "display_name": "Python 3 (ipykernel)",
   "language": "python",
   "name": "python3"
  },
  "language_info": {
   "codemirror_mode": {
    "name": "ipython",
    "version": 3
   },
   "file_extension": ".py",
   "mimetype": "text/x-python",
   "name": "python",
   "nbconvert_exporter": "python",
   "pygments_lexer": "ipython3",
   "version": "3.9.12"
  }
 },
 "nbformat": 4,
 "nbformat_minor": 5
}
