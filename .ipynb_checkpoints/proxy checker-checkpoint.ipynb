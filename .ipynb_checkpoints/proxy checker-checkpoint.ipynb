{
 "cells": [
  {
   "cell_type": "code",
   "execution_count": 2,
   "id": "c060c85a",
   "metadata": {},
   "outputs": [
    {
     "name": "stdout",
     "output_type": "stream",
     "text": [
      "\n"
     ]
    },
    {
     "name": "stderr",
     "output_type": "stream",
     "text": [
      "[WDM] - ====== WebDriver manager ======\n",
      "[WDM] - Current google-chrome version is 103.0.5060\n",
      "[WDM] - Get LATEST chromedriver version for 103.0.5060 google-chrome\n",
      "[WDM] - Driver [C:\\Users\\asd_v\\.wdm\\drivers\\chromedriver\\win32\\103.0.5060.134\\chromedriver.exe] found in cache\n"
     ]
    }
   ],
   "source": [
    "import pandas as pd\n",
    "from selenium import webdriver\n",
    "from selenium.webdriver.chrome.options import Options\n",
    "from selenium.webdriver.common.keys import Keys\n",
    "from selenium.webdriver.common.by import By\n",
    "from selenium.webdriver.chrome.service import Service\n",
    "from webdriver_manager.chrome import ChromeDriverManager\n",
    "from selenium.webdriver.support.ui import Select\n",
    "from selenium.webdriver.support.ui import WebDriverWait\n",
    "\n",
    "from selenium import webdriver\n",
    "import urllib.request\n",
    "import socket\n",
    "import urllib.error\n",
    "\n",
    "import time\n",
    "import csv\n",
    "import random\n",
    "import threading as th\n",
    "from selenium import webdriver\n",
    "from selenium.webdriver.common.proxy import Proxy, ProxyType\n",
    "import time\n",
    "\n",
    "\n",
    "options = webdriver.ChromeOptions()\n",
    "\n",
    "driver = webdriver.Chrome(service=Service(ChromeDriverManager().install()))\n"
   ]
  },
  {
   "cell_type": "code",
   "execution_count": 64,
   "id": "b5991e77",
   "metadata": {},
   "outputs": [],
   "source": [
    "link = 'https://www.freeproxylists.net/?page=1'\n",
    "driver.get(link)\n",
    "IP  = [s.text for s in driver.find_elements(By.XPATH,value = '/html/body/div[1]/div[2]/table/tbody/tr/td[1]')]\n",
    "Port  =[s.text for s in driver.find_elements(By.XPATH,value = '/html/body/div[1]/div[2]/table/tbody/tr/td[2]')]\n",
    "Protocol  = [s.text for s in driver.find_elements(By.XPATH,value = '/html/body/div[1]/div[2]/table/tbody/tr/td[3]')]\n",
    "\n",
    "while True:\n",
    "    try:\n",
    "        IP.remove('')\n",
    "    except:\n",
    "        break\n",
    "        \n",
    "proxy = [i+\":\"+y for i , y in zip(IP,Port)]\n",
    "proxy.pop(0)\n",
    "Protocol.pop(0)\n",
    "df = pd.DataFrame(columns=[\"protocol','proxy'])\n",
    "\n",
    "df[df.columns[0]] = Protocol\n",
    "df[df.columns[1]] = proxy\n",
    "df.head()\n",
    "\n"
   ]
  },
  {
   "cell_type": "code",
   "execution_count": 117,
   "id": "55e5988a",
   "metadata": {},
   "outputs": [
    {
     "name": "stdout",
     "output_type": "stream",
     "text": [
      "https://www.freeproxylists.net/?page=1\n",
      "https://www.freeproxylists.net/?page=2\n",
      "https://www.freeproxylists.net/?page=3\n",
      "https://www.freeproxylists.net/?page=4\n",
      "https://www.freeproxylists.net/?page=5\n",
      "https://www.freeproxylists.net/?page=6\n"
     ]
    }
   ],
   "source": [
    "for i in range(1,int(last_page)+1):\n",
    "    link = f'https://www.freeproxylists.net/?page={i}'\n",
    "    print(link)"
   ]
  },
  {
   "cell_type": "code",
   "execution_count": 119,
   "id": "47faa096",
   "metadata": {},
   "outputs": [
    {
     "name": "stdout",
     "output_type": "stream",
     "text": [
      "50\n",
      "100\n",
      "150\n",
      "200\n",
      "250\n",
      "296\n"
     ]
    },
    {
     "data": {
      "text/html": [
       "<div>\n",
       "<style scoped>\n",
       "    .dataframe tbody tr th:only-of-type {\n",
       "        vertical-align: middle;\n",
       "    }\n",
       "\n",
       "    .dataframe tbody tr th {\n",
       "        vertical-align: top;\n",
       "    }\n",
       "\n",
       "    .dataframe thead th {\n",
       "        text-align: right;\n",
       "    }\n",
       "</style>\n",
       "<table border=\"1\" class=\"dataframe\">\n",
       "  <thead>\n",
       "    <tr style=\"text-align: right;\">\n",
       "      <th></th>\n",
       "      <th>protocol</th>\n",
       "      <th>proxy</th>\n",
       "    </tr>\n",
       "  </thead>\n",
       "  <tbody>\n",
       "    <tr>\n",
       "      <th>0</th>\n",
       "      <td>109.194.101.128:3128</td>\n",
       "      <td>HTTP</td>\n",
       "    </tr>\n",
       "    <tr>\n",
       "      <th>1</th>\n",
       "      <td>165.16.46.215:8080</td>\n",
       "      <td>HTTP</td>\n",
       "    </tr>\n",
       "    <tr>\n",
       "      <th>2</th>\n",
       "      <td>154.79.242.178:1686</td>\n",
       "      <td>HTTP</td>\n",
       "    </tr>\n",
       "    <tr>\n",
       "      <th>3</th>\n",
       "      <td>20.84.57.125:3128</td>\n",
       "      <td>HTTP</td>\n",
       "    </tr>\n",
       "    <tr>\n",
       "      <th>4</th>\n",
       "      <td>103.252.45.161:2019</td>\n",
       "      <td>HTTPS</td>\n",
       "    </tr>\n",
       "    <tr>\n",
       "      <th>...</th>\n",
       "      <td>...</td>\n",
       "      <td>...</td>\n",
       "    </tr>\n",
       "    <tr>\n",
       "      <th>41</th>\n",
       "      <td>14.140.131.82:3128</td>\n",
       "      <td>HTTP</td>\n",
       "    </tr>\n",
       "    <tr>\n",
       "      <th>42</th>\n",
       "      <td>117.54.114.99:80</td>\n",
       "      <td>HTTP</td>\n",
       "    </tr>\n",
       "    <tr>\n",
       "      <th>43</th>\n",
       "      <td>45.70.236.123:999</td>\n",
       "      <td>HTTPS</td>\n",
       "    </tr>\n",
       "    <tr>\n",
       "      <th>44</th>\n",
       "      <td>118.212.152.82:9091</td>\n",
       "      <td>HTTP</td>\n",
       "    </tr>\n",
       "    <tr>\n",
       "      <th>45</th>\n",
       "      <td>218.201.77.143:9091</td>\n",
       "      <td>HTTP</td>\n",
       "    </tr>\n",
       "  </tbody>\n",
       "</table>\n",
       "<p>296 rows × 2 columns</p>\n",
       "</div>"
      ],
      "text/plain": [
       "                protocol  proxy\n",
       "0   109.194.101.128:3128   HTTP\n",
       "1     165.16.46.215:8080   HTTP\n",
       "2    154.79.242.178:1686   HTTP\n",
       "3      20.84.57.125:3128   HTTP\n",
       "4    103.252.45.161:2019  HTTPS\n",
       "..                   ...    ...\n",
       "41    14.140.131.82:3128   HTTP\n",
       "42      117.54.114.99:80   HTTP\n",
       "43     45.70.236.123:999  HTTPS\n",
       "44   118.212.152.82:9091   HTTP\n",
       "45   218.201.77.143:9091   HTTP\n",
       "\n",
       "[296 rows x 2 columns]"
      ]
     },
     "execution_count": 119,
     "metadata": {},
     "output_type": "execute_result"
    }
   ],
   "source": [
    "link = 'https://www.freeproxylists.net/?page=1'\n",
    "driver.get(link)\n",
    "df = pd.DataFrame(columns=[\"protocol\",'proxy'])\n",
    "time.sleep(1)\n",
    "last_page = driver.find_elements(By.XPATH,value = '/html/body/div[1]/div[2]/div[2]/a')[-2].text\n",
    "for i in range(1,int(last_page)+1):\n",
    "    link = f'https://www.freeproxylists.net/?page={i}'\n",
    "    driver.get(link)\n",
    "    time.sleep(2)\n",
    "    IP  = [s.text for s in driver.find_elements(By.XPATH,value = '/html/body/div[1]/div[2]/table/tbody/tr/td[1]')]\n",
    "    Port  =[s.text for s in driver.find_elements(By.XPATH,value = '/html/body/div[1]/div[2]/table/tbody/tr/td[2]')]\n",
    "    Protocol  = [s.text for s in driver.find_elements(By.XPATH,value = '/html/body/div[1]/div[2]/table/tbody/tr/td[3]')]\n",
    "    while True:\n",
    "        try:\n",
    "            IP.remove('')\n",
    "        except:\n",
    "            break\n",
    "        \n",
    "    proxy = [i+\":\"+y for i , y in zip(IP,Port)]\n",
    "    proxy.pop(0)\n",
    "    Protocol.pop(0)\n",
    "    new_df = pd.DataFrame(list(zip(proxy, Protocol)),columns=[\"protocol\",'proxy'])\n",
    "    df = pd.concat([df, new_df])\n",
    "    print(len(df))\n",
    "#     df = pd.DataFrame(columns=[\"protocol\",'proxy'])\n",
    "\n",
    "#     df[df.columns[0]] = Protocol\n",
    "#     df[df.columns[1]] = proxy\n",
    "#     df.head()\n",
    "df    "
   ]
  },
  {
   "cell_type": "code",
   "execution_count": null,
   "id": "90f83c80",
   "metadata": {},
   "outputs": [],
   "source": []
  },
  {
   "cell_type": "code",
   "execution_count": null,
   "id": "c4dcd8e3",
   "metadata": {},
   "outputs": [],
   "source": []
  },
  {
   "cell_type": "code",
   "execution_count": 52,
   "id": "6dc8577c",
   "metadata": {},
   "outputs": [
    {
     "name": "stdout",
     "output_type": "stream",
     "text": [
      "\n"
     ]
    },
    {
     "name": "stderr",
     "output_type": "stream",
     "text": [
      "[WDM] - ====== WebDriver manager ======\n",
      "[WDM] - Current google-chrome version is 103.0.5060\n",
      "[WDM] - Get LATEST chromedriver version for 103.0.5060 google-chrome\n",
      "[WDM] - Driver [C:\\Users\\asd_v\\.wdm\\drivers\\chromedriver\\win32\\103.0.5060.134\\chromedriver.exe] found in cache\n"
     ]
    },
    {
     "ename": "WebDriverException",
     "evalue": "Message: unknown error: net::ERR_PROXY_CONNECTION_FAILED\n  (Session info: chrome=103.0.5060.134)\nStacktrace:\nBacktrace:\n\tOrdinal0 [0x004F5FD3+2187219]\n\tOrdinal0 [0x0048E6D1+1763025]\n\tOrdinal0 [0x003A3E78+802424]\n\tOrdinal0 [0x003A05C8+787912]\n\tOrdinal0 [0x003965AD+746925]\n\tOrdinal0 [0x003971E2+750050]\n\tOrdinal0 [0x003967BA+747450]\n\tOrdinal0 [0x00395D3F+744767]\n\tOrdinal0 [0x00394C28+740392]\n\tOrdinal0 [0x003950FD+741629]\n\tOrdinal0 [0x003A5644+808516]\n\tOrdinal0 [0x003FD66D+1169005]\n\tOrdinal0 [0x003ECB8C+1100684]\n\tOrdinal0 [0x003FCFC2+1167298]\n\tOrdinal0 [0x003EC9A6+1100198]\n\tOrdinal0 [0x003C6F80+946048]\n\tOrdinal0 [0x003C7E76+949878]\n\tGetHandleVerifier [0x007990C2+2721218]\n\tGetHandleVerifier [0x0078AAF0+2662384]\n\tGetHandleVerifier [0x0058137A+526458]\n\tGetHandleVerifier [0x00580416+522518]\n\tOrdinal0 [0x00494EAB+1789611]\n\tOrdinal0 [0x004997A8+1808296]\n\tOrdinal0 [0x00499895+1808533]\n\tOrdinal0 [0x004A26C1+1844929]\n\tBaseThreadInitThunk [0x75DEFA29+25]\n\tRtlGetAppContainerNamedObjectPath [0x77947A9E+286]\n\tRtlGetAppContainerNamedObjectPath [0x77947A6E+238]\n",
     "output_type": "error",
     "traceback": [
      "\u001b[1;31m---------------------------------------------------------------------------\u001b[0m",
      "\u001b[1;31mWebDriverException\u001b[0m                        Traceback (most recent call last)",
      "Input \u001b[1;32mIn [52]\u001b[0m, in \u001b[0;36m<cell line: 43>\u001b[1;34m()\u001b[0m\n\u001b[0;32m     40\u001b[0m \u001b[38;5;66;03m# replace 'your_absolute_path' with your chrome binary absolute path\u001b[39;00m\n\u001b[0;32m     41\u001b[0m driver \u001b[38;5;241m=\u001b[39m webdriver\u001b[38;5;241m.\u001b[39mChrome(service\u001b[38;5;241m=\u001b[39mService(ChromeDriverManager()\u001b[38;5;241m.\u001b[39minstall()),desired_capabilities\u001b[38;5;241m=\u001b[39mcapabilities)\n\u001b[1;32m---> 43\u001b[0m \u001b[43mdriver\u001b[49m\u001b[38;5;241;43m.\u001b[39;49m\u001b[43mget\u001b[49m\u001b[43m(\u001b[49m\u001b[38;5;124;43m'\u001b[39;49m\u001b[38;5;124;43mhttp://whatismyipaddress.com\u001b[39;49m\u001b[38;5;124;43m'\u001b[39;49m\u001b[43m)\u001b[49m\n",
      "File \u001b[1;32m~\\anaconda3\\lib\\site-packages\\selenium\\webdriver\\remote\\webdriver.py:447\u001b[0m, in \u001b[0;36mWebDriver.get\u001b[1;34m(self, url)\u001b[0m\n\u001b[0;32m    443\u001b[0m \u001b[38;5;28;01mdef\u001b[39;00m \u001b[38;5;21mget\u001b[39m(\u001b[38;5;28mself\u001b[39m, url: \u001b[38;5;28mstr\u001b[39m) \u001b[38;5;241m-\u001b[39m\u001b[38;5;241m>\u001b[39m \u001b[38;5;28;01mNone\u001b[39;00m:\n\u001b[0;32m    444\u001b[0m     \u001b[38;5;124;03m\"\"\"\u001b[39;00m\n\u001b[0;32m    445\u001b[0m \u001b[38;5;124;03m    Loads a web page in the current browser session.\u001b[39;00m\n\u001b[0;32m    446\u001b[0m \u001b[38;5;124;03m    \"\"\"\u001b[39;00m\n\u001b[1;32m--> 447\u001b[0m     \u001b[38;5;28;43mself\u001b[39;49m\u001b[38;5;241;43m.\u001b[39;49m\u001b[43mexecute\u001b[49m\u001b[43m(\u001b[49m\u001b[43mCommand\u001b[49m\u001b[38;5;241;43m.\u001b[39;49m\u001b[43mGET\u001b[49m\u001b[43m,\u001b[49m\u001b[43m \u001b[49m\u001b[43m{\u001b[49m\u001b[38;5;124;43m'\u001b[39;49m\u001b[38;5;124;43murl\u001b[39;49m\u001b[38;5;124;43m'\u001b[39;49m\u001b[43m:\u001b[49m\u001b[43m \u001b[49m\u001b[43murl\u001b[49m\u001b[43m}\u001b[49m\u001b[43m)\u001b[49m\n",
      "File \u001b[1;32m~\\anaconda3\\lib\\site-packages\\selenium\\webdriver\\remote\\webdriver.py:435\u001b[0m, in \u001b[0;36mWebDriver.execute\u001b[1;34m(self, driver_command, params)\u001b[0m\n\u001b[0;32m    433\u001b[0m response \u001b[38;5;241m=\u001b[39m \u001b[38;5;28mself\u001b[39m\u001b[38;5;241m.\u001b[39mcommand_executor\u001b[38;5;241m.\u001b[39mexecute(driver_command, params)\n\u001b[0;32m    434\u001b[0m \u001b[38;5;28;01mif\u001b[39;00m response:\n\u001b[1;32m--> 435\u001b[0m     \u001b[38;5;28;43mself\u001b[39;49m\u001b[38;5;241;43m.\u001b[39;49m\u001b[43merror_handler\u001b[49m\u001b[38;5;241;43m.\u001b[39;49m\u001b[43mcheck_response\u001b[49m\u001b[43m(\u001b[49m\u001b[43mresponse\u001b[49m\u001b[43m)\u001b[49m\n\u001b[0;32m    436\u001b[0m     response[\u001b[38;5;124m'\u001b[39m\u001b[38;5;124mvalue\u001b[39m\u001b[38;5;124m'\u001b[39m] \u001b[38;5;241m=\u001b[39m \u001b[38;5;28mself\u001b[39m\u001b[38;5;241m.\u001b[39m_unwrap_value(\n\u001b[0;32m    437\u001b[0m         response\u001b[38;5;241m.\u001b[39mget(\u001b[38;5;124m'\u001b[39m\u001b[38;5;124mvalue\u001b[39m\u001b[38;5;124m'\u001b[39m, \u001b[38;5;28;01mNone\u001b[39;00m))\n\u001b[0;32m    438\u001b[0m     \u001b[38;5;28;01mreturn\u001b[39;00m response\n",
      "File \u001b[1;32m~\\anaconda3\\lib\\site-packages\\selenium\\webdriver\\remote\\errorhandler.py:247\u001b[0m, in \u001b[0;36mErrorHandler.check_response\u001b[1;34m(self, response)\u001b[0m\n\u001b[0;32m    245\u001b[0m         alert_text \u001b[38;5;241m=\u001b[39m value[\u001b[38;5;124m'\u001b[39m\u001b[38;5;124malert\u001b[39m\u001b[38;5;124m'\u001b[39m]\u001b[38;5;241m.\u001b[39mget(\u001b[38;5;124m'\u001b[39m\u001b[38;5;124mtext\u001b[39m\u001b[38;5;124m'\u001b[39m)\n\u001b[0;32m    246\u001b[0m     \u001b[38;5;28;01mraise\u001b[39;00m exception_class(message, screen, stacktrace, alert_text)  \u001b[38;5;66;03m# type: ignore[call-arg]  # mypy is not smart enough here\u001b[39;00m\n\u001b[1;32m--> 247\u001b[0m \u001b[38;5;28;01mraise\u001b[39;00m exception_class(message, screen, stacktrace)\n",
      "\u001b[1;31mWebDriverException\u001b[0m: Message: unknown error: net::ERR_PROXY_CONNECTION_FAILED\n  (Session info: chrome=103.0.5060.134)\nStacktrace:\nBacktrace:\n\tOrdinal0 [0x004F5FD3+2187219]\n\tOrdinal0 [0x0048E6D1+1763025]\n\tOrdinal0 [0x003A3E78+802424]\n\tOrdinal0 [0x003A05C8+787912]\n\tOrdinal0 [0x003965AD+746925]\n\tOrdinal0 [0x003971E2+750050]\n\tOrdinal0 [0x003967BA+747450]\n\tOrdinal0 [0x00395D3F+744767]\n\tOrdinal0 [0x00394C28+740392]\n\tOrdinal0 [0x003950FD+741629]\n\tOrdinal0 [0x003A5644+808516]\n\tOrdinal0 [0x003FD66D+1169005]\n\tOrdinal0 [0x003ECB8C+1100684]\n\tOrdinal0 [0x003FCFC2+1167298]\n\tOrdinal0 [0x003EC9A6+1100198]\n\tOrdinal0 [0x003C6F80+946048]\n\tOrdinal0 [0x003C7E76+949878]\n\tGetHandleVerifier [0x007990C2+2721218]\n\tGetHandleVerifier [0x0078AAF0+2662384]\n\tGetHandleVerifier [0x0058137A+526458]\n\tGetHandleVerifier [0x00580416+522518]\n\tOrdinal0 [0x00494EAB+1789611]\n\tOrdinal0 [0x004997A8+1808296]\n\tOrdinal0 [0x00499895+1808533]\n\tOrdinal0 [0x004A26C1+1844929]\n\tBaseThreadInitThunk [0x75DEFA29+25]\n\tRtlGetAppContainerNamedObjectPath [0x77947A9E+286]\n\tRtlGetAppContainerNamedObjectPath [0x77947A6E+238]\n"
     ]
    }
   ],
   "source": [
    "import pandas as pd\n",
    "from selenium import webdriver\n",
    "from selenium.webdriver.chrome.options import Options\n",
    "from selenium.webdriver.common.keys import Keys\n",
    "from selenium.webdriver.common.by import By\n",
    "from selenium.webdriver.chrome.service import Service\n",
    "from webdriver_manager.chrome import ChromeDriverManager\n",
    "from selenium.webdriver.support.ui import Select\n",
    "from selenium.webdriver.support.ui import WebDriverWait\n",
    "\n",
    "from selenium import webdriver\n",
    "\n",
    "import time\n",
    "import csv\n",
    "import random\n",
    "import threading as th\n",
    "\n",
    "# PROXY = \"11.456.448.110:8080\"\n",
    "# chrome_options.add_argument('--proxy-server=%s' % PROXY)\n",
    "# options = webdriver.ChromeOptions()\n",
    "# # options.add_argument('--proxy-server=%s' % PROXY)\n",
    "# driver = webdriver.Chrome()\n",
    "\n",
    "#proxy server definition\n",
    "from selenium import webdriver\n",
    "from selenium.webdriver.common.proxy import Proxy, ProxyType\n",
    "import time\n",
    "\n",
    "# change 'ip:port' with your proxy's ip and port\n",
    "#139.99.237.62\t80\n",
    "proxy_ip_port = '245.173.231.193:8080'\n",
    "\n",
    "proxy = Proxy()\n",
    "proxy.proxy_type = ProxyType.MANUAL\n",
    "proxy.http_proxy = proxy_ip_port\n",
    "proxy.ssl_proxy = proxy_ip_port\n",
    "\n",
    "capabilities = webdriver.DesiredCapabilities.CHROME\n",
    "proxy.add_to_capabilities(capabilities)\n",
    "# replace 'your_absolute_path' with your chrome binary absolute path\n",
    "driver = webdriver.Chrome(service=Service(ChromeDriverManager().install()),desired_capabilities=capabilities)\n",
    "\n",
    "driver.get('http://whatismyipaddress.com')\n",
    "\n",
    "# time.sleep(8)\n",
    "\n"
   ]
  },
  {
   "cell_type": "code",
   "execution_count": 1,
   "id": "a5f27e4b",
   "metadata": {},
   "outputs": [],
   "source": [
    "import urllib.request\n",
    "import socket\n",
    "import urllib.error\n",
    "\n",
    "def is_bad_proxy(pip):    \n",
    "    try:        \n",
    "        proxy_handler = urllib.request.ProxyHandler({'https': pip})        \n",
    "        opener = urllib.request.build_opener(proxy_handler)\n",
    "        opener.addheaders = [('User-agent', 'Mozilla/5.0')]\n",
    "        urllib.request.install_opener(opener)        \n",
    "        sock=urllib.request.urlopen('https://www.google.com/')  \n",
    "    except urllib.error.HTTPError as e:        \n",
    "#         print('Error code: ', e.code)\n",
    "        return e.code\n",
    "    except Exception as detail:\n",
    "\n",
    "#         print( \"ERROR:\", detail)\n",
    "        return 1\n",
    "    return 0"
   ]
  },
  {
   "cell_type": "code",
   "execution_count": 53,
   "id": "a0e99a6a",
   "metadata": {},
   "outputs": [],
   "source": [
    "proxyList = ['133.130.108.201:8080']"
   ]
  },
  {
   "cell_type": "code",
   "execution_count": 54,
   "id": "30fada4b",
   "metadata": {},
   "outputs": [
    {
     "name": "stdout",
     "output_type": "stream",
     "text": [
      "ERROR: <urlopen error [WinError 10053] An established connection was aborted by the software in your host machine>\n",
      "Bad Proxy 133.130.108.201:8080\n"
     ]
    }
   ],
   "source": [
    "for item in proxyList:\n",
    "    if is_bad_proxy(item):\n",
    "        print (\"Bad Proxy\", item)\n",
    "    else:\n",
    "        print (item, \"is working\")"
   ]
  },
  {
   "cell_type": "code",
   "execution_count": null,
   "id": "cdf1fb26",
   "metadata": {},
   "outputs": [],
   "source": []
  }
 ],
 "metadata": {
  "kernelspec": {
   "display_name": "Python 3 (ipykernel)",
   "language": "python",
   "name": "python3"
  },
  "language_info": {
   "codemirror_mode": {
    "name": "ipython",
    "version": 3
   },
   "file_extension": ".py",
   "mimetype": "text/x-python",
   "name": "python",
   "nbconvert_exporter": "python",
   "pygments_lexer": "ipython3",
   "version": "3.9.12"
  }
 },
 "nbformat": 4,
 "nbformat_minor": 5
}
