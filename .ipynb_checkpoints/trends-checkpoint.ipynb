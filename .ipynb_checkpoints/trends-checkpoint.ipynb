{
 "cells": [
  {
   "cell_type": "code",
   "execution_count": 1,
   "id": "7e075cfd",
   "metadata": {},
   "outputs": [
    {
     "name": "stdout",
     "output_type": "stream",
     "text": [
      "\n"
     ]
    },
    {
     "name": "stderr",
     "output_type": "stream",
     "text": [
      "[WDM] - ====== WebDriver manager ======\n",
      "[WDM] - Current google-chrome version is 103.0.5060\n",
      "[WDM] - Get LATEST chromedriver version for 103.0.5060 google-chrome\n",
      "[WDM] - Driver [C:\\Users\\asd_v\\.wdm\\drivers\\chromedriver\\win32\\103.0.5060.134\\chromedriver.exe] found in cache\n"
     ]
    }
   ],
   "source": [
    "import pandas as pd\n",
    "from selenium import webdriver\n",
    "from selenium.webdriver.chrome.options import Options\n",
    "from selenium.webdriver.common.keys import Keys\n",
    "from selenium.webdriver.common.by import By\n",
    "from selenium.webdriver.chrome.service import Service\n",
    "from webdriver_manager.chrome import ChromeDriverManager\n",
    "from selenium.webdriver.support.ui import Select\n",
    "from datetime import date\n",
    "import urllib.request \n",
    "import urllib.parse \n",
    "import time\n",
    "import csv\n",
    "import random\n",
    "import threading as th\n",
    "\n",
    "\n",
    "options = webdriver.ChromeOptions()\n",
    "\n",
    "driver = webdriver.Chrome(service=Service(ChromeDriverManager().install()))"
   ]
  },
  {
   "cell_type": "code",
   "execution_count": 40,
   "id": "3c97d9d7",
   "metadata": {},
   "outputs": [],
   "source": []
  },
  {
   "cell_type": "code",
   "execution_count": 2,
   "id": "f7fc4851",
   "metadata": {},
   "outputs": [],
   "source": [
    "def login(user_name, password):\n",
    "    link = 'https://twitter.com/i/flow/login'\n",
    "    driver.get(link)\n",
    "    time.sleep(3)\n",
    "    driver.find_element(By.CSS_SELECTOR,\n",
    "                       value = 'input').send_keys(user_name + Keys.ENTER)\n",
    "    time.sleep(1)\n",
    "    driver.find_element(By.CSS_SELECTOR,\n",
    "                       value = 'input[name=\"password\"]').send_keys(password + Keys.ENTER)\n",
    "\n",
    "# login('kegoco2609', 'lordasdwithme')\n",
    "login('_m0usa__', 'lordasdwithme')\n"
   ]
  },
  {
   "cell_type": "code",
   "execution_count": 3,
   "id": "e12400cd",
   "metadata": {},
   "outputs": [],
   "source": [
    "def trend_by_country(location):\n",
    "    driver.get(\"https://twitter.com/settings/trends/location\")\n",
    "    if 'countries_bottoms' in locals():\n",
    "        time.sleep(3)\n",
    "        countries_bottoms[location.title()].click()\n",
    "    else: \n",
    "        countries_bottoms = {}\n",
    "        time.sleep(3)\n",
    "        for i in driver.find_elements(By.CSS_SELECTOR,value = 'div[role=\"button\"]'):\n",
    "            text = i.text\n",
    "            countries_bottoms[text] = i\n",
    "        countries_bottoms[location.title()].click()\n",
    "    driver.get('https://twitter.com/explore/tabs/trending')\n",
    "trend_by_country('egypt')"
   ]
  },
  {
   "cell_type": "code",
   "execution_count": 8,
   "id": "9e22be96",
   "metadata": {},
   "outputs": [],
   "source": []
  },
  {
   "cell_type": "code",
   "execution_count": 12,
   "id": "64f46d50",
   "metadata": {},
   "outputs": [],
   "source": []
  },
  {
   "cell_type": "code",
   "execution_count": null,
   "id": "aeb24bcd",
   "metadata": {},
   "outputs": [],
   "source": [
    "def post_pic(path):\n",
    "    driver.find_element(By.CSS_SELECTOR,\n",
    "       value = 'input[class=\"r-8akbif r-orgf3d r-1udh08x r-u8s1d r-xjis5s r-1wyyakw\"]').send_keys(path)\n",
    "    driver.find_element(By.CSS_SELECTOR\n",
    "        ,value='div[class=\"css-18t94o4 css-1dbjc4n r-l5o3uw r-42olwf r-sdzlij r-1phboty r-rs99b7 r-19u6a5r r-2yi16 r-1qi8awa r-1ny4l3l r-ymttw5 r-o7ynqc r-6416eg r-lrvibr\"]').click()"
   ]
  },
  {
   "cell_type": "code",
   "execution_count": null,
   "id": "0383ad2e",
   "metadata": {},
   "outputs": [],
   "source": [
    "def go_trending(driver):\n",
    "    \n",
    "#search bar\n",
    "\n",
    "# driver.find_element(By.CSS_SELECTOR,value = 'input[placeholder=\"Search Twitter\"]').send_keys(\"help\",Keys.ENTER)"
   ]
  },
  {
   "cell_type": "code",
   "execution_count": 23,
   "id": "bf81e9bb",
   "metadata": {},
   "outputs": [
    {
     "name": "stdout",
     "output_type": "stream",
     "text": [
      "Today's date: 2022-07-28\n"
     ]
    }
   ],
   "source": [
    "today = date.today()\n",
    "print(\"Today's date:\", today)"
   ]
  },
  {
   "cell_type": "code",
   "execution_count": 29,
   "id": "b05c7472",
   "metadata": {},
   "outputs": [
    {
     "data": {
      "text/plain": [
       "'1,266 Tweets'"
      ]
     },
     "execution_count": 29,
     "metadata": {},
     "output_type": "execute_result"
    }
   ],
   "source": [
    "trend_name"
   ]
  },
  {
   "cell_type": "code",
   "execution_count": 37,
   "id": "cd4e929e",
   "metadata": {},
   "outputs": [
    {
     "name": "stdout",
     "output_type": "stream",
     "text": [
      "1\n",
      "حوار القايمه\n",
      "2\n",
      "#انه_غض\n",
      "3\n",
      "#الاهلي_نادي_القرن\n",
      "4\n",
      "#صلوا_علي_سيدنا_محمد\n",
      "5\n",
      "#قايمه_المنقولات\n",
      "6\n",
      "#خليها_تعنس\n",
      "7\n",
      "علي النظام القديم\n",
      "8\n",
      "محمود وحيد\n",
      "9\n",
      "كريم فؤاد\n",
      "10\n",
      "hobi\n",
      "11\n",
      "علي العريس\n",
      "12\n",
      "محمد ابن\n",
      "13\n",
      "دار الافتاء\n",
      "14\n",
      "الحور العين\n",
      "15\n",
      "اليوم الخميس\n",
      "16\n",
      "ديمبلي\n",
      "17\n",
      "بنت الحلال\n",
      "18\n",
      "علي لطفي\n",
      "19\n",
      "الفيدرالي الامريكي\n",
      "20\n",
      "اقبلي الادد\n",
      "21\n",
      "محمد فخري\n",
      "22\n",
      "الثانويه الازهريه\n",
      "23\n",
      "عبد القادر\n",
      "24\n",
      "زياد طارق\n",
      "25\n",
      "28 يوليو 2022\n",
      "26\n",
      "شكري السيد\n",
      "27\n",
      "الحلل التيفال\n",
      "28\n",
      "جاب جول\n",
      "29\n",
      "انيستا\n",
      "30\n",
      "الشوط الاول\n"
     ]
    }
   ],
   "source": [
    "today = date.today()\n",
    "for trend in driver.find_elements(By.CSS_SELECTOR,value = 'div[data-testid=\"cellInnerDiv\"]')[2:32]:\n",
    "    #trend No \n",
    "    tren_NO = trend.find_element(By.CSS_SELECTOR\n",
    "                  ,value = 'span[class=\"css-901oao css-16my406 r-poiln3 r-bcqeeo r-qvutc0\"]').text\n",
    "    print(tren_NO)\n",
    "    \n",
    "    #amount of tweets\n",
    "    try:\n",
    "        trend_tweets = trend.find_element(By.CSS_SELECTOR\n",
    "                      ,value = 'span[class=\"css-901oao css-16my406 r-poiln3 r-bcqeeo r-qvutc0\"]').text\n",
    "    except:\n",
    "        trend_tweets = 'unavilable'\n",
    "    \n",
    "    ## trend name\n",
    "    try:\n",
    "        trend_name = trend.find_element(By.CSS_SELECTOR\n",
    "                      ,value = 'div[class=\"css-901oao r-1nao33i r-1k78y06 r-a023e6 r-b88u0q r-rjixqe r-1bymd8e r-bcqeeo r-qvutc0 r-1vmecro\"]').text\n",
    "    except:\n",
    "        trend_name = trend.find_element(By.CSS_SELECTOR\n",
    "                      ,value = 'div[class=\"css-901oao r-1nao33i r-37j5jr r-a023e6 r-b88u0q r-rjixqe r-1bymd8e r-bcqeeo r-qvutc0\"]').text\n",
    "        \n",
    "    print(trend_name)\n",
    "    \n",
    "    \n",
    "    "
   ]
  },
  {
   "cell_type": "code",
   "execution_count": 77,
   "id": "bb93a5a4",
   "metadata": {},
   "outputs": [],
   "source": [
    "driver.find_element(By.CSS_SELECTOR,value = 'input[placeholder=\"Search Twitter\"]').send_keys(trend_name,Keys.ENTER)"
   ]
  },
  {
   "cell_type": "code",
   "execution_count": 50,
   "id": "1e39c3e1",
   "metadata": {},
   "outputs": [],
   "source": [
    "\n",
    "url2 = f'https://twitter.com/search?q={urllib.parse.quote(trend_name)}&src=trend_click&pt=1551486498498924544&vertical=trends'"
   ]
  },
  {
   "cell_type": "code",
   "execution_count": 48,
   "id": "1c9c8f2a",
   "metadata": {},
   "outputs": [],
   "source": [
    "trend_name = "
   ]
  },
  {
   "cell_type": "code",
   "execution_count": 49,
   "id": "c675d6fb",
   "metadata": {},
   "outputs": [
    {
     "data": {
      "text/plain": [
       "\"'الشوط الاول'\""
      ]
     },
     "execution_count": 49,
     "metadata": {},
     "output_type": "execute_result"
    }
   ],
   "source": [
    "trend_name"
   ]
  },
  {
   "cell_type": "code",
   "execution_count": 75,
   "id": "da1e92e6",
   "metadata": {},
   "outputs": [
    {
     "data": {
      "text/plain": [
       "'%22%27%D8%A7%D9%84%D8%B4%D9%88%D8%B7%20%D8%A7%D9%84%D8%A7%D9%88%D9%84%27%22'"
      ]
     },
     "execution_count": 75,
     "metadata": {},
     "output_type": "execute_result"
    }
   ],
   "source": [
    "urllib.parse.quote(f'\"{trend_name}\"')"
   ]
  },
  {
   "cell_type": "code",
   "execution_count": 64,
   "id": "3db2daf4",
   "metadata": {},
   "outputs": [
    {
     "data": {
      "text/plain": [
       "'%22%D8%A7%D9%84%D8%B4%D9%88%D8%B7%20%D8%A7%D9%84%D8%A7%D9%88%D9%84%22'"
      ]
     },
     "execution_count": 64,
     "metadata": {},
     "output_type": "execute_result"
    }
   ],
   "source": [
    "'%22%D8%A7%D9%84%D8%B4%D9%88%D8%B7%20%D8%A7%D9%84%D8%A7%D9%88%D9%84%22'"
   ]
  },
  {
   "cell_type": "code",
   "execution_count": 51,
   "id": "0698e5e5",
   "metadata": {},
   "outputs": [
    {
     "data": {
      "text/plain": [
       "False"
      ]
     },
     "execution_count": 51,
     "metadata": {},
     "output_type": "execute_result"
    }
   ],
   "source": [
    "url2 == 'https://twitter.com/search?q=%22%D8%A7%D9%84%D8%B4%D9%88%D8%B7%20%D8%A7%D9%84%D8%A7%D9%88%D9%84%22&src=trend_click&vertical=trends'"
   ]
  },
  {
   "cell_type": "code",
   "execution_count": 45,
   "id": "1316a4cc",
   "metadata": {},
   "outputs": [
    {
     "data": {
      "text/plain": [
       "'https://twitter.com/search?q=%D8%A7%D9%84%D8%B4%D9%88%D8%B7%20%D8%A7%D9%84%D8%A7%D9%88%D9%84&src=trend_click&pt=1551486498498924544&vertical=trends'"
      ]
     },
     "execution_count": 45,
     "metadata": {},
     "output_type": "execute_result"
    }
   ],
   "source": [
    "url2"
   ]
  },
  {
   "cell_type": "code",
   "execution_count": null,
   "id": "d688e986",
   "metadata": {},
   "outputs": [],
   "source": []
  }
 ],
 "metadata": {
  "kernelspec": {
   "display_name": "Python 3 (ipykernel)",
   "language": "python",
   "name": "python3"
  },
  "language_info": {
   "codemirror_mode": {
    "name": "ipython",
    "version": 3
   },
   "file_extension": ".py",
   "mimetype": "text/x-python",
   "name": "python",
   "nbconvert_exporter": "python",
   "pygments_lexer": "ipython3",
   "version": "3.9.12"
  }
 },
 "nbformat": 4,
 "nbformat_minor": 5
}
