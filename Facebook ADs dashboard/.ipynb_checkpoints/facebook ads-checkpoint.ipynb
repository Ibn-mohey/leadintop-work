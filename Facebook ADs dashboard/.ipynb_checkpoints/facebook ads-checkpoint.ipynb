{
 "cells": [
  {
   "cell_type": "code",
   "execution_count": 244,
   "id": "76ef85ad",
   "metadata": {},
   "outputs": [],
   "source": [
    "import pandas as pd\n",
    "from selenium import webdriver\n",
    "from selenium.webdriver.chrome.options import Options\n",
    "from selenium.webdriver.common.keys import Keys\n",
    "from selenium.webdriver.common.by import By\n",
    "from selenium.webdriver.chrome.service import Service\n",
    "from webdriver_manager.chrome import ChromeDriverManager\n",
    "from selenium.webdriver.support.ui import Select\n",
    "from selenium.webdriver.support.ui import WebDriverWait\n",
    "import re\n",
    "from selenium import webdriver\n",
    "import urllib.request\n",
    "import socket\n",
    "import urllib.error\n",
    "from selenium.webdriver.support import expected_conditions as EC\n",
    "import time\n",
    "import csv\n",
    "import random\n",
    "import threading as th\n",
    "from selenium import webdriver\n",
    "from selenium.webdriver.common.proxy import Proxy, ProxyType\n",
    "import time\n",
    "from selenium import webdriver\n",
    "from selenium.webdriver.common.action_chains import ActionChains\n",
    "from datetime import datetime\n",
    "import requests\n",
    "import urllib.request\n",
    "from datetime import datetime\n",
    "import sqlite3\n",
    "\n",
    "\n"
   ]
  },
  {
   "cell_type": "code",
   "execution_count": 2,
   "id": "4cc43a1a",
   "metadata": {},
   "outputs": [
    {
     "name": "stdout",
     "output_type": "stream",
     "text": [
      "\n"
     ]
    },
    {
     "name": "stderr",
     "output_type": "stream",
     "text": [
      "[WDM] - ====== WebDriver manager ======\n",
      "[WDM] - Current google-chrome version is 104.0.5112\n",
      "[WDM] - Get LATEST chromedriver version for 104.0.5112 google-chrome\n",
      "[WDM] - About to download new driver from https://chromedriver.storage.googleapis.com/104.0.5112.79/chromedriver_win32.zip\n",
      "[WDM] - Driver has been saved in cache [C:\\Users\\asd_v\\.wdm\\drivers\\chromedriver\\win32\\104.0.5112.79]\n"
     ]
    }
   ],
   "source": [
    "from script import *"
   ]
  },
  {
   "cell_type": "code",
   "execution_count": 18,
   "id": "8e8fa283",
   "metadata": {
    "scrolled": true
   },
   "outputs": [
    {
     "name": "stdout",
     "output_type": "stream",
     "text": [
      "\n"
     ]
    },
    {
     "name": "stderr",
     "output_type": "stream",
     "text": [
      "[WDM] - ====== WebDriver manager ======\n",
      "[WDM] - Current google-chrome version is 104.0.5112\n",
      "[WDM] - Get LATEST chromedriver version for 104.0.5112 google-chrome\n",
      "[WDM] - Driver [C:\\Users\\asd_v\\.wdm\\drivers\\chromedriver\\win32\\104.0.5112.79\\chromedriver.exe] found in cache\n"
     ]
    }
   ],
   "source": [
    "options = webdriver.ChromeOptions()\n",
    "\n",
    "driver = webdriver.Chrome(service=Service(ChromeDriverManager().install()))\n",
    "def open_driver():\n",
    "    return webdriver.Chrome(service=Service(ChromeDriverManager().install()))"
   ]
  },
  {
   "cell_type": "code",
   "execution_count": 21,
   "id": "ab36a854",
   "metadata": {},
   "outputs": [
    {
     "data": {
      "text/plain": [
       "<selenium.webdriver.chrome.webdriver.WebDriver (session=\"88e28915e5f64cecfe1f3b2a0a05f6de\")>"
      ]
     },
     "execution_count": 21,
     "metadata": {},
     "output_type": "execute_result"
    }
   ],
   "source": [
    "driver"
   ]
  },
  {
   "cell_type": "code",
   "execution_count": 22,
   "id": "82c5a756",
   "metadata": {},
   "outputs": [],
   "source": [
    "#log in facebook\n",
    "driver.get('https://www.facebook.com')"
   ]
  },
  {
   "cell_type": "code",
   "execution_count": 24,
   "id": "c32de6d8",
   "metadata": {},
   "outputs": [],
   "source": [
    "WebDriverWait(driver, 10).until(EC.presence_of_element_located((By.CSS_SELECTOR,'input[name=\"email\"]'))).send_keys('drazahmed1969@gmail.com')\n"
   ]
  },
  {
   "cell_type": "code",
   "execution_count": null,
   "id": "af1fe637",
   "metadata": {},
   "outputs": [],
   "source": [
    "WebDriverWait(driver, 10).until(EC.presence_of_element_located((By.CSS_SELECTOR,'input[name=\"pass\"]'))).send_keys('drazahmed1969@gmail.com')"
   ]
  },
  {
   "cell_type": "code",
   "execution_count": 246,
   "id": "f88ddbb9",
   "metadata": {},
   "outputs": [],
   "source": [
    "def open_link(search_term,country= \"EG\",start_date = None,end_date=None,media_type='video'):\n",
    "    link = f'https://www.facebook.com/ads/library/?active_status=all&ad_type=all&country={country}&q={search_term}&sort_data[direction]=desc&sort_data[mode]=relevancy_monthly_grouped&start_date[min]={start_date}&start_date[max]={end_date}&search_type=keyword_unordered&media_type=all&media_type={media_type}'\n",
    "    driver.get(link)\n",
    "    time.sleep(4)\n",
    "    \n",
    "def open_page(page_id,country= \"EG\",start_date = None,end_date=None):\n",
    "    link= f'https://www.facebook.com/ads/library/?active_status=all&ad_type=all&country={country}&view_all_page_id={page_id}&sort_data[direction]=desc&sort_data[mode]=relevancy_monthly_grouped&search_type=page&media_type=video'\n",
    "    driver.get(link)\n",
    "    time.sleep(4)"
   ]
  },
  {
   "cell_type": "code",
   "execution_count": 247,
   "id": "a577e17c",
   "metadata": {},
   "outputs": [],
   "source": [
    "def get_ads_number():\n",
    "    try:\n",
    "        text = WebDriverWait(driver, 10).until(EC.presence_of_element_located((By.CSS_SELECTOR,'div[class=\"gxhhhc31\"]'))).text\n",
    "        ADS_count = re.findall('(\\d+) result', text)[0]\n",
    "        if ADS_count == '0':\n",
    "            driver.refresh()\n",
    "            time.sleep(5)\n",
    "            text = WebDriverWait(driver, 10).until(EC.presence_of_element_located((By.CSS_SELECTOR,'div[class=\"gxhhhc31\"]'))).text\n",
    "            ADS_count = re.findall('(\\d+) result', text)[0]\n",
    "    except:\n",
    "        ADS_count = 0\n",
    "    return ADS_count"
   ]
  },
  {
   "cell_type": "code",
   "execution_count": 248,
   "id": "5a23bea5",
   "metadata": {},
   "outputs": [],
   "source": [
    "def scroll_down(limit = 'no limit'):\n",
    "    if limit == 'no limit':\n",
    "         #scroll to end \n",
    "        # Get scroll height\n",
    "        last_height = driver.execute_script(\"return document.body.scrollHeight\")\n",
    "\n",
    "        while True:\n",
    "            # Scroll down to bottom\n",
    "            driver.execute_script(\"window.scrollTo(0, document.body.scrollHeight);\")\n",
    "\n",
    "            # Wait to load page\n",
    "            time.sleep(2)\n",
    "\n",
    "            # Calculate new scroll height and compare with last scroll height\n",
    "            new_height = driver.execute_script(\"return document.body.scrollHeight\")\n",
    "            if new_height == last_height:\n",
    "                break\n",
    "            last_height = new_height\n",
    "    \n",
    "    #scroll enough \n",
    "    else:\n",
    "        ads = driver.find_elements(By.CSS_SELECTOR, value = 'div[class=\"_99s5\"]')\n",
    "        temp_ads = 0\n",
    "        while (len(ads) < limit and temp_ads < len(ads)):\n",
    "            temp_ads = len(ads)\n",
    "            driver.execute_script(\"window.scrollTo(0, document.body.scrollHeight);\")\n",
    "            time.sleep(3)\n",
    "            ads = driver.find_elements(By.CSS_SELECTOR, value = 'div[class=\"_99s5\"]')\n",
    "        time.sleep(2)"
   ]
  },
  {
   "cell_type": "code",
   "execution_count": 249,
   "id": "19cf5a03",
   "metadata": {},
   "outputs": [],
   "source": [
    "def find_ID(element):\n",
    "    try:\n",
    "        return WebDriverWait(element,10).until(EC.presence_of_element_located((By.XPATH, './div/div[1]/div/div[1]/div[4]/div/div/span'))).text[4:]\n",
    "    except:\n",
    "        return WebDriverWait(element,10).until(EC.presence_of_element_located((By.XPATH, './div/div[1]/div/div[1]/div[5]/div/div/span'))).text[4:]\n",
    "\n",
    "\n",
    "def find_start_date(element):\n",
    "    return WebDriverWait(element, 10).until(EC.presence_of_element_located((By.XPATH,'./div/div[1]/div/div[1]/div[2]/span'))).text[19:]\n",
    "\n",
    "\n",
    "def find_profile_pic(element):\n",
    "    try:\n",
    "        link = WebDriverWait(element, 10).until(EC.presence_of_element_located((By.XPATH,'.//img[@class=\"_8nqq img\"]'))).get_attribute('src')\n",
    "        name = re.findall('\\d+_\\d+_\\d+_n',link)[0] + '.png'\n",
    "        #download\n",
    "#         img_data = requests.get(link).content\n",
    "#         with open(name, 'wb') as handler:\n",
    "#             handler.write(img_data)\n",
    "        # get path \n",
    "        full_path = '' + name\n",
    "        return full_path\n",
    "    except:\n",
    "        return '84702798_579370612644419_4516628711310622720_n.png'\n",
    "\n",
    "\n",
    "def find_links(element):\n",
    "    links = \"\\n\".join([a.get_attribute('href') for a in element.find_elements(By.CSS_SELECTOR,'a')[1:] ])\n",
    "    links = urllib.parse.unquote(links).replace('https://l.facebook.com/l.php?u=', '')\n",
    "    links = re.findall('(https.+)&',links)\n",
    "    return \"\\n\".join(links)\n",
    "    \n",
    "def find_ad_videos(element):\n",
    "    try:\n",
    "        vids = WebDriverWait(element,10).until(EC.presence_of_all_elements_located((By.XPATH,'.//video')))\n",
    "        vids_links = [a.get_attribute('src') for a in vids ]\n",
    "        names = []\n",
    "        for video in vids_links:\n",
    "            name = re.findall('\\d+_\\d+_\\d+_n',video)[0] + '.mp4'\n",
    "#             urllib.request.urlretrieve(video, name)\n",
    "            names.append(name)\n",
    "#         \"\\n\".join(vids_links)\n",
    "        return \"\\n\".join(names)\n",
    "    except:\n",
    "        return \"No Videos found\"\n",
    "    \n",
    "    \n",
    "def find_content(element):\n",
    "    return WebDriverWait(element,10).until(EC.presence_of_element_located((By.XPATH,'./div/div[3]/div/div/div[2]/div'))).text\n",
    "\n",
    "\n",
    "def find_footer(element):\n",
    "    try:\n",
    "        footer = WebDriverWait(element, 10).until(EC.presence_of_element_located((By.CSS_SELECTOR,'div[class=\"_8jgz _8jg_\"]')))\n",
    "        action = WebDriverWait(footer, 10).until(EC.presence_of_element_located((By.XPATH,'./div[2]/div/div/span/div/div/div'))).text\n",
    "        return footer.text , action\n",
    "    except:\n",
    "        return \"No Footer\" , \"No Action\"\n",
    "\n",
    "\n",
    "def find_page_name(element):\n",
    "    return WebDriverWait(element,10).until(EC.presence_of_element_located((By.XPATH, './div/div[3]/div/div/div[1]/div/div/div'))).text.replace(\"\\nSponsored\", \"\")\n",
    "\n",
    "def find_ads_occurence(element):\n",
    "    try:\n",
    "        return int(element.find_element(By.XPATH, value ='./div/div[1]/div/div[1]/div[5]/span/strong').text.split(' ')[0])\n",
    "    except:\n",
    "        return '1'\n",
    "\n",
    "def click_see_ad_details(element):\n",
    "    click = WebDriverWait(element, 20).until(EC.element_to_be_clickable((By.XPATH,'./div/div[2]/div/span/div/div/div')))\n",
    "    driver.execute_script(\"arguments[0].click();\", click)\n",
    "    time.sleep(0.5)\n",
    "    return WebDriverWait(driver, 10).until(EC.presence_of_element_located((By.CSS_SELECTOR,'div[class=\"_5aat _4-hy uiLayer _3qw\"]')))\n"
   ]
  },
  {
   "cell_type": "code",
   "execution_count": 250,
   "id": "edbefeb5",
   "metadata": {},
   "outputs": [],
   "source": [
    "def get_page_data(element):\n",
    "    #from the about only \n",
    "    #FB_ID, page_likes,Insta_ID,insta_followers, static_ID\n",
    "    \n",
    "    #MAIN PAGE ELEMENT\n",
    "    main_element = click_see_ad_details(element)\n",
    "\n",
    "    #ABOUT THE PAGE ELEMENT\n",
    "    about_the_page = WebDriverWait(main_element, 10).until(EC.presence_of_element_located((By.XPATH,'./div[2]/div/div/div/div/div[3]/span/div[2]/div/div')))  \n",
    "\n",
    "\n",
    "    #get platforms\n",
    "    #likes and followers \n",
    "#     platforms = {'img sp_PtYcfR367DW sx_5cfa10':'facebook',\n",
    "#                  'img sp_t_NYcTTi0J9 sx_751e36':'facebook',\n",
    "#                  'img sp_gQyYgf4UR9n sx_01cc92':'facebook',\n",
    "#                  'img sp_gQyYgf4UR9n sx_891563':'instgram',\n",
    "#                 'img sp_PtYcfR367DW sx_b58526':'instgram', \n",
    "#                 'img sp_t_NYcTTi0J9 sx_ba826e':'instgram'}\n",
    "    FB_ID = \"NO Facebook ID found\"\n",
    "    Insta_ID = \"NO insta ID found\"\n",
    "    page_likes = 0\n",
    "    insta_followers = 0\n",
    "\n",
    "    try:\n",
    "         #all pages\n",
    "        pages = WebDriverWait(about_the_page, 2).until(EC.presence_of_all_elements_located((By.CSS_SELECTOR,'div[class=\"hael596l alzwoclg c61n2bf6 q46jt4gp bq6c9xl4 r9sb4e79\"]')))\n",
    "        for s in pages:    \n",
    "            text = s.find_element(By.XPATH,'.').text.replace(',','')\n",
    "            #facebook \n",
    "            if re.search('like', text):\n",
    "                FB_ID = s.find_element(By.XPATH,'./div[2]/div[1]').text\n",
    "                page_likes = int(re.findall('(\\d+) like' , text)[0])\n",
    "            if re.search('follower', text):\n",
    "                Insta_ID = s.find_element(By.XPATH,'./div[2]/div[1]').text\n",
    "                insta_followers = int(re.findall('(\\d+) follower' , text)[0])\n",
    "            \n",
    "            #old approach\n",
    "#             #get the class type \n",
    "#             text = s.find_element(By.XPATH,'./div[2]/div[2]').text.replace(',','')\n",
    "#             platform = platforms[s.find_element(By.CSS_SELECTOR,'i').get_attribute('class')]\n",
    "#             if platform == 'facebook':\n",
    "#                 FB_ID = s.find_element(By.XPATH,'./div[2]/div[1]').text\n",
    "#                 page_likes = int(re.findall('(\\d+)' , text)[0])\n",
    "#             else:\n",
    "#                 pass\n",
    "#             if platform == 'instgram':\n",
    "#                 Insta_ID = s.find_element(By.XPATH,'./div[2]/div[1]').text\n",
    "#                 insta_followers = int(re.findall('(\\d+)' , text)[0])\n",
    "#             else:\n",
    "#                 pass\n",
    "    except:\n",
    "        pass\n",
    "    \n",
    "    \n",
    "    #static ID \n",
    "    static_ID = \"NO static ID found\"\n",
    "    try:\n",
    "        page_link = WebDriverWait(main_element, 10).until(EC.presence_of_element_located((By.XPATH,'./div[2]/div/div/div/div/div[3]/span/div[2]/div/div/div[1]/div/a'))).get_attribute('href')\n",
    "        static_ID = re.findall(('view_all_page_id=(\\d+)'),page_link)[0]\n",
    "        # Open a new window\n",
    "        driver.execute_script(\"window.open('');\")\n",
    "\n",
    "        # Switch to the new window and open new URL\n",
    "        driver.switch_to.window(driver.window_handles[1])\n",
    "        driver.get(page_link)\n",
    "        ADS_count = get_ads_number()\n",
    "        driver.close()\n",
    "\n",
    "        # Switching to old tab\n",
    "        driver.switch_to.window(driver.window_handles[0])\n",
    "    except:\n",
    "        ADS_count = \"0\"\n",
    "    time.sleep(0.5)\n",
    "    webdriver.ActionChains(driver).send_keys(Keys.ESCAPE).perform()\n",
    "    time.sleep(1) \n",
    "#     print(FB_ID, page_likes,Insta_ID,insta_followers, static_ID)\n",
    "    return FB_ID, page_likes,Insta_ID,insta_followers,static_ID,ADS_count\n"
   ]
  },
  {
   "cell_type": "code",
   "execution_count": 6,
   "id": "549c60f1",
   "metadata": {},
   "outputs": [
    {
     "data": {
      "text/plain": [
       "'05/09/2022 13:37:42'"
      ]
     },
     "execution_count": 6,
     "metadata": {},
     "output_type": "execute_result"
    }
   ],
   "source": [
    "text = datetime.now().strftime(\"%d/%m/%Y %H:%M:%S\")\n",
    "datetimeobj = datetime.strptime(text, \"%d/%m/%Y %H:%M:%S\")\n",
    "datetimeobj\n",
    "text"
   ]
  },
  {
   "cell_type": "code",
   "execution_count": 77,
   "id": "ca241507",
   "metadata": {},
   "outputs": [
    {
     "data": {
      "text/plain": [
       "datetime.datetime(2022, 8, 30, 15, 2, 6)"
      ]
     },
     "execution_count": 77,
     "metadata": {},
     "output_type": "execute_result"
    }
   ],
   "source": [
    "datetimeobj = datetime.strptime(text, \"%d/%m/%Y %H:%M:%S\")\n",
    "datetimeobj"
   ]
  },
  {
   "cell_type": "code",
   "execution_count": 251,
   "id": "c6c440c8",
   "metadata": {},
   "outputs": [],
   "source": [
    "def start_save(search_term,country= \"EG\",start_date = None,end_date=None,media_type='video',limit = 'no limit'):\n",
    "    open_link(search_term,country,start_date,end_date,media_type)\n",
    "    scroll_down(limit)\n",
    "    count = 0\n",
    "    elements = driver.find_elements(By.CSS_SELECTOR, value = 'div[class=\"_99s5\"]')\n",
    "    for element in elements:\n",
    "        count =+ 1\n",
    "        date = datetime.now().strftime(\"%d/%m/%Y %H:%M:%S\")\n",
    "        days = datetime.now().strftime(\"%d/%m/%Y\")\n",
    "        AD_ID = find_ID(element)c\n",
    "        Started_date = find_start_date(element)\n",
    "        profile_pic = find_profile_pic(element)\n",
    "        links = find_links(element)\n",
    "        videos = find_ad_videos(element)\n",
    "        content = find_content(element)\n",
    "        Footer_text , Footer_action = find_footer(element)\n",
    "        Page_name = find_page_name(element)\n",
    "        AD_occurance = find_ads_occurence(element)\n",
    "#         FB_ID, page_likes,Insta_ID,insta_followers, static_ID,ADS_count\n",
    "        Facebook_ID, Page_likes,instgram_ID , insta_followers, static_ID, Ads_count  = get_page_data(element)\n",
    "        #save to database   \n",
    "        try:\n",
    "            #insert if not exist \n",
    "            conn = sqlite3.connect('FaceBoookADS.db')\n",
    "            c = conn.cursor()\n",
    "            c.execute('''INSERT INTO ads VALUES \n",
    "            (?,?,?,?,?,?,?,?,?,?,?,?,?,?,?,?,?,?,?,?,?);'''\n",
    "              ,(AD_ID ,\n",
    "                Started_date ,\n",
    "                profile_pic ,\n",
    "                links ,\n",
    "                videos ,\n",
    "                content ,\n",
    "                Footer_text ,\n",
    "                Footer_action ,\n",
    "                Page_name ,\n",
    "                AD_occurance ,\n",
    "                Facebook_ID ,\n",
    "                Page_likes ,\n",
    "                instgram_ID ,\n",
    "                insta_followers ,\n",
    "                static_ID ,\n",
    "                Ads_count ,\n",
    "                Ads_count ,\n",
    "                days ,\n",
    "                date ,\n",
    "                1 ,\n",
    "                search_term ,\n",
    "                ))\n",
    "            conn.commit()\n",
    "            conn.close()\n",
    "        except:\n",
    "            #update the data \n",
    "            conn = sqlite3.connect('FaceBoookADS.db')\n",
    "            c = conn.cursor()\n",
    "            c.execute('''UPDATE ads SET \n",
    "            AD_occurance =?,\n",
    "            Page_likes =?,\n",
    "            insta_followers =?,\n",
    "            Ads_count =?,\n",
    "            cumulative_ads_count = cumulative_ads_count + ?,\n",
    "            date = date|| ',' || ? ,\n",
    "            days = days || ',' || ? ,\n",
    "            hits = hits + 1 , \n",
    "            search_term = search_term || ',' || ?   \n",
    "            where AD_ID = ?'''\n",
    "              ,(AD_occurance ,\n",
    "                Page_likes ,\n",
    "                insta_followers ,\n",
    "                Ads_count ,\n",
    "                Ads_count,\n",
    "                date,\n",
    "                days,\n",
    "                search_term,\n",
    "               AD_ID))\n",
    "            conn.commit()\n",
    "            conn.close()\n",
    "        if Ads_count == 0:\n",
    "            time.sleep(1800)"
   ]
  },
  {
   "cell_type": "code",
   "execution_count": 243,
   "id": "10824ede",
   "metadata": {},
   "outputs": [],
   "source": [
    "start_save('عطور')"
   ]
  },
  {
   "cell_type": "code",
   "execution_count": 7,
   "id": "aca64b21",
   "metadata": {},
   "outputs": [],
   "source": [
    "def read_data(sort_by = 'Ads_count',sort_type = 'DESC'):\n",
    "    sqliteConnection = sqlite3.connect('FaceBoookADS.db')\n",
    "    cursor = sqliteConnection.cursor()\n",
    "    sqlite_select_query = f\"\"\"SELECT * FROM \"ads\" ORDER BY {sort_by} {sort_type}\"\"\"\n",
    "    cursor.execute(sqlite_select_query)\n",
    "    records = cursor.fetchall()\n",
    "    cursor.close()\n",
    "    return records\n"
   ]
  },
  {
   "cell_type": "code",
   "execution_count": 12,
   "id": "8f108a58",
   "metadata": {},
   "outputs": [],
   "source": [
    "def search_by_owner(owner,sort_by = 'Ads_count',sort_type = 'DESC'):\n",
    "    sqliteConnection = sqlite3.connect('FaceBoookADS.db')\n",
    "    cursor = sqliteConnection.cursor()\n",
    "    sqlite_select_query = f\"\"\"SELECT * FROM \"ads\" where LOWER(Page_name) LIKE '%{owner.lower()}%' ORDER BY {sort_by} {sort_type}\"\"\"\n",
    "    cursor.execute(sqlite_select_query)\n",
    "    records = cursor.fetchall()\n",
    "    cursor.close()\n",
    "    return records"
   ]
  },
  {
   "cell_type": "code",
   "execution_count": 13,
   "id": "509c212e",
   "metadata": {},
   "outputs": [],
   "source": [
    "def search_by_domain(domain,sort_by = 'Ads_count',sort_type = 'DESC'):\n",
    "    sqliteConnection = sqlite3.connect('FaceBoookADS.db')\n",
    "    cursor = sqliteConnection.cursor()\n",
    "    sqlite_select_query = f\"\"\"SELECT * FROM \"ads\" where LOWER(links) LIKE '%{domain.lower()}%' ORDER BY {sort_by} {sort_type}\"\"\"\n",
    "    cursor.execute(sqlite_select_query)\n",
    "    records = cursor.fetchall()\n",
    "    cursor.close()\n",
    "    return records"
   ]
  },
  {
   "cell_type": "code",
   "execution_count": 155,
   "id": "f6169409",
   "metadata": {
    "scrolled": true
   },
   "outputs": [],
   "source": [
    "# Create database\n",
    "import sqlite3\n",
    "conn = sqlite3.connect('FaceBoookADS.db')\n",
    "c = conn.cursor()\n",
    "try:\n",
    "    c.execute('''DROP TABLE ads''')\n",
    "except:\n",
    "    pass\n",
    "c.execute('''\n",
    "CREATE TABLE ads\n",
    "(AD_ID TEXT PRIMARY KEY, \n",
    "Started_date TEXT,\n",
    "profile_pic TEXT,\n",
    "links TEXT,\n",
    "videos TEXT,\n",
    "content TEXT,\n",
    "Footer_TEXT TEXT,\n",
    "Footer_action TEXT,\n",
    "Page_name TEXT,\n",
    "AD_occurance INT,\n",
    "Facebook_ID TEXT,\n",
    "Page_likes INT,\n",
    "instgram_ID TEXT,\n",
    "insta_followers INT,\n",
    "static_ID TEXT,\n",
    "Ads_count INT,\n",
    "cumulative_ads_count INT,\n",
    "days TEXT,\n",
    "date TEXT,\n",
    "hits INT,\n",
    "search_term TEXT)''')\n",
    "conn.commit()\n",
    "conn.close()"
   ]
  },
  {
   "cell_type": "code",
   "execution_count": null,
   "id": "dcb66713",
   "metadata": {},
   "outputs": [],
   "source": [
    "def Save_to_DataBase():\n",
    "    conn = sqlite3.connect('tablename.db')\n",
    "    c = conn.cursor()\n",
    "    c.execute('''INSERT INTO ads VALUES \n",
    "    (?, ?)'''\n",
    "              , (name, number))\n",
    "    conn.commit()\n",
    "    conn.close()"
   ]
  },
  {
   "cell_type": "code",
   "execution_count": null,
   "id": "a541c9ba",
   "metadata": {},
   "outputs": [],
   "source": [
    "def sort_started(by)"
   ]
  },
  {
   "cell_type": "code",
   "execution_count": null,
   "id": "07af84e5",
   "metadata": {},
   "outputs": [],
   "source": []
  },
  {
   "cell_type": "code",
   "execution_count": 21,
   "id": "f41d3b72",
   "metadata": {},
   "outputs": [],
   "source": [
    "def final_call(search_term):\n",
    "    open_link(search_term)\n",
    "    scroll_down()\n",
    "    elements = driver.find_elements(By.CSS_SELECTOR, value = 'div[class=\"_99s5\"]')\n",
    "    for element in elements:\n",
    "        print(find_start_date(element))\n",
    "        print(find_profile_pic(element))\n",
    "        print(find_links(element))\n",
    "        print(find_ad_videos(element))\n",
    "        print(find_content(element))\n",
    "        print(find_footer(element))\n",
    "        print()"
   ]
  },
  {
   "cell_type": "markdown",
   "id": "879bfd5d",
   "metadata": {},
   "source": [
    "### old code \n"
   ]
  },
  {
   "cell_type": "code",
   "execution_count": null,
   "id": "ce35a53a",
   "metadata": {},
   "outputs": [],
   "source": [
    "# def get_platforms(element):\n",
    "#     platforms = {'0px -948px':'facebook',\n",
    "#             '-17px -761px':'insgram',\n",
    "#             '-17px -66px':'audience network',\n",
    "#             '-17px -79px':'messenger'}\n",
    "#     all_platforms = element.find_element(By.XPATH\n",
    "#                  ,value = './div/div[1]/div/div[1]/div[3]/div').find_elements(By.CSS_SELECTOR,value= 'div[class=\"n7mw1l6l\"]')\n",
    "#     plat_list = [platforms[re.findall('-webkit-mask-position: (.+px);'\n",
    "#                                       ,plat.get_attribute(\"style\"))[0]] for plat in all_platforms]\n",
    "#     return '\\n'.join(plat_list)\n",
    "#     print(plat_list)\n",
    "#     for plat in all_platforms:\n",
    "#         style = plat.get_attribute(\"style\")\n",
    "#         key = re.findall('-webkit-mask-position: (.+px);',style)[0]\n",
    "#         print(platforms[key])\n",
    "\n",
    "\n",
    "\n",
    "\n",
    "# element.find_element(By.XPATH,'./div/div[3]/div/div/div[1]/div/div/div').text.replace(\"\\nSponsored\", \"\")\n"
   ]
  },
  {
   "cell_type": "markdown",
   "id": "d15b20ba",
   "metadata": {},
   "source": [
    "## Test area"
   ]
  },
  {
   "cell_type": "code",
   "execution_count": 60,
   "id": "c3522f65",
   "metadata": {
    "scrolled": true
   },
   "outputs": [
    {
     "name": "stdout",
     "output_type": "stream",
     "text": [
      "\n"
     ]
    },
    {
     "name": "stderr",
     "output_type": "stream",
     "text": [
      "[WDM] - ====== WebDriver manager ======\n",
      "[WDM] - Current google-chrome version is 104.0.5112\n",
      "[WDM] - Get LATEST chromedriver version for 104.0.5112 google-chrome\n",
      "[WDM] - Driver [C:\\Users\\asd_v\\.wdm\\drivers\\chromedriver\\win32\\104.0.5112.79\\chromedriver.exe] found in cache\n"
     ]
    }
   ],
   "source": [
    "driver = open_driver()"
   ]
  },
  {
   "cell_type": "code",
   "execution_count": 17,
   "id": "f7b68520",
   "metadata": {},
   "outputs": [
    {
     "ename": "WebDriverException",
     "evalue": "Message: chrome not reachable\n  (Session info: chrome=104.0.5112.102)\nStacktrace:\nBacktrace:\n\tOrdinal0 [0x005178B3+2193587]\n\tOrdinal0 [0x004B0681+1771137]\n\tOrdinal0 [0x003C4070+802928]\n\tOrdinal0 [0x003B9AB2+760498]\n\tOrdinal0 [0x003ACEAF+708271]\n\tOrdinal0 [0x003B1142+725314]\n\tOrdinal0 [0x003B55C9+742857]\n\tOrdinal0 [0x003C5500+808192]\n\tOrdinal0 [0x0041D2C2+1168066]\n\tOrdinal0 [0x0040D5C6+1103302]\n\tOrdinal0 [0x003E77E0+948192]\n\tOrdinal0 [0x003E86E6+952038]\n\tGetHandleVerifier [0x007C0CB2+2738370]\n\tGetHandleVerifier [0x007B21B8+2678216]\n\tGetHandleVerifier [0x005A17AA+512954]\n\tGetHandleVerifier [0x005A0856+509030]\n\tOrdinal0 [0x004B743B+1799227]\n\tOrdinal0 [0x004BBB68+1817448]\n\tOrdinal0 [0x004BBC55+1817685]\n\tOrdinal0 [0x004C5230+1856048]\n\tBaseThreadInitThunk [0x769FFA29+25]\n\tRtlGetAppContainerNamedObjectPath [0x77337A9E+286]\n\tRtlGetAppContainerNamedObjectPath [0x77337A6E+238]\n",
     "output_type": "error",
     "traceback": [
      "\u001b[1;31m---------------------------------------------------------------------------\u001b[0m",
      "\u001b[1;31mWebDriverException\u001b[0m                        Traceback (most recent call last)",
      "Input \u001b[1;32mIn [17]\u001b[0m, in \u001b[0;36m<cell line: 1>\u001b[1;34m()\u001b[0m\n\u001b[1;32m----> 1\u001b[0m \u001b[43mopen_link\u001b[49m\u001b[43m(\u001b[49m\u001b[38;5;124;43m'\u001b[39;49m\u001b[38;5;124;43mperfume\u001b[39;49m\u001b[38;5;124;43m'\u001b[39;49m\u001b[43m)\u001b[49m\n\u001b[0;32m      2\u001b[0m scroll_down()\n\u001b[0;32m      3\u001b[0m elements \u001b[38;5;241m=\u001b[39m driver\u001b[38;5;241m.\u001b[39mfind_elements(By\u001b[38;5;241m.\u001b[39mCSS_SELECTOR, value \u001b[38;5;241m=\u001b[39m \u001b[38;5;124m'\u001b[39m\u001b[38;5;124mdiv[class=\u001b[39m\u001b[38;5;124m\"\u001b[39m\u001b[38;5;124m_99s5\u001b[39m\u001b[38;5;124m\"\u001b[39m\u001b[38;5;124m]\u001b[39m\u001b[38;5;124m'\u001b[39m)[\u001b[38;5;241m0\u001b[39m:\u001b[38;5;241m20\u001b[39m]\n",
      "File \u001b[1;32mE:\\career\\Dataa\\github\\leadintop-work\\Facebook ADs dashboard\\script.py:31\u001b[0m, in \u001b[0;36mopen_link\u001b[1;34m(search_term, country, start_date, end_date, media_type)\u001b[0m\n",
      "File \u001b[1;32m~\\anaconda3\\lib\\site-packages\\selenium\\webdriver\\remote\\webdriver.py:447\u001b[0m, in \u001b[0;36mWebDriver.get\u001b[1;34m(self, url)\u001b[0m\n\u001b[0;32m    443\u001b[0m \u001b[38;5;28;01mdef\u001b[39;00m \u001b[38;5;21mget\u001b[39m(\u001b[38;5;28mself\u001b[39m, url: \u001b[38;5;28mstr\u001b[39m) \u001b[38;5;241m-\u001b[39m\u001b[38;5;241m>\u001b[39m \u001b[38;5;28;01mNone\u001b[39;00m:\n\u001b[0;32m    444\u001b[0m     \u001b[38;5;124;03m\"\"\"\u001b[39;00m\n\u001b[0;32m    445\u001b[0m \u001b[38;5;124;03m    Loads a web page in the current browser session.\u001b[39;00m\n\u001b[0;32m    446\u001b[0m \u001b[38;5;124;03m    \"\"\"\u001b[39;00m\n\u001b[1;32m--> 447\u001b[0m     \u001b[38;5;28;43mself\u001b[39;49m\u001b[38;5;241;43m.\u001b[39;49m\u001b[43mexecute\u001b[49m\u001b[43m(\u001b[49m\u001b[43mCommand\u001b[49m\u001b[38;5;241;43m.\u001b[39;49m\u001b[43mGET\u001b[49m\u001b[43m,\u001b[49m\u001b[43m \u001b[49m\u001b[43m{\u001b[49m\u001b[38;5;124;43m'\u001b[39;49m\u001b[38;5;124;43murl\u001b[39;49m\u001b[38;5;124;43m'\u001b[39;49m\u001b[43m:\u001b[49m\u001b[43m \u001b[49m\u001b[43murl\u001b[49m\u001b[43m}\u001b[49m\u001b[43m)\u001b[49m\n",
      "File \u001b[1;32m~\\anaconda3\\lib\\site-packages\\selenium\\webdriver\\remote\\webdriver.py:435\u001b[0m, in \u001b[0;36mWebDriver.execute\u001b[1;34m(self, driver_command, params)\u001b[0m\n\u001b[0;32m    433\u001b[0m response \u001b[38;5;241m=\u001b[39m \u001b[38;5;28mself\u001b[39m\u001b[38;5;241m.\u001b[39mcommand_executor\u001b[38;5;241m.\u001b[39mexecute(driver_command, params)\n\u001b[0;32m    434\u001b[0m \u001b[38;5;28;01mif\u001b[39;00m response:\n\u001b[1;32m--> 435\u001b[0m     \u001b[38;5;28;43mself\u001b[39;49m\u001b[38;5;241;43m.\u001b[39;49m\u001b[43merror_handler\u001b[49m\u001b[38;5;241;43m.\u001b[39;49m\u001b[43mcheck_response\u001b[49m\u001b[43m(\u001b[49m\u001b[43mresponse\u001b[49m\u001b[43m)\u001b[49m\n\u001b[0;32m    436\u001b[0m     response[\u001b[38;5;124m'\u001b[39m\u001b[38;5;124mvalue\u001b[39m\u001b[38;5;124m'\u001b[39m] \u001b[38;5;241m=\u001b[39m \u001b[38;5;28mself\u001b[39m\u001b[38;5;241m.\u001b[39m_unwrap_value(\n\u001b[0;32m    437\u001b[0m         response\u001b[38;5;241m.\u001b[39mget(\u001b[38;5;124m'\u001b[39m\u001b[38;5;124mvalue\u001b[39m\u001b[38;5;124m'\u001b[39m, \u001b[38;5;28;01mNone\u001b[39;00m))\n\u001b[0;32m    438\u001b[0m     \u001b[38;5;28;01mreturn\u001b[39;00m response\n",
      "File \u001b[1;32m~\\anaconda3\\lib\\site-packages\\selenium\\webdriver\\remote\\errorhandler.py:247\u001b[0m, in \u001b[0;36mErrorHandler.check_response\u001b[1;34m(self, response)\u001b[0m\n\u001b[0;32m    245\u001b[0m         alert_text \u001b[38;5;241m=\u001b[39m value[\u001b[38;5;124m'\u001b[39m\u001b[38;5;124malert\u001b[39m\u001b[38;5;124m'\u001b[39m]\u001b[38;5;241m.\u001b[39mget(\u001b[38;5;124m'\u001b[39m\u001b[38;5;124mtext\u001b[39m\u001b[38;5;124m'\u001b[39m)\n\u001b[0;32m    246\u001b[0m     \u001b[38;5;28;01mraise\u001b[39;00m exception_class(message, screen, stacktrace, alert_text)  \u001b[38;5;66;03m# type: ignore[call-arg]  # mypy is not smart enough here\u001b[39;00m\n\u001b[1;32m--> 247\u001b[0m \u001b[38;5;28;01mraise\u001b[39;00m exception_class(message, screen, stacktrace)\n",
      "\u001b[1;31mWebDriverException\u001b[0m: Message: chrome not reachable\n  (Session info: chrome=104.0.5112.102)\nStacktrace:\nBacktrace:\n\tOrdinal0 [0x005178B3+2193587]\n\tOrdinal0 [0x004B0681+1771137]\n\tOrdinal0 [0x003C4070+802928]\n\tOrdinal0 [0x003B9AB2+760498]\n\tOrdinal0 [0x003ACEAF+708271]\n\tOrdinal0 [0x003B1142+725314]\n\tOrdinal0 [0x003B55C9+742857]\n\tOrdinal0 [0x003C5500+808192]\n\tOrdinal0 [0x0041D2C2+1168066]\n\tOrdinal0 [0x0040D5C6+1103302]\n\tOrdinal0 [0x003E77E0+948192]\n\tOrdinal0 [0x003E86E6+952038]\n\tGetHandleVerifier [0x007C0CB2+2738370]\n\tGetHandleVerifier [0x007B21B8+2678216]\n\tGetHandleVerifier [0x005A17AA+512954]\n\tGetHandleVerifier [0x005A0856+509030]\n\tOrdinal0 [0x004B743B+1799227]\n\tOrdinal0 [0x004BBB68+1817448]\n\tOrdinal0 [0x004BBC55+1817685]\n\tOrdinal0 [0x004C5230+1856048]\n\tBaseThreadInitThunk [0x769FFA29+25]\n\tRtlGetAppContainerNamedObjectPath [0x77337A9E+286]\n\tRtlGetAppContainerNamedObjectPath [0x77337A6E+238]\n"
     ]
    }
   ],
   "source": [
    "open_link('perfume')\n",
    "scroll_down()\n",
    "elements = driver.find_elements(By.CSS_SELECTOR, value = 'div[class=\"_99s5\"]')[0:20]"
   ]
  },
  {
   "cell_type": "code",
   "execution_count": 16,
   "id": "a414b1d3",
   "metadata": {},
   "outputs": [
    {
     "ename": "WebDriverException",
     "evalue": "Message: chrome not reachable\n  (Session info: chrome=104.0.5112.102)\nStacktrace:\nBacktrace:\n\tOrdinal0 [0x005178B3+2193587]\n\tOrdinal0 [0x004B0681+1771137]\n\tOrdinal0 [0x003C4070+802928]\n\tOrdinal0 [0x003B9AB2+760498]\n\tOrdinal0 [0x003ACEAF+708271]\n\tOrdinal0 [0x003B1142+725314]\n\tOrdinal0 [0x003B55C9+742857]\n\tOrdinal0 [0x003C5500+808192]\n\tOrdinal0 [0x0041D2C2+1168066]\n\tOrdinal0 [0x0040D5C6+1103302]\n\tOrdinal0 [0x003E77E0+948192]\n\tOrdinal0 [0x003E86E6+952038]\n\tGetHandleVerifier [0x007C0CB2+2738370]\n\tGetHandleVerifier [0x007B21B8+2678216]\n\tGetHandleVerifier [0x005A17AA+512954]\n\tGetHandleVerifier [0x005A0856+509030]\n\tOrdinal0 [0x004B743B+1799227]\n\tOrdinal0 [0x004BBB68+1817448]\n\tOrdinal0 [0x004BBC55+1817685]\n\tOrdinal0 [0x004C5230+1856048]\n\tBaseThreadInitThunk [0x769FFA29+25]\n\tRtlGetAppContainerNamedObjectPath [0x77337A9E+286]\n\tRtlGetAppContainerNamedObjectPath [0x77337A6E+238]\n",
     "output_type": "error",
     "traceback": [
      "\u001b[1;31m---------------------------------------------------------------------------\u001b[0m",
      "\u001b[1;31mWebDriverException\u001b[0m                        Traceback (most recent call last)",
      "Input \u001b[1;32mIn [16]\u001b[0m, in \u001b[0;36m<cell line: 1>\u001b[1;34m()\u001b[0m\n\u001b[1;32m----> 1\u001b[0m elements \u001b[38;5;241m=\u001b[39m \u001b[43mdriver\u001b[49m\u001b[38;5;241;43m.\u001b[39;49m\u001b[43mfind_elements\u001b[49m\u001b[43m(\u001b[49m\u001b[43mBy\u001b[49m\u001b[38;5;241;43m.\u001b[39;49m\u001b[43mCSS_SELECTOR\u001b[49m\u001b[43m,\u001b[49m\u001b[43m \u001b[49m\u001b[43mvalue\u001b[49m\u001b[43m \u001b[49m\u001b[38;5;241;43m=\u001b[39;49m\u001b[43m \u001b[49m\u001b[38;5;124;43m'\u001b[39;49m\u001b[38;5;124;43mdiv[class=\u001b[39;49m\u001b[38;5;124;43m\"\u001b[39;49m\u001b[38;5;124;43m_99s5\u001b[39;49m\u001b[38;5;124;43m\"\u001b[39;49m\u001b[38;5;124;43m]\u001b[39;49m\u001b[38;5;124;43m'\u001b[39;49m\u001b[43m)\u001b[49m\n",
      "File \u001b[1;32m~\\anaconda3\\lib\\site-packages\\selenium\\webdriver\\remote\\webdriver.py:890\u001b[0m, in \u001b[0;36mWebDriver.find_elements\u001b[1;34m(self, by, value)\u001b[0m\n\u001b[0;32m    886\u001b[0m     value \u001b[38;5;241m=\u001b[39m \u001b[38;5;124m'\u001b[39m\u001b[38;5;124m[name=\u001b[39m\u001b[38;5;124m\"\u001b[39m\u001b[38;5;132;01m%s\u001b[39;00m\u001b[38;5;124m\"\u001b[39m\u001b[38;5;124m]\u001b[39m\u001b[38;5;124m'\u001b[39m \u001b[38;5;241m%\u001b[39m value\n\u001b[0;32m    888\u001b[0m \u001b[38;5;66;03m# Return empty list if driver returns null\u001b[39;00m\n\u001b[0;32m    889\u001b[0m \u001b[38;5;66;03m# See https://github.com/SeleniumHQ/selenium/issues/4555\u001b[39;00m\n\u001b[1;32m--> 890\u001b[0m \u001b[38;5;28;01mreturn\u001b[39;00m \u001b[38;5;28;43mself\u001b[39;49m\u001b[38;5;241;43m.\u001b[39;49m\u001b[43mexecute\u001b[49m\u001b[43m(\u001b[49m\u001b[43mCommand\u001b[49m\u001b[38;5;241;43m.\u001b[39;49m\u001b[43mFIND_ELEMENTS\u001b[49m\u001b[43m,\u001b[49m\u001b[43m \u001b[49m\u001b[43m{\u001b[49m\n\u001b[0;32m    891\u001b[0m \u001b[43m    \u001b[49m\u001b[38;5;124;43m'\u001b[39;49m\u001b[38;5;124;43musing\u001b[39;49m\u001b[38;5;124;43m'\u001b[39;49m\u001b[43m:\u001b[49m\u001b[43m \u001b[49m\u001b[43mby\u001b[49m\u001b[43m,\u001b[49m\n\u001b[0;32m    892\u001b[0m \u001b[43m    \u001b[49m\u001b[38;5;124;43m'\u001b[39;49m\u001b[38;5;124;43mvalue\u001b[39;49m\u001b[38;5;124;43m'\u001b[39;49m\u001b[43m:\u001b[49m\u001b[43m \u001b[49m\u001b[43mvalue\u001b[49m\u001b[43m}\u001b[49m\u001b[43m)\u001b[49m[\u001b[38;5;124m'\u001b[39m\u001b[38;5;124mvalue\u001b[39m\u001b[38;5;124m'\u001b[39m] \u001b[38;5;129;01mor\u001b[39;00m []\n",
      "File \u001b[1;32m~\\anaconda3\\lib\\site-packages\\selenium\\webdriver\\remote\\webdriver.py:435\u001b[0m, in \u001b[0;36mWebDriver.execute\u001b[1;34m(self, driver_command, params)\u001b[0m\n\u001b[0;32m    433\u001b[0m response \u001b[38;5;241m=\u001b[39m \u001b[38;5;28mself\u001b[39m\u001b[38;5;241m.\u001b[39mcommand_executor\u001b[38;5;241m.\u001b[39mexecute(driver_command, params)\n\u001b[0;32m    434\u001b[0m \u001b[38;5;28;01mif\u001b[39;00m response:\n\u001b[1;32m--> 435\u001b[0m     \u001b[38;5;28;43mself\u001b[39;49m\u001b[38;5;241;43m.\u001b[39;49m\u001b[43merror_handler\u001b[49m\u001b[38;5;241;43m.\u001b[39;49m\u001b[43mcheck_response\u001b[49m\u001b[43m(\u001b[49m\u001b[43mresponse\u001b[49m\u001b[43m)\u001b[49m\n\u001b[0;32m    436\u001b[0m     response[\u001b[38;5;124m'\u001b[39m\u001b[38;5;124mvalue\u001b[39m\u001b[38;5;124m'\u001b[39m] \u001b[38;5;241m=\u001b[39m \u001b[38;5;28mself\u001b[39m\u001b[38;5;241m.\u001b[39m_unwrap_value(\n\u001b[0;32m    437\u001b[0m         response\u001b[38;5;241m.\u001b[39mget(\u001b[38;5;124m'\u001b[39m\u001b[38;5;124mvalue\u001b[39m\u001b[38;5;124m'\u001b[39m, \u001b[38;5;28;01mNone\u001b[39;00m))\n\u001b[0;32m    438\u001b[0m     \u001b[38;5;28;01mreturn\u001b[39;00m response\n",
      "File \u001b[1;32m~\\anaconda3\\lib\\site-packages\\selenium\\webdriver\\remote\\errorhandler.py:247\u001b[0m, in \u001b[0;36mErrorHandler.check_response\u001b[1;34m(self, response)\u001b[0m\n\u001b[0;32m    245\u001b[0m         alert_text \u001b[38;5;241m=\u001b[39m value[\u001b[38;5;124m'\u001b[39m\u001b[38;5;124malert\u001b[39m\u001b[38;5;124m'\u001b[39m]\u001b[38;5;241m.\u001b[39mget(\u001b[38;5;124m'\u001b[39m\u001b[38;5;124mtext\u001b[39m\u001b[38;5;124m'\u001b[39m)\n\u001b[0;32m    246\u001b[0m     \u001b[38;5;28;01mraise\u001b[39;00m exception_class(message, screen, stacktrace, alert_text)  \u001b[38;5;66;03m# type: ignore[call-arg]  # mypy is not smart enough here\u001b[39;00m\n\u001b[1;32m--> 247\u001b[0m \u001b[38;5;28;01mraise\u001b[39;00m exception_class(message, screen, stacktrace)\n",
      "\u001b[1;31mWebDriverException\u001b[0m: Message: chrome not reachable\n  (Session info: chrome=104.0.5112.102)\nStacktrace:\nBacktrace:\n\tOrdinal0 [0x005178B3+2193587]\n\tOrdinal0 [0x004B0681+1771137]\n\tOrdinal0 [0x003C4070+802928]\n\tOrdinal0 [0x003B9AB2+760498]\n\tOrdinal0 [0x003ACEAF+708271]\n\tOrdinal0 [0x003B1142+725314]\n\tOrdinal0 [0x003B55C9+742857]\n\tOrdinal0 [0x003C5500+808192]\n\tOrdinal0 [0x0041D2C2+1168066]\n\tOrdinal0 [0x0040D5C6+1103302]\n\tOrdinal0 [0x003E77E0+948192]\n\tOrdinal0 [0x003E86E6+952038]\n\tGetHandleVerifier [0x007C0CB2+2738370]\n\tGetHandleVerifier [0x007B21B8+2678216]\n\tGetHandleVerifier [0x005A17AA+512954]\n\tGetHandleVerifier [0x005A0856+509030]\n\tOrdinal0 [0x004B743B+1799227]\n\tOrdinal0 [0x004BBB68+1817448]\n\tOrdinal0 [0x004BBC55+1817685]\n\tOrdinal0 [0x004C5230+1856048]\n\tBaseThreadInitThunk [0x769FFA29+25]\n\tRtlGetAppContainerNamedObjectPath [0x77337A9E+286]\n\tRtlGetAppContainerNamedObjectPath [0x77337A6E+238]\n"
     ]
    }
   ],
   "source": [
    "elements = driver.find_elements(By.CSS_SELECTOR, value = 'div[class=\"_99s5\"]')"
   ]
  },
  {
   "cell_type": "code",
   "execution_count": null,
   "id": "9880b924",
   "metadata": {},
   "outputs": [],
   "source": [
    "datetime.strptime('Jun 1 2005  1:33PM', '%b %d %Y %I:%M%p')"
   ]
  },
  {
   "cell_type": "code",
   "execution_count": 13,
   "id": "23fc916c",
   "metadata": {},
   "outputs": [
    {
     "data": {
      "text/plain": [
       "'2022-09-04'"
      ]
     },
     "execution_count": 13,
     "metadata": {},
     "output_type": "execute_result"
    }
   ],
   "source": []
  },
  {
   "cell_type": "code",
   "execution_count": 14,
   "id": "9d474c30",
   "metadata": {
    "scrolled": true
   },
   "outputs": [
    {
     "name": "stdout",
     "output_type": "stream",
     "text": [
      "2022-09-04\n",
      "2022-09-04\n",
      "2022-09-04\n",
      "2022-09-04\n",
      "2022-09-04\n"
     ]
    }
   ],
   "source": [
    "for element in elements:\n",
    "    date = find_start_date(element) \n",
    "    print(datetime.strptime(date,\"%d %b %Y\" ).strftime(\"%Y-%m-%d\"))\n"
   ]
  },
  {
   "cell_type": "code",
   "execution_count": null,
   "id": "ccdf9a97",
   "metadata": {},
   "outputs": [],
   "source": []
  },
  {
   "cell_type": "markdown",
   "id": "cc768c10",
   "metadata": {},
   "source": [
    "### terms test area\n"
   ]
  },
  {
   "cell_type": "code",
   "execution_count": 238,
   "id": "48519089",
   "metadata": {},
   "outputs": [],
   "source": [
    "terms = '''\n",
    "better\n",
    "works\\worked\n",
    "acne\n",
    "breakouts\n",
    "saggy\n",
    "baggy\n",
    "squint\n",
    "correct\n",
    "exfoliate\n",
    "body \n",
    "after bath \n",
    "cool \n",
    "couple\n",
    "armpit\n",
    "skin \n",
    "smooth\n",
    "soft \n",
    "boost \n",
    "shower \n",
    "cream \n",
    "scent \n",
    "nails\n",
    "sweet \n",
    "trim\n",
    "soap \n",
    "wrinkles\n",
    "eyebrows\n",
    "dollar\n",
    "usd\n",
    "dhr\n",
    "ريال\n",
    "sar\n",
    "riyal\n",
    "Perfect\n",
    "relieve\n",
    "anti-stink\n",
    "fabletics\n",
    "'''.split()"
   ]
  },
  {
   "cell_type": "code",
   "execution_count": 55,
   "id": "11d98614",
   "metadata": {},
   "outputs": [
    {
     "name": "stdout",
     "output_type": "stream",
     "text": [
      "\n"
     ]
    },
    {
     "name": "stderr",
     "output_type": "stream",
     "text": [
      "[WDM] - ====== WebDriver manager ======\n",
      "[WDM] - Current google-chrome version is 104.0.5112\n",
      "[WDM] - Get LATEST chromedriver version for 104.0.5112 google-chrome\n",
      "[WDM] - Driver [C:\\Users\\asd_v\\.wdm\\drivers\\chromedriver\\win32\\104.0.5112.79\\chromedriver.exe] found in cache\n"
     ]
    }
   ],
   "source": [
    "driver = open_driver()"
   ]
  },
  {
   "cell_type": "code",
   "execution_count": 240,
   "id": "96f4d2ee",
   "metadata": {},
   "outputs": [
    {
     "ename": "KeyboardInterrupt",
     "evalue": "",
     "output_type": "error",
     "traceback": [
      "\u001b[1;31m---------------------------------------------------------------------------\u001b[0m",
      "\u001b[1;31mKeyboardInterrupt\u001b[0m                         Traceback (most recent call last)",
      "Input \u001b[1;32mIn [240]\u001b[0m, in \u001b[0;36m<cell line: 1>\u001b[1;34m()\u001b[0m\n\u001b[1;32m----> 1\u001b[0m \u001b[43mstart_save\u001b[49m\u001b[43m(\u001b[49m\u001b[38;5;124;43m'\u001b[39;49m\u001b[38;5;124;43mworks\u001b[39;49m\u001b[38;5;124;43m\\\u001b[39;49m\u001b[38;5;124;43mworked\u001b[39;49m\u001b[38;5;124;43m'\u001b[39;49m\u001b[43m)\u001b[49m\n",
      "Input \u001b[1;32mIn [175]\u001b[0m, in \u001b[0;36mstart_save\u001b[1;34m(search_term, country, start_date, end_date, media_type, limit)\u001b[0m\n\u001b[0;32m     18\u001b[0m         AD_occurance \u001b[38;5;241m=\u001b[39m find_ads_occurence(element)\n\u001b[0;32m     19\u001b[0m \u001b[38;5;66;03m#         FB_ID, page_likes,Insta_ID,insta_followers, static_ID,ADS_count\u001b[39;00m\n\u001b[1;32m---> 20\u001b[0m         Facebook_ID, Page_likes,instgram_ID , insta_followers, static_ID, Ads_count  \u001b[38;5;241m=\u001b[39m \u001b[43mget_page_data\u001b[49m\u001b[43m(\u001b[49m\u001b[43melement\u001b[49m\u001b[43m)\u001b[49m\n\u001b[0;32m     21\u001b[0m         \u001b[38;5;66;03m#save to database   \u001b[39;00m\n\u001b[0;32m     22\u001b[0m         \u001b[38;5;28;01mtry\u001b[39;00m:\n\u001b[0;32m     23\u001b[0m             \u001b[38;5;66;03m#insert if not exist \u001b[39;00m\n",
      "Input \u001b[1;32mIn [236]\u001b[0m, in \u001b[0;36mget_page_data\u001b[1;34m(element)\u001b[0m\n\u001b[0;32m      1\u001b[0m \u001b[38;5;28;01mdef\u001b[39;00m \u001b[38;5;21mget_page_data\u001b[39m(element):\n\u001b[0;32m      2\u001b[0m     \u001b[38;5;66;03m#from the about only \u001b[39;00m\n\u001b[0;32m      3\u001b[0m     \u001b[38;5;66;03m#FB_ID, page_likes,Insta_ID,insta_followers, static_ID\u001b[39;00m\n\u001b[0;32m      4\u001b[0m     \n\u001b[0;32m      5\u001b[0m     \u001b[38;5;66;03m#MAIN PAGE ELEMENT\u001b[39;00m\n\u001b[1;32m----> 6\u001b[0m     main_element \u001b[38;5;241m=\u001b[39m \u001b[43mclick_see_ad_details\u001b[49m\u001b[43m(\u001b[49m\u001b[43melement\u001b[49m\u001b[43m)\u001b[49m\n\u001b[0;32m      8\u001b[0m     \u001b[38;5;66;03m#ABOUT THE PAGE ELEMENT\u001b[39;00m\n\u001b[0;32m      9\u001b[0m     about_the_page \u001b[38;5;241m=\u001b[39m WebDriverWait(main_element, \u001b[38;5;241m10\u001b[39m)\u001b[38;5;241m.\u001b[39muntil(EC\u001b[38;5;241m.\u001b[39mpresence_of_element_located((By\u001b[38;5;241m.\u001b[39mXPATH,\u001b[38;5;124m'\u001b[39m\u001b[38;5;124m./div[2]/div/div/div/div/div[3]/span/div[2]/div/div\u001b[39m\u001b[38;5;124m'\u001b[39m)))  \n",
      "Input \u001b[1;32mIn [173]\u001b[0m, in \u001b[0;36mclick_see_ad_details\u001b[1;34m(element)\u001b[0m\n\u001b[0;32m     71\u001b[0m driver\u001b[38;5;241m.\u001b[39mexecute_script(\u001b[38;5;124m\"\u001b[39m\u001b[38;5;124marguments[0].click();\u001b[39m\u001b[38;5;124m\"\u001b[39m, click)\n\u001b[0;32m     72\u001b[0m time\u001b[38;5;241m.\u001b[39msleep(\u001b[38;5;241m0.5\u001b[39m)\n\u001b[1;32m---> 73\u001b[0m \u001b[38;5;28;01mreturn\u001b[39;00m \u001b[43mWebDriverWait\u001b[49m\u001b[43m(\u001b[49m\u001b[43mdriver\u001b[49m\u001b[43m,\u001b[49m\u001b[43m \u001b[49m\u001b[38;5;241;43m10\u001b[39;49m\u001b[43m)\u001b[49m\u001b[38;5;241;43m.\u001b[39;49m\u001b[43muntil\u001b[49m\u001b[43m(\u001b[49m\u001b[43mEC\u001b[49m\u001b[38;5;241;43m.\u001b[39;49m\u001b[43mpresence_of_element_located\u001b[49m\u001b[43m(\u001b[49m\u001b[43m(\u001b[49m\u001b[43mBy\u001b[49m\u001b[38;5;241;43m.\u001b[39;49m\u001b[43mCSS_SELECTOR\u001b[49m\u001b[43m,\u001b[49m\u001b[38;5;124;43m'\u001b[39;49m\u001b[38;5;124;43mdiv[class=\u001b[39;49m\u001b[38;5;124;43m\"\u001b[39;49m\u001b[38;5;124;43m_5aat _4-hy uiLayer _3qw\u001b[39;49m\u001b[38;5;124;43m\"\u001b[39;49m\u001b[38;5;124;43m]\u001b[39;49m\u001b[38;5;124;43m'\u001b[39;49m\u001b[43m)\u001b[49m\u001b[43m)\u001b[49m\u001b[43m)\u001b[49m\n",
      "File \u001b[1;32m~\\anaconda3\\lib\\site-packages\\selenium\\webdriver\\support\\wait.py:81\u001b[0m, in \u001b[0;36mWebDriverWait.until\u001b[1;34m(self, method, message)\u001b[0m\n\u001b[0;32m     79\u001b[0m \u001b[38;5;28;01mwhile\u001b[39;00m \u001b[38;5;28;01mTrue\u001b[39;00m:\n\u001b[0;32m     80\u001b[0m     \u001b[38;5;28;01mtry\u001b[39;00m:\n\u001b[1;32m---> 81\u001b[0m         value \u001b[38;5;241m=\u001b[39m \u001b[43mmethod\u001b[49m\u001b[43m(\u001b[49m\u001b[38;5;28;43mself\u001b[39;49m\u001b[38;5;241;43m.\u001b[39;49m\u001b[43m_driver\u001b[49m\u001b[43m)\u001b[49m\n\u001b[0;32m     82\u001b[0m         \u001b[38;5;28;01mif\u001b[39;00m value:\n\u001b[0;32m     83\u001b[0m             \u001b[38;5;28;01mreturn\u001b[39;00m value\n",
      "File \u001b[1;32m~\\anaconda3\\lib\\site-packages\\selenium\\webdriver\\support\\expected_conditions.py:64\u001b[0m, in \u001b[0;36mpresence_of_element_located.<locals>._predicate\u001b[1;34m(driver)\u001b[0m\n\u001b[0;32m     63\u001b[0m \u001b[38;5;28;01mdef\u001b[39;00m \u001b[38;5;21m_predicate\u001b[39m(driver):\n\u001b[1;32m---> 64\u001b[0m     \u001b[38;5;28;01mreturn\u001b[39;00m \u001b[43mdriver\u001b[49m\u001b[38;5;241;43m.\u001b[39;49m\u001b[43mfind_element\u001b[49m\u001b[43m(\u001b[49m\u001b[38;5;241;43m*\u001b[39;49m\u001b[43mlocator\u001b[49m\u001b[43m)\u001b[49m\n",
      "File \u001b[1;32m~\\anaconda3\\lib\\site-packages\\selenium\\webdriver\\remote\\webdriver.py:857\u001b[0m, in \u001b[0;36mWebDriver.find_element\u001b[1;34m(self, by, value)\u001b[0m\n\u001b[0;32m    854\u001b[0m     by \u001b[38;5;241m=\u001b[39m By\u001b[38;5;241m.\u001b[39mCSS_SELECTOR\n\u001b[0;32m    855\u001b[0m     value \u001b[38;5;241m=\u001b[39m \u001b[38;5;124m'\u001b[39m\u001b[38;5;124m[name=\u001b[39m\u001b[38;5;124m\"\u001b[39m\u001b[38;5;132;01m%s\u001b[39;00m\u001b[38;5;124m\"\u001b[39m\u001b[38;5;124m]\u001b[39m\u001b[38;5;124m'\u001b[39m \u001b[38;5;241m%\u001b[39m value\n\u001b[1;32m--> 857\u001b[0m \u001b[38;5;28;01mreturn\u001b[39;00m \u001b[38;5;28;43mself\u001b[39;49m\u001b[38;5;241;43m.\u001b[39;49m\u001b[43mexecute\u001b[49m\u001b[43m(\u001b[49m\u001b[43mCommand\u001b[49m\u001b[38;5;241;43m.\u001b[39;49m\u001b[43mFIND_ELEMENT\u001b[49m\u001b[43m,\u001b[49m\u001b[43m \u001b[49m\u001b[43m{\u001b[49m\n\u001b[0;32m    858\u001b[0m \u001b[43m    \u001b[49m\u001b[38;5;124;43m'\u001b[39;49m\u001b[38;5;124;43musing\u001b[39;49m\u001b[38;5;124;43m'\u001b[39;49m\u001b[43m:\u001b[49m\u001b[43m \u001b[49m\u001b[43mby\u001b[49m\u001b[43m,\u001b[49m\n\u001b[0;32m    859\u001b[0m \u001b[43m    \u001b[49m\u001b[38;5;124;43m'\u001b[39;49m\u001b[38;5;124;43mvalue\u001b[39;49m\u001b[38;5;124;43m'\u001b[39;49m\u001b[43m:\u001b[49m\u001b[43m \u001b[49m\u001b[43mvalue\u001b[49m\u001b[43m}\u001b[49m\u001b[43m)\u001b[49m[\u001b[38;5;124m'\u001b[39m\u001b[38;5;124mvalue\u001b[39m\u001b[38;5;124m'\u001b[39m]\n",
      "File \u001b[1;32m~\\anaconda3\\lib\\site-packages\\selenium\\webdriver\\remote\\webdriver.py:433\u001b[0m, in \u001b[0;36mWebDriver.execute\u001b[1;34m(self, driver_command, params)\u001b[0m\n\u001b[0;32m    430\u001b[0m         params[\u001b[38;5;124m'\u001b[39m\u001b[38;5;124msessionId\u001b[39m\u001b[38;5;124m'\u001b[39m] \u001b[38;5;241m=\u001b[39m \u001b[38;5;28mself\u001b[39m\u001b[38;5;241m.\u001b[39msession_id\n\u001b[0;32m    432\u001b[0m params \u001b[38;5;241m=\u001b[39m \u001b[38;5;28mself\u001b[39m\u001b[38;5;241m.\u001b[39m_wrap_value(params)\n\u001b[1;32m--> 433\u001b[0m response \u001b[38;5;241m=\u001b[39m \u001b[38;5;28;43mself\u001b[39;49m\u001b[38;5;241;43m.\u001b[39;49m\u001b[43mcommand_executor\u001b[49m\u001b[38;5;241;43m.\u001b[39;49m\u001b[43mexecute\u001b[49m\u001b[43m(\u001b[49m\u001b[43mdriver_command\u001b[49m\u001b[43m,\u001b[49m\u001b[43m \u001b[49m\u001b[43mparams\u001b[49m\u001b[43m)\u001b[49m\n\u001b[0;32m    434\u001b[0m \u001b[38;5;28;01mif\u001b[39;00m response:\n\u001b[0;32m    435\u001b[0m     \u001b[38;5;28mself\u001b[39m\u001b[38;5;241m.\u001b[39merror_handler\u001b[38;5;241m.\u001b[39mcheck_response(response)\n",
      "File \u001b[1;32m~\\anaconda3\\lib\\site-packages\\selenium\\webdriver\\remote\\remote_connection.py:344\u001b[0m, in \u001b[0;36mRemoteConnection.execute\u001b[1;34m(self, command, params)\u001b[0m\n\u001b[0;32m    342\u001b[0m data \u001b[38;5;241m=\u001b[39m utils\u001b[38;5;241m.\u001b[39mdump_json(params)\n\u001b[0;32m    343\u001b[0m url \u001b[38;5;241m=\u001b[39m \u001b[38;5;124mf\u001b[39m\u001b[38;5;124m\"\u001b[39m\u001b[38;5;132;01m{\u001b[39;00m\u001b[38;5;28mself\u001b[39m\u001b[38;5;241m.\u001b[39m_url\u001b[38;5;132;01m}\u001b[39;00m\u001b[38;5;132;01m{\u001b[39;00mpath\u001b[38;5;132;01m}\u001b[39;00m\u001b[38;5;124m\"\u001b[39m\n\u001b[1;32m--> 344\u001b[0m \u001b[38;5;28;01mreturn\u001b[39;00m \u001b[38;5;28;43mself\u001b[39;49m\u001b[38;5;241;43m.\u001b[39;49m\u001b[43m_request\u001b[49m\u001b[43m(\u001b[49m\u001b[43mcommand_info\u001b[49m\u001b[43m[\u001b[49m\u001b[38;5;241;43m0\u001b[39;49m\u001b[43m]\u001b[49m\u001b[43m,\u001b[49m\u001b[43m \u001b[49m\u001b[43murl\u001b[49m\u001b[43m,\u001b[49m\u001b[43m \u001b[49m\u001b[43mbody\u001b[49m\u001b[38;5;241;43m=\u001b[39;49m\u001b[43mdata\u001b[49m\u001b[43m)\u001b[49m\n",
      "File \u001b[1;32m~\\anaconda3\\lib\\site-packages\\selenium\\webdriver\\remote\\remote_connection.py:366\u001b[0m, in \u001b[0;36mRemoteConnection._request\u001b[1;34m(self, method, url, body)\u001b[0m\n\u001b[0;32m    363\u001b[0m     body \u001b[38;5;241m=\u001b[39m \u001b[38;5;28;01mNone\u001b[39;00m\n\u001b[0;32m    365\u001b[0m \u001b[38;5;28;01mif\u001b[39;00m \u001b[38;5;28mself\u001b[39m\u001b[38;5;241m.\u001b[39mkeep_alive:\n\u001b[1;32m--> 366\u001b[0m     response \u001b[38;5;241m=\u001b[39m \u001b[38;5;28;43mself\u001b[39;49m\u001b[38;5;241;43m.\u001b[39;49m\u001b[43m_conn\u001b[49m\u001b[38;5;241;43m.\u001b[39;49m\u001b[43mrequest\u001b[49m\u001b[43m(\u001b[49m\u001b[43mmethod\u001b[49m\u001b[43m,\u001b[49m\u001b[43m \u001b[49m\u001b[43murl\u001b[49m\u001b[43m,\u001b[49m\u001b[43m \u001b[49m\u001b[43mbody\u001b[49m\u001b[38;5;241;43m=\u001b[39;49m\u001b[43mbody\u001b[49m\u001b[43m,\u001b[49m\u001b[43m \u001b[49m\u001b[43mheaders\u001b[49m\u001b[38;5;241;43m=\u001b[39;49m\u001b[43mheaders\u001b[49m\u001b[43m)\u001b[49m\n\u001b[0;32m    367\u001b[0m     statuscode \u001b[38;5;241m=\u001b[39m response\u001b[38;5;241m.\u001b[39mstatus\n\u001b[0;32m    368\u001b[0m \u001b[38;5;28;01melse\u001b[39;00m:\n",
      "File \u001b[1;32m~\\anaconda3\\lib\\site-packages\\urllib3\\request.py:78\u001b[0m, in \u001b[0;36mRequestMethods.request\u001b[1;34m(self, method, url, fields, headers, **urlopen_kw)\u001b[0m\n\u001b[0;32m     74\u001b[0m     \u001b[38;5;28;01mreturn\u001b[39;00m \u001b[38;5;28mself\u001b[39m\u001b[38;5;241m.\u001b[39mrequest_encode_url(\n\u001b[0;32m     75\u001b[0m         method, url, fields\u001b[38;5;241m=\u001b[39mfields, headers\u001b[38;5;241m=\u001b[39mheaders, \u001b[38;5;241m*\u001b[39m\u001b[38;5;241m*\u001b[39murlopen_kw\n\u001b[0;32m     76\u001b[0m     )\n\u001b[0;32m     77\u001b[0m \u001b[38;5;28;01melse\u001b[39;00m:\n\u001b[1;32m---> 78\u001b[0m     \u001b[38;5;28;01mreturn\u001b[39;00m \u001b[38;5;28mself\u001b[39m\u001b[38;5;241m.\u001b[39mrequest_encode_body(\n\u001b[0;32m     79\u001b[0m         method, url, fields\u001b[38;5;241m=\u001b[39mfields, headers\u001b[38;5;241m=\u001b[39mheaders, \u001b[38;5;241m*\u001b[39m\u001b[38;5;241m*\u001b[39murlopen_kw\n\u001b[0;32m     80\u001b[0m     )\n",
      "File \u001b[1;32m~\\anaconda3\\lib\\site-packages\\urllib3\\request.py:170\u001b[0m, in \u001b[0;36mRequestMethods.request_encode_body\u001b[1;34m(self, method, url, fields, headers, encode_multipart, multipart_boundary, **urlopen_kw)\u001b[0m\n\u001b[0;32m    167\u001b[0m extra_kw[\u001b[38;5;124m\"\u001b[39m\u001b[38;5;124mheaders\u001b[39m\u001b[38;5;124m\"\u001b[39m]\u001b[38;5;241m.\u001b[39mupdate(headers)\n\u001b[0;32m    168\u001b[0m extra_kw\u001b[38;5;241m.\u001b[39mupdate(urlopen_kw)\n\u001b[1;32m--> 170\u001b[0m \u001b[38;5;28;01mreturn\u001b[39;00m \u001b[38;5;28mself\u001b[39m\u001b[38;5;241m.\u001b[39murlopen(method, url, \u001b[38;5;241m*\u001b[39m\u001b[38;5;241m*\u001b[39mextra_kw)\n",
      "File \u001b[1;32m~\\anaconda3\\lib\\site-packages\\urllib3\\poolmanager.py:376\u001b[0m, in \u001b[0;36mPoolManager.urlopen\u001b[1;34m(self, method, url, redirect, **kw)\u001b[0m\n\u001b[0;32m    374\u001b[0m     response \u001b[38;5;241m=\u001b[39m conn\u001b[38;5;241m.\u001b[39murlopen(method, url, \u001b[38;5;241m*\u001b[39m\u001b[38;5;241m*\u001b[39mkw)\n\u001b[0;32m    375\u001b[0m \u001b[38;5;28;01melse\u001b[39;00m:\n\u001b[1;32m--> 376\u001b[0m     response \u001b[38;5;241m=\u001b[39m conn\u001b[38;5;241m.\u001b[39murlopen(method, u\u001b[38;5;241m.\u001b[39mrequest_uri, \u001b[38;5;241m*\u001b[39m\u001b[38;5;241m*\u001b[39mkw)\n\u001b[0;32m    378\u001b[0m redirect_location \u001b[38;5;241m=\u001b[39m redirect \u001b[38;5;129;01mand\u001b[39;00m response\u001b[38;5;241m.\u001b[39mget_redirect_location()\n\u001b[0;32m    379\u001b[0m \u001b[38;5;28;01mif\u001b[39;00m \u001b[38;5;129;01mnot\u001b[39;00m redirect_location:\n",
      "File \u001b[1;32m~\\anaconda3\\lib\\site-packages\\urllib3\\connectionpool.py:703\u001b[0m, in \u001b[0;36mHTTPConnectionPool.urlopen\u001b[1;34m(self, method, url, body, headers, retries, redirect, assert_same_host, timeout, pool_timeout, release_conn, chunked, body_pos, **response_kw)\u001b[0m\n\u001b[0;32m    700\u001b[0m     \u001b[38;5;28mself\u001b[39m\u001b[38;5;241m.\u001b[39m_prepare_proxy(conn)\n\u001b[0;32m    702\u001b[0m \u001b[38;5;66;03m# Make the request on the httplib connection object.\u001b[39;00m\n\u001b[1;32m--> 703\u001b[0m httplib_response \u001b[38;5;241m=\u001b[39m \u001b[38;5;28;43mself\u001b[39;49m\u001b[38;5;241;43m.\u001b[39;49m\u001b[43m_make_request\u001b[49m\u001b[43m(\u001b[49m\n\u001b[0;32m    704\u001b[0m \u001b[43m    \u001b[49m\u001b[43mconn\u001b[49m\u001b[43m,\u001b[49m\n\u001b[0;32m    705\u001b[0m \u001b[43m    \u001b[49m\u001b[43mmethod\u001b[49m\u001b[43m,\u001b[49m\n\u001b[0;32m    706\u001b[0m \u001b[43m    \u001b[49m\u001b[43murl\u001b[49m\u001b[43m,\u001b[49m\n\u001b[0;32m    707\u001b[0m \u001b[43m    \u001b[49m\u001b[43mtimeout\u001b[49m\u001b[38;5;241;43m=\u001b[39;49m\u001b[43mtimeout_obj\u001b[49m\u001b[43m,\u001b[49m\n\u001b[0;32m    708\u001b[0m \u001b[43m    \u001b[49m\u001b[43mbody\u001b[49m\u001b[38;5;241;43m=\u001b[39;49m\u001b[43mbody\u001b[49m\u001b[43m,\u001b[49m\n\u001b[0;32m    709\u001b[0m \u001b[43m    \u001b[49m\u001b[43mheaders\u001b[49m\u001b[38;5;241;43m=\u001b[39;49m\u001b[43mheaders\u001b[49m\u001b[43m,\u001b[49m\n\u001b[0;32m    710\u001b[0m \u001b[43m    \u001b[49m\u001b[43mchunked\u001b[49m\u001b[38;5;241;43m=\u001b[39;49m\u001b[43mchunked\u001b[49m\u001b[43m,\u001b[49m\n\u001b[0;32m    711\u001b[0m \u001b[43m\u001b[49m\u001b[43m)\u001b[49m\n\u001b[0;32m    713\u001b[0m \u001b[38;5;66;03m# If we're going to release the connection in ``finally:``, then\u001b[39;00m\n\u001b[0;32m    714\u001b[0m \u001b[38;5;66;03m# the response doesn't need to know about the connection. Otherwise\u001b[39;00m\n\u001b[0;32m    715\u001b[0m \u001b[38;5;66;03m# it will also try to release it and we'll have a double-release\u001b[39;00m\n\u001b[0;32m    716\u001b[0m \u001b[38;5;66;03m# mess.\u001b[39;00m\n\u001b[0;32m    717\u001b[0m response_conn \u001b[38;5;241m=\u001b[39m conn \u001b[38;5;28;01mif\u001b[39;00m \u001b[38;5;129;01mnot\u001b[39;00m release_conn \u001b[38;5;28;01melse\u001b[39;00m \u001b[38;5;28;01mNone\u001b[39;00m\n",
      "File \u001b[1;32m~\\anaconda3\\lib\\site-packages\\urllib3\\connectionpool.py:449\u001b[0m, in \u001b[0;36mHTTPConnectionPool._make_request\u001b[1;34m(self, conn, method, url, timeout, chunked, **httplib_request_kw)\u001b[0m\n\u001b[0;32m    444\u001b[0m             httplib_response \u001b[38;5;241m=\u001b[39m conn\u001b[38;5;241m.\u001b[39mgetresponse()\n\u001b[0;32m    445\u001b[0m         \u001b[38;5;28;01mexcept\u001b[39;00m \u001b[38;5;167;01mBaseException\u001b[39;00m \u001b[38;5;28;01mas\u001b[39;00m e:\n\u001b[0;32m    446\u001b[0m             \u001b[38;5;66;03m# Remove the TypeError from the exception chain in\u001b[39;00m\n\u001b[0;32m    447\u001b[0m             \u001b[38;5;66;03m# Python 3 (including for exceptions like SystemExit).\u001b[39;00m\n\u001b[0;32m    448\u001b[0m             \u001b[38;5;66;03m# Otherwise it looks like a bug in the code.\u001b[39;00m\n\u001b[1;32m--> 449\u001b[0m             \u001b[43msix\u001b[49m\u001b[38;5;241;43m.\u001b[39;49m\u001b[43mraise_from\u001b[49m\u001b[43m(\u001b[49m\u001b[43me\u001b[49m\u001b[43m,\u001b[49m\u001b[43m \u001b[49m\u001b[38;5;28;43;01mNone\u001b[39;49;00m\u001b[43m)\u001b[49m\n\u001b[0;32m    450\u001b[0m \u001b[38;5;28;01mexcept\u001b[39;00m (SocketTimeout, BaseSSLError, SocketError) \u001b[38;5;28;01mas\u001b[39;00m e:\n\u001b[0;32m    451\u001b[0m     \u001b[38;5;28mself\u001b[39m\u001b[38;5;241m.\u001b[39m_raise_timeout(err\u001b[38;5;241m=\u001b[39me, url\u001b[38;5;241m=\u001b[39murl, timeout_value\u001b[38;5;241m=\u001b[39mread_timeout)\n",
      "File \u001b[1;32m<string>:3\u001b[0m, in \u001b[0;36mraise_from\u001b[1;34m(value, from_value)\u001b[0m\n",
      "File \u001b[1;32m~\\anaconda3\\lib\\site-packages\\urllib3\\connectionpool.py:444\u001b[0m, in \u001b[0;36mHTTPConnectionPool._make_request\u001b[1;34m(self, conn, method, url, timeout, chunked, **httplib_request_kw)\u001b[0m\n\u001b[0;32m    441\u001b[0m \u001b[38;5;28;01mexcept\u001b[39;00m \u001b[38;5;167;01mTypeError\u001b[39;00m:\n\u001b[0;32m    442\u001b[0m     \u001b[38;5;66;03m# Python 3\u001b[39;00m\n\u001b[0;32m    443\u001b[0m     \u001b[38;5;28;01mtry\u001b[39;00m:\n\u001b[1;32m--> 444\u001b[0m         httplib_response \u001b[38;5;241m=\u001b[39m \u001b[43mconn\u001b[49m\u001b[38;5;241;43m.\u001b[39;49m\u001b[43mgetresponse\u001b[49m\u001b[43m(\u001b[49m\u001b[43m)\u001b[49m\n\u001b[0;32m    445\u001b[0m     \u001b[38;5;28;01mexcept\u001b[39;00m \u001b[38;5;167;01mBaseException\u001b[39;00m \u001b[38;5;28;01mas\u001b[39;00m e:\n\u001b[0;32m    446\u001b[0m         \u001b[38;5;66;03m# Remove the TypeError from the exception chain in\u001b[39;00m\n\u001b[0;32m    447\u001b[0m         \u001b[38;5;66;03m# Python 3 (including for exceptions like SystemExit).\u001b[39;00m\n\u001b[0;32m    448\u001b[0m         \u001b[38;5;66;03m# Otherwise it looks like a bug in the code.\u001b[39;00m\n\u001b[0;32m    449\u001b[0m         six\u001b[38;5;241m.\u001b[39mraise_from(e, \u001b[38;5;28;01mNone\u001b[39;00m)\n",
      "File \u001b[1;32m~\\anaconda3\\lib\\http\\client.py:1377\u001b[0m, in \u001b[0;36mHTTPConnection.getresponse\u001b[1;34m(self)\u001b[0m\n\u001b[0;32m   1375\u001b[0m \u001b[38;5;28;01mtry\u001b[39;00m:\n\u001b[0;32m   1376\u001b[0m     \u001b[38;5;28;01mtry\u001b[39;00m:\n\u001b[1;32m-> 1377\u001b[0m         \u001b[43mresponse\u001b[49m\u001b[38;5;241;43m.\u001b[39;49m\u001b[43mbegin\u001b[49m\u001b[43m(\u001b[49m\u001b[43m)\u001b[49m\n\u001b[0;32m   1378\u001b[0m     \u001b[38;5;28;01mexcept\u001b[39;00m \u001b[38;5;167;01mConnectionError\u001b[39;00m:\n\u001b[0;32m   1379\u001b[0m         \u001b[38;5;28mself\u001b[39m\u001b[38;5;241m.\u001b[39mclose()\n",
      "File \u001b[1;32m~\\anaconda3\\lib\\http\\client.py:320\u001b[0m, in \u001b[0;36mHTTPResponse.begin\u001b[1;34m(self)\u001b[0m\n\u001b[0;32m    318\u001b[0m \u001b[38;5;66;03m# read until we get a non-100 response\u001b[39;00m\n\u001b[0;32m    319\u001b[0m \u001b[38;5;28;01mwhile\u001b[39;00m \u001b[38;5;28;01mTrue\u001b[39;00m:\n\u001b[1;32m--> 320\u001b[0m     version, status, reason \u001b[38;5;241m=\u001b[39m \u001b[38;5;28;43mself\u001b[39;49m\u001b[38;5;241;43m.\u001b[39;49m\u001b[43m_read_status\u001b[49m\u001b[43m(\u001b[49m\u001b[43m)\u001b[49m\n\u001b[0;32m    321\u001b[0m     \u001b[38;5;28;01mif\u001b[39;00m status \u001b[38;5;241m!=\u001b[39m CONTINUE:\n\u001b[0;32m    322\u001b[0m         \u001b[38;5;28;01mbreak\u001b[39;00m\n",
      "File \u001b[1;32m~\\anaconda3\\lib\\http\\client.py:281\u001b[0m, in \u001b[0;36mHTTPResponse._read_status\u001b[1;34m(self)\u001b[0m\n\u001b[0;32m    280\u001b[0m \u001b[38;5;28;01mdef\u001b[39;00m \u001b[38;5;21m_read_status\u001b[39m(\u001b[38;5;28mself\u001b[39m):\n\u001b[1;32m--> 281\u001b[0m     line \u001b[38;5;241m=\u001b[39m \u001b[38;5;28mstr\u001b[39m(\u001b[38;5;28;43mself\u001b[39;49m\u001b[38;5;241;43m.\u001b[39;49m\u001b[43mfp\u001b[49m\u001b[38;5;241;43m.\u001b[39;49m\u001b[43mreadline\u001b[49m\u001b[43m(\u001b[49m\u001b[43m_MAXLINE\u001b[49m\u001b[43m \u001b[49m\u001b[38;5;241;43m+\u001b[39;49m\u001b[43m \u001b[49m\u001b[38;5;241;43m1\u001b[39;49m\u001b[43m)\u001b[49m, \u001b[38;5;124m\"\u001b[39m\u001b[38;5;124miso-8859-1\u001b[39m\u001b[38;5;124m\"\u001b[39m)\n\u001b[0;32m    282\u001b[0m     \u001b[38;5;28;01mif\u001b[39;00m \u001b[38;5;28mlen\u001b[39m(line) \u001b[38;5;241m>\u001b[39m _MAXLINE:\n\u001b[0;32m    283\u001b[0m         \u001b[38;5;28;01mraise\u001b[39;00m LineTooLong(\u001b[38;5;124m\"\u001b[39m\u001b[38;5;124mstatus line\u001b[39m\u001b[38;5;124m\"\u001b[39m)\n",
      "File \u001b[1;32m~\\anaconda3\\lib\\socket.py:704\u001b[0m, in \u001b[0;36mSocketIO.readinto\u001b[1;34m(self, b)\u001b[0m\n\u001b[0;32m    702\u001b[0m \u001b[38;5;28;01mwhile\u001b[39;00m \u001b[38;5;28;01mTrue\u001b[39;00m:\n\u001b[0;32m    703\u001b[0m     \u001b[38;5;28;01mtry\u001b[39;00m:\n\u001b[1;32m--> 704\u001b[0m         \u001b[38;5;28;01mreturn\u001b[39;00m \u001b[38;5;28;43mself\u001b[39;49m\u001b[38;5;241;43m.\u001b[39;49m\u001b[43m_sock\u001b[49m\u001b[38;5;241;43m.\u001b[39;49m\u001b[43mrecv_into\u001b[49m\u001b[43m(\u001b[49m\u001b[43mb\u001b[49m\u001b[43m)\u001b[49m\n\u001b[0;32m    705\u001b[0m     \u001b[38;5;28;01mexcept\u001b[39;00m timeout:\n\u001b[0;32m    706\u001b[0m         \u001b[38;5;28mself\u001b[39m\u001b[38;5;241m.\u001b[39m_timeout_occurred \u001b[38;5;241m=\u001b[39m \u001b[38;5;28;01mTrue\u001b[39;00m\n",
      "\u001b[1;31mKeyboardInterrupt\u001b[0m: "
     ]
    }
   ],
   "source": [
    "start_save('works\\worked')"
   ]
  },
  {
   "cell_type": "code",
   "execution_count": 239,
   "id": "55609537",
   "metadata": {
    "scrolled": true
   },
   "outputs": [
    {
     "name": "stdout",
     "output_type": "stream",
     "text": [
      "better\n",
      "0:00:00\n"
     ]
    },
    {
     "name": "stderr",
     "output_type": "stream",
     "text": [
      "\n",
      "KeyboardInterrupt\n",
      "\n"
     ]
    }
   ],
   "source": [
    "strt = datetime.now()\n",
    "for term in terms:\n",
    "    print(term)\n",
    "    print(datetime.now() - strt)\n",
    "#     open_link(term)\n",
    "#     scroll_down(20)\n",
    "#     elements = driver.find_elements(By.CSS_SELECTOR, value = 'div[class=\"_99s5\"]')[0:5]\n",
    "#     for element in elements:\n",
    "#         print(find_ID(element))\n",
    "#         print(find_page_ad_count(element))\n",
    "    start_save(term)\n",
    "    print(\"____________\")    \n",
    "    #     print(find_start_date(element))\n",
    "    #     print(find_profile_pic(element))\n",
    "    #     print(find_links(element))\n",
    "    #     print(find_ad_videos(element))\n",
    "    #     print(find_content(element))\n",
    "    #     print(find_footer(element))\n",
    "    #     print(find_page_name(element))\n",
    "    #     print(find_ads_occurence(element))\n",
    "    #     print(get_page_data(element))\n",
    "        "
   ]
  },
  {
   "cell_type": "markdown",
   "id": "b8365b8f",
   "metadata": {},
   "source": [
    "### database codes"
   ]
  },
  {
   "cell_type": "code",
   "execution_count": 142,
   "id": "69ca3def",
   "metadata": {},
   "outputs": [],
   "source": [
    "# Create database\n",
    "conn = sqlite3.connect('FaceBoookADS.db')\n",
    "c = conn.cursor()\n",
    "c.execute('''DROP TABLE ads2''')\n",
    "c.execute('''\n",
    "CREATE TABLE ads2\n",
    "(AD_ID TEXT PRIMARY KEY,\n",
    "date TEXT,\n",
    "days TEXT,\n",
    "hits INT,\n",
    "search_term TEXT)''')\n",
    "conn.commit()\n",
    "conn.close()"
   ]
  },
  {
   "cell_type": "code",
   "execution_count": 143,
   "id": "95fff978",
   "metadata": {},
   "outputs": [],
   "source": [
    "# Insert Values\n",
    "conn = sqlite3.connect('FaceBoookADS.db')\n",
    "c = conn.cursor()\n",
    "# text = datetime.now().strftime(\"%d/%m/%Y %H:%M:%S\")\n",
    "# text = text + ' '  + 'ريال'\n",
    "date = datetime.now().strftime(\"%d/%m/%Y %H:%M:%S\")\n",
    "days = datetime.now().strftime(\"%d/%m/%Y\")\n",
    "hits = 0\n",
    "search_term = 'ريال'\n",
    "c.execute(\"INSERT INTO ads2 VALUES (?, ?,?,?,?)\", ('ID1', date,days,hits,search_term))\n",
    "conn.commit()\n",
    "conn.close()"
   ]
  },
  {
   "cell_type": "code",
   "execution_count": 109,
   "id": "775ce436",
   "metadata": {},
   "outputs": [],
   "source": [
    "conn = sqlite3.connect('FaceBoookADS.db')\n",
    "c = conn.cursor()\n",
    "text = datetime.now().strftime(\"%d/%m/%Y %H:%M:%S\")\n",
    "text = text + ' '  + 'ريال'\n",
    "c.execute(\"UPDATE ads2 SET appears_Dates =  ?  where AD_ID = ?\", (text, 'test1'))\n",
    "conn.commit()\n",
    "conn.close()"
   ]
  },
  {
   "cell_type": "code",
   "execution_count": 149,
   "id": "542b64c3",
   "metadata": {},
   "outputs": [],
   "source": [
    "conn = sqlite3.connect('FaceBoookADS.db')\n",
    "c = conn.cursor()\n",
    "text = datetime.now().strftime(\"%d/%m/%Y %H:%M:%S\")\n",
    "text = text + ' '  + 'ريال'\n",
    "c.execute(\"UPDATE ads2 SET date = date|| ',' || ? , days = days || ',' || ? , hits = hits + 1 , search_term = search_term || ',' || ?   where AD_ID = ?\", (date,days,search_term, 'ID1'))\n",
    "conn.commit()\n",
    "conn.close()"
   ]
  },
  {
   "cell_type": "code",
   "execution_count": 114,
   "id": "c50155fb",
   "metadata": {},
   "outputs": [
    {
     "name": "stdout",
     "output_type": "stream",
     "text": [
      "['30/08/2022', '16:09:48', 'ريال']\n",
      "['30/08/2022', '16:09:50', 'ريال']\n"
     ]
    }
   ],
   "source": [
    "# Read Values\n",
    "conn = sqlite3.connect('FaceBoookADS.db')\n",
    "c = conn.cursor()\n",
    "\n",
    "for row in c.execute('SELECT * FROM ads2'):\n",
    "    value = row[1]\n",
    "#     print(row[1])\n",
    "\n",
    "# number = [row[2] for row in c.execute('SELECT * FROM tablename')]\n",
    "conn.close()\n",
    "for i in value.split(','):\n",
    "    print(i.split())"
   ]
  },
  {
   "cell_type": "code",
   "execution_count": 122,
   "id": "3f87b4a9",
   "metadata": {},
   "outputs": [
    {
     "data": {
      "text/plain": [
       "['30/08/2022 16:09:48 ريال', '30/08/2022 16:09:50 ريال']"
      ]
     },
     "execution_count": 122,
     "metadata": {},
     "output_type": "execute_result"
    }
   ],
   "source": [
    "\n",
    "value.split(',')"
   ]
  },
  {
   "cell_type": "code",
   "execution_count": 117,
   "id": "215965a1",
   "metadata": {},
   "outputs": [
    {
     "data": {
      "text/plain": [
       "['30/08/2022 16:09:48 ريال', '30/08/2022 16:09:50 ريال']"
      ]
     },
     "execution_count": 117,
     "metadata": {},
     "output_type": "execute_result"
    }
   ],
   "source": [
    "value.split(',')"
   ]
  }
 ],
 "metadata": {
  "kernelspec": {
   "display_name": "Python 3 (ipykernel)",
   "language": "python",
   "name": "python3"
  },
  "language_info": {
   "codemirror_mode": {
    "name": "ipython",
    "version": 3
   },
   "file_extension": ".py",
   "mimetype": "text/x-python",
   "name": "python",
   "nbconvert_exporter": "python",
   "pygments_lexer": "ipython3",
   "version": "3.9.12"
  }
 },
 "nbformat": 4,
 "nbformat_minor": 5
}
