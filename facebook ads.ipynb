{
 "cells": [
  {
   "cell_type": "code",
   "execution_count": 1,
   "id": "76ef85ad",
   "metadata": {},
   "outputs": [],
   "source": [
    "import pandas as pd\n",
    "from selenium import webdriver\n",
    "from selenium.webdriver.chrome.options import Options\n",
    "from selenium.webdriver.common.keys import Keys\n",
    "from selenium.webdriver.common.by import By\n",
    "from selenium.webdriver.chrome.service import Service\n",
    "from webdriver_manager.chrome import ChromeDriverManager\n",
    "from selenium.webdriver.support.ui import Select\n",
    "from selenium.webdriver.support.ui import WebDriverWait\n",
    "import re\n",
    "from selenium import webdriver\n",
    "import urllib.request\n",
    "import socket\n",
    "import urllib.error\n",
    "from selenium.webdriver.support import expected_conditions as EC\n",
    "import time\n",
    "import csv\n",
    "import random\n",
    "import threading as th\n",
    "from selenium import webdriver\n",
    "from selenium.webdriver.common.proxy import Proxy, ProxyType\n",
    "import time\n",
    "from selenium import webdriver\n",
    "from selenium.webdriver.common.action_chains import ActionChains\n",
    "from datetime import datetime\n",
    "\n",
    "import sqlite3\n",
    "\n",
    "\n"
   ]
  },
  {
   "cell_type": "code",
   "execution_count": 6,
   "id": "8e8fa283",
   "metadata": {},
   "outputs": [
    {
     "name": "stdout",
     "output_type": "stream",
     "text": [
      "\n"
     ]
    },
    {
     "name": "stderr",
     "output_type": "stream",
     "text": [
      "[WDM] - ====== WebDriver manager ======\n",
      "[WDM] - Current google-chrome version is 104.0.5112\n",
      "[WDM] - Get LATEST chromedriver version for 104.0.5112 google-chrome\n",
      "[WDM] - Driver [C:\\Users\\asd_v\\.wdm\\drivers\\chromedriver\\win32\\104.0.5112.79\\chromedriver.exe] found in cache\n"
     ]
    }
   ],
   "source": [
    "\n",
    "options = webdriver.ChromeOptions()\n",
    "\n",
    "driver = webdriver.Chrome(service=Service(ChromeDriverManager().install()))\n"
   ]
  },
  {
   "cell_type": "code",
   "execution_count": 3,
   "id": "0de26e9c",
   "metadata": {},
   "outputs": [],
   "source": [
    "# def scroll_to_end(driver):\n",
    "# # Get scroll height\n",
    "#     last_height = driver.execute_script(\"return document.body.scrollHeight\")\n",
    "\n",
    "#     while True:\n",
    "#         # Scroll down to bottom\n",
    "#         driver.execute_script(\"window.scrollTo(0, document.body.scrollHeight);\")\n",
    "\n",
    "#         # Wait to load page\n",
    "#         time.sleep(2)\n",
    "\n",
    "#         # Calculate new scroll height and compare with last scroll height\n",
    "#         new_height = driver.execute_script(\"return document.body.scrollHeight\")\n",
    "#         if new_height == last_height:\n",
    "#             break\n",
    "#         last_height = new_height"
   ]
  },
  {
   "cell_type": "code",
   "execution_count": 200,
   "id": "870e81fc",
   "metadata": {},
   "outputs": [],
   "source": [
    "# search_term = 'ريال'\n",
    "# link = f'https://www.facebook.com/ads/library/?active_status=all&ad_type=all&country=EG&q={search_term}&sort_data[direction]=desc&sort_data[mode]=relevancy_monthly_grouped&search_type=keyword_unordered&media_type=all'\n",
    "# driver.get(link)\n",
    "# # time.sleep(1)\n",
    "# # driver.execute_script(\"window.scrollTo(0, document.body.scrollHeight);\")"
   ]
  },
  {
   "cell_type": "code",
   "execution_count": 7,
   "id": "74a111f7",
   "metadata": {},
   "outputs": [],
   "source": [
    "terms = '''\n",
    "better\n",
    "works\\worked\n",
    "acne\n",
    "breakouts\n",
    "saggy\n",
    "baggy\n",
    "squint\n",
    "correct\n",
    "exfoliate\n",
    "body \n",
    "after bath \n",
    "cool \n",
    "couple\n",
    "armpit\n",
    "skin \n",
    "smooth\n",
    "soft \n",
    "boost \n",
    "shower \n",
    "cream \n",
    "scent \n",
    "nails\n",
    "sweet \n",
    "trim\n",
    "soap \n",
    "wrinkles\n",
    "eyebrows\n",
    "dollar\n",
    "usd\n",
    "dhr\n",
    "ريال\n",
    "sar\n",
    "riyal\n",
    "Perfect\n",
    "relieve\n",
    "anti-stink\n",
    "fabletics\n",
    "'''.split()"
   ]
  },
  {
   "cell_type": "code",
   "execution_count": 48,
   "id": "19cf5a03",
   "metadata": {},
   "outputs": [],
   "source": [
    "def find_active(element):\n",
    "    return WebDriverWait(element, 10).until(EC.presence_of_element_located((By.XPATH,'./div/div[1]/div/div[1]/div[1]/span'))).text\n",
    "\n",
    "def find_start_date(element):\n",
    "    return WebDriverWait(element, 10).until(EC.presence_of_element_located((By.XPATH,'./div/div[1]/div/div[1]/div[2]/span'))).text[19:]\n",
    "\n",
    "def find_profile_pic(element):\n",
    "    try:\n",
    "        return WebDriverWait(element, 10).until(EC.presence_of_element_located((By.XPATH,'.//img[@class=\"_8nqq img\"]'))).get_attribute('src')\n",
    "    except:\n",
    "        return 'https://scontent.fcai19-1.fna.fbcdn.net/v/t1.30497-1/84702798_579370612644419_4516628711310622720_n.png?stp=c43.0.148.148a_dst-png_p148x148&_nc_cat=1&ccb=1-7&_nc_sid=1eb0c7&_nc_ohc=SjSCnuahSsAAX8j9PGV&_nc_ht=scontent.fcai19-1.fna&oh=00_AT92HpSFIr2XsNTr2DkyfiqgTpObKhVXGAS5H_PkCyc_Tg&oe=6321F709'\n",
    "\n",
    "def find_links(element):\n",
    "    return \"\\n\".join([a.get_attribute('href') for a in element.find_elements(By.CSS_SELECTOR,'a')[1:] ])\n",
    "\n",
    "def find_ad_images(element):\n",
    "    try:\n",
    "        images = WebDriverWait(element,10).until(EC.presence_of_all_elements_located((By.XPATH,'.//img[contains(@class,\"_7jys\")]')))\n",
    "        return \"\\n\".join([a.get_attribute('src') for a in images ])\n",
    "    except:\n",
    "        return \"No images found\"\n",
    "\n",
    "def find_ad_videos(element):\n",
    "    try:\n",
    "        vids = WebDriverWait(element,10).until(EC.presence_of_all_elements_located((By.XPATH,'.//video')))\n",
    "        return \"\\n\".join([a.get_attribute('src') for a in vids ])\n",
    "    except:\n",
    "        return \"No Videos found\"\n",
    "    \n",
    "    \n",
    "def find_content(element):\n",
    "    return WebDriverWait(element,10).until(EC.presence_of_element_located((By.XPATH,'./div/div[3]/div/div/div[2]/div'))).text\n",
    "\n",
    "\n",
    "def find_footer(element):\n",
    "    try:\n",
    "        footer = WebDriverWait(element, 10).until(EC.presence_of_element_located((By.CSS_SELECTOR,'div[class=\"_8jgz _8jg_\"]')))\n",
    "        action = WebDriverWait(footer, 10).until(EC.presence_of_element_located((By.XPATH,'./div[2]/div/div/span/div/div/div'))).text\n",
    "        return footer.text , action\n",
    "    except:\n",
    "        return \"No Footer\" , \"No Action\"\n",
    "\n",
    "    \n",
    "\n",
    "\n",
    "def find_ID(element):\n",
    "    try:\n",
    "        return WebDriverWait(element,10).until(EC.presence_of_element_located((By.XPATH, './div/div[1]/div/div[1]/div[4]/div/div/span'))).text[4:]\n",
    "    except:\n",
    "        return WebDriverWait(element,10).until(EC.presence_of_element_located((By.XPATH, './div/div[1]/div/div[1]/div[5]/div/div/span'))).text[4:]\n",
    "\n",
    "\n",
    "# element.find_element(By.XPATH,'./div/div[3]/div/div/div[1]/div/div/div').text.replace(\"\\nSponsored\", \"\")\n",
    "def find_page_name(element):\n",
    "    return WebDriverWait(element,10).until(EC.presence_of_element_located((By.XPATH, './div/div[3]/div/div/div[1]/div/div/div'))).text.replace(\"\\nSponsored\", \"\")\n",
    "\n",
    "def find_ads_occurence(element):\n",
    "    try:\n",
    "        return int(element.find_element(By.XPATH, value ='./div/div[1]/div/div[1]/div[5]/span/strong').text.split(' ')[0])\n",
    "    except:\n",
    "        return '1'\n",
    "\n",
    "def click_see_ad_details(element):\n",
    "    el = WebDriverWait(element, 20).until(EC.element_to_be_clickable((By.XPATH,'./div/div[2]/div/span/div/div/div')))\n",
    "    driver.execute_script(\"arguments[0].click();\", el)\n"
   ]
  },
  {
   "cell_type": "code",
   "execution_count": 323,
   "id": "8ae420c6",
   "metadata": {},
   "outputs": [
    {
     "data": {
      "text/plain": [
       "'1648444722060195'"
      ]
     },
     "execution_count": 323,
     "metadata": {},
     "output_type": "execute_result"
    }
   ],
   "source": [
    "page_link = 'https://www.facebook.com/ads/library/?ad_type=all&country=EG&view_all_page_id=1648444722060195'\n"
   ]
  },
  {
   "cell_type": "code",
   "execution_count": 51,
   "id": "d7bda305",
   "metadata": {},
   "outputs": [],
   "source": [
    "def find_page_Data(element):\n",
    "    click = WebDriverWait(element, 20).until(EC.element_to_be_clickable((By.XPATH,'./div/div[2]/div/span/div/div/div')))\n",
    "    driver.execute_script(\"arguments[0].click();\", click)\n",
    "    \n",
    "    main_element = WebDriverWait(driver, 10).until(EC.presence_of_element_located((By.CSS_SELECTOR,'div[class=\"_5aat _4-hy uiLayer _3qw\"]')))\n",
    "    \n",
    "    try: #page_ID\n",
    "        page_id = WebDriverWait(main_element, 10).until(EC.presence_of_element_located((By.XPATH,'./div[2]/div/div/div/div/div[3]/span/div[2]/div/div/div[2]/div/span/div/div[2]/div[1]'))).text[4:]\n",
    "        page_link = WebDriverWait(main_element, 10).until(EC.presence_of_element_located((By.XPATH,'./div[2]/div/div/div/div/div[3]/span/div[2]/div/div/div[1]/div/a'))).get_attribute('href')\n",
    "        page_id_2 = re.findall(('view_all_page_id=(\\d+)'),page_link)[0]\n",
    "#         page_ids.append(page_id_2)\n",
    "    except:\n",
    "        page_id = 'protected'\n",
    "        page_id_2 ='protected'\n",
    "\n",
    "        \n",
    "        \n",
    "    text = main_element.find_element(By.XPATH,value='./div[2]/div/div/div/div/div[3]/span/div[2]/div/div/div[2]').text.replace(',','')\n",
    "    try: #page likes\n",
    "        page_likes = re.findall('(\\d+) likes' , text)[0]\n",
    "    except:\n",
    "        page_likes = '0'\n",
    "    try: #insta likes and ID \n",
    "        insta_followers = re.findall('(\\d+) followers' , text)[0]\n",
    "    except:\n",
    "        insta_followers = \"0\"\n",
    "    \n",
    "    try:\n",
    "        page_link = WebDriverWait(main_element, 2).until(EC.presence_of_element_located((By.XPATH,'./div[2]/div/div/div/div/div[3]/span/div[2]/div/div/div[1]/div/a'))).get_attribute('href')\n",
    "        # Open a new window\n",
    "        driver.execute_script(\"window.open('');\")\n",
    "\n",
    "        # Switch to the new window and open new URL\n",
    "        driver.switch_to.window(driver.window_handles[1])\n",
    "        driver.get(page_link)\n",
    "        try:\n",
    "            ADS_count = WebDriverWait(driver, 10).until(EC.presence_of_element_located((By.XPATH,'//*[@id=\"content\"]/div/div/div/div[7]/div[1]/div/div/div/div/div/div[1]/div'))).text.replace('~','').replace('results' , '').replace('result','').strip()\n",
    "            if ADS_count == '0':\n",
    "                driver.get(page_link)\n",
    "                time.sleep(5)\n",
    "                ADS_count = WebDriverWait(driver, 10).until(EC.presence_of_element_located((By.XPATH,'//*[@id=\"content\"]/div/div/div/div[7]/div[1]/div/div/div/div/div/div[1]/div'))).text.replace('~','').replace('results' , '').replace('result','').strip()\n",
    "#                 print(ADS_count)\n",
    "            # Closing new_url tab\n",
    "        except:\n",
    "            ADS_count = 'erro'\n",
    "        driver.close()\n",
    "\n",
    "        # Switching to old tab\n",
    "        driver.switch_to.window(driver.window_handles[0])\n",
    "    except:\n",
    "        ADS_count = \"0\"\n",
    "#     print(page_id)\n",
    "#     print(page_id_2)\n",
    "#     print(page_likes)\n",
    "#     print(insta_followers)\n",
    "#     print(ADS_count)\n",
    "    webdriver.ActionChains(driver).send_keys(Keys.ESCAPE).perform()\n",
    "    time.sleep(1)\n",
    "    return page_id,page_id_2 , int(page_likes) , int(insta_followers) , int(ADS_count)"
   ]
  },
  {
   "cell_type": "code",
   "execution_count": 52,
   "id": "15ef8ae8",
   "metadata": {},
   "outputs": [],
   "source": [
    "def get_data_for(search_term,country= \"EG\",start_date = None,end_date=None,limit = 30,start = 0):\n",
    "    if start_date != None:\n",
    "        link = f'https://www.facebook.com/ads/library/?active_status=all&ad_type=all&country={country}&q={search_term}&sort_data[direction]=desc&sort_data[mode]=relevancy_monthly_grouped&start_date[min]={start_date}&start_date[max]={end_date}&search_type=keyword_unordered&media_type=all&media_type=all'\n",
    "    else:\n",
    "        link = f'https://www.facebook.com/ads/library/?active_status=all&ad_type=all&country={country}&q={search_term}&sort_data[direction]=desc&sort_data[mode]=relevancy_monthly_grouped&search_type=keyword_unordered&media_type=all'\n",
    "#     datetime.strptime(input_date, '%Y-%m-%d').strftime('%Y-%m-%d')\n",
    "    driver.get(link)\n",
    "    time.sleep(4)\n",
    "    #scroll down\n",
    "    ads = driver.find_elements(By.CSS_SELECTOR, value = 'div[class=\"_99s5\"]')\n",
    "    temp_ads = 0\n",
    "    while (len(ads) < limit and temp_ads < len(ads)):\n",
    "        temp_ads = len(ads)\n",
    "        driver.execute_script(\"window.scrollTo(0, document.body.scrollHeight);\")\n",
    "        time.sleep(3)\n",
    "        ads = driver.find_elements(By.CSS_SELECTOR, value = 'div[class=\"_99s5\"]')\n",
    "        \n",
    "    time.sleep(2)\n",
    "    elements = driver.find_elements(By.CSS_SELECTOR, value = 'div[class=\"_99s5\"]')\n",
    "    i = 1\n",
    "    page_ids= []\n",
    "    print('count of ads = ', len(elements))\n",
    "    for element in elements[0:limit]:\n",
    "#         print(i)\n",
    "        i+=1\n",
    "        \n",
    "        #active or not\n",
    "        active_status = find_active(element)\n",
    "        #started \n",
    "        started_date =  find_start_date(element)\n",
    "        #profile\n",
    "        profile_pic = find_profile_pic(element)\n",
    "        #links \n",
    "        links = find_links(element)\n",
    "        images = find_ad_images(element)\n",
    "        videos = find_ad_videos(element)\n",
    "        #text or content\n",
    "        content = find_content(element)\n",
    "        #ID \n",
    "        AD_ID = find_ID(element)\n",
    "        #No ads using same text and media \n",
    "        NO_AD = find_ads_occurence(element)\n",
    "        #page name\n",
    "        page_name = find_page_name(element)  \n",
    "        \n",
    "        #footer \n",
    "        footer , action = find_footer(element)\n",
    "        \n",
    "        page_id,page_id_2 , page_likes , insta_followers , ADS_count = find_page_Data(element)\n",
    "        \n",
    "        #save to database\n",
    "        try:\n",
    "            #insert if not exist \n",
    "            conn = sqlite3.connect('FaceBoookADS.db')\n",
    "            c = conn.cursor()\n",
    "            c.execute('''INSERT INTO ads VALUES \n",
    "            (?,?,?,?,?,?,?,?,?,?,?,?,?,?,?,?,?,?);''',(AD_ID, active_status,started_date,profile_pic,links,images,videos,content,footer,action,page_name,NO_AD,page_id,page_id_2 , page_likes , insta_followers , ADS_count,search_term))\n",
    "            conn.commit()\n",
    "            conn.close()\n",
    "        except:\n",
    "            #update the data \n",
    "            conn = sqlite3.connect('FaceBoookADS.db')\n",
    "            c = conn.cursor()\n",
    "            c.execute('''UPDATE ads SET \n",
    "            Status =?,\n",
    "            Started_date =?,\n",
    "            profile_pic =?,\n",
    "            links =?,\n",
    "            images =?,\n",
    "            videos =?,\n",
    "            content =?,\n",
    "            Footer_TEXT=?,\n",
    "            Footer_action =?,\n",
    "            Page_name =?,\n",
    "            AD_occurance =?,\n",
    "            Page_ID_1 =?,\n",
    "            Page_ID_2 =?,\n",
    "            Page_likes =?,\n",
    "            insta_followers =?,\n",
    "            Ads_count =?,\n",
    "            search_term=?\n",
    "            where AD_ID = ?''',(active_status,started_date,profile_pic,links,images,videos,content,footer,action,page_name,NO_AD,page_id,page_id_2 , page_likes , insta_followers , ADS_count,search_term,AD_ID))\n",
    "            conn.commit()\n",
    "            conn.close()\n",
    "            \n",
    "        \n",
    "#         print(active_status,' - ',started_date,' - ',AD_ID ,' - ',NO_AD ,' - ',page_name,' - ','  ')\n"
   ]
  },
  {
   "cell_type": "code",
   "execution_count": 66,
   "id": "aca64b21",
   "metadata": {},
   "outputs": [],
   "source": [
    "def read_data(sort_by = 'Ads_count',sort_type = 'DESC'):\n",
    "    sqliteConnection = sqlite3.connect('FaceBoookADS.db')\n",
    "    cursor = sqliteConnection.cursor()\n",
    "    sqlite_select_query = f\"\"\"SELECT * FROM \"ads\" ORDER BY {sort_by} {sort_type}\"\"\"\n",
    "    cursor.execute(sqlite_select_query)\n",
    "    records = cursor.fetchall()\n",
    "    cursor.close()\n",
    "    return records\n"
   ]
  },
  {
   "cell_type": "code",
   "execution_count": 106,
   "id": "8f108a58",
   "metadata": {},
   "outputs": [],
   "source": [
    "def search_by_owner(owner,sort_by = 'Ads_count',sort_type = 'DESC'):\n",
    "    sqliteConnection = sqlite3.connect('FaceBoookADS.db')\n",
    "    cursor = sqliteConnection.cursor()\n",
    "    sqlite_select_query = f\"\"\"SELECT * FROM \"ads\" where LOWER(Page_name) LIKE '%{owner.lower()}%' ORDER BY {sort_by} {sort_type}\"\"\"\n",
    "    cursor.execute(sqlite_select_query)\n",
    "    records = cursor.fetchall()\n",
    "    cursor.close()\n",
    "    return records"
   ]
  },
  {
   "cell_type": "code",
   "execution_count": 112,
   "id": "509c212e",
   "metadata": {},
   "outputs": [],
   "source": [
    "def search_by_domain(domain,sort_by = 'Ads_count',sort_type = 'DESC'):\n",
    "    sqliteConnection = sqlite3.connect('FaceBoookADS.db')\n",
    "    cursor = sqliteConnection.cursor()\n",
    "    sqlite_select_query = f\"\"\"SELECT * FROM \"ads\" where LOWER(links) LIKE '%{domain.lower()}%' ORDER BY {sort_by} {sort_type}\"\"\"\n",
    "    cursor.execute(sqlite_select_query)\n",
    "    records = cursor.fetchall()\n",
    "    cursor.close()\n",
    "    return records"
   ]
  },
  {
   "cell_type": "code",
   "execution_count": 53,
   "id": "ff501039",
   "metadata": {},
   "outputs": [
    {
     "name": "stdout",
     "output_type": "stream",
     "text": [
      "count of ads =  30\n"
     ]
    }
   ],
   "source": [
    "# get_search('ريال',limit=5000)\n",
    "get_data_for('perfume',limit=30)"
   ]
  },
  {
   "cell_type": "code",
   "execution_count": 156,
   "id": "2d6fe05a",
   "metadata": {
    "collapsed": true
   },
   "outputs": [
    {
     "name": "stdout",
     "output_type": "stream",
     "text": [
      "1   1915501565322088\n",
      "2   595926505331026\n",
      "3   2097548513761327\n",
      "4   5237454363040923\n",
      "5   3343519022595231\n",
      "6   1077890232835618\n"
     ]
    },
    {
     "ename": "TimeoutException",
     "evalue": "Message: \n",
     "output_type": "error",
     "traceback": [
      "\u001b[1;31m---------------------------------------------------------------------------\u001b[0m",
      "\u001b[1;31mTimeoutException\u001b[0m                          Traceback (most recent call last)",
      "Input \u001b[1;32mIn [156]\u001b[0m, in \u001b[0;36m<cell line: 3>\u001b[1;34m()\u001b[0m\n\u001b[0;32m      4\u001b[0m     \u001b[38;5;28mprint\u001b[39m(i,\u001b[38;5;124m'\u001b[39m\u001b[38;5;124m \u001b[39m\u001b[38;5;124m'\u001b[39m, find_ID(element))\n\u001b[0;32m      5\u001b[0m     i\u001b[38;5;241m+\u001b[39m\u001b[38;5;241m=\u001b[39m\u001b[38;5;241m1\u001b[39m\n\u001b[1;32m----> 6\u001b[0m     \u001b[43mWebDriverWait\u001b[49m\u001b[43m(\u001b[49m\u001b[43melement\u001b[49m\u001b[43m,\u001b[49m\u001b[43m \u001b[49m\u001b[38;5;241;43m10\u001b[39;49m\u001b[43m)\u001b[49m\u001b[38;5;241;43m.\u001b[39;49m\u001b[43muntil\u001b[49m\u001b[43m(\u001b[49m\u001b[43mEC\u001b[49m\u001b[38;5;241;43m.\u001b[39;49m\u001b[43mpresence_of_all_elements_located\u001b[49m\u001b[43m(\u001b[49m\u001b[43m(\u001b[49m\u001b[43mBy\u001b[49m\u001b[38;5;241;43m.\u001b[39;49m\u001b[43mCSS_SELECTOR\u001b[49m\u001b[43m,\u001b[49m\u001b[38;5;124;43m'\u001b[39;49m\u001b[38;5;124;43mdiv[class=\u001b[39;49m\u001b[38;5;124;43m\"\u001b[39;49m\u001b[38;5;124;43m_2zgz\u001b[39;49m\u001b[38;5;124;43m\"\u001b[39;49m\u001b[38;5;124;43m]\u001b[39;49m\u001b[38;5;124;43m'\u001b[39;49m\u001b[43m)\u001b[49m\u001b[43m)\u001b[49m\u001b[43m)\u001b[49m\n\u001b[0;32m      7\u001b[0m [\u001b[38;5;241m0\u001b[39m]\n",
      "File \u001b[1;32m~\\anaconda3\\lib\\site-packages\\selenium\\webdriver\\support\\wait.py:90\u001b[0m, in \u001b[0;36mWebDriverWait.until\u001b[1;34m(self, method, message)\u001b[0m\n\u001b[0;32m     88\u001b[0m     \u001b[38;5;28;01mif\u001b[39;00m time\u001b[38;5;241m.\u001b[39mmonotonic() \u001b[38;5;241m>\u001b[39m end_time:\n\u001b[0;32m     89\u001b[0m         \u001b[38;5;28;01mbreak\u001b[39;00m\n\u001b[1;32m---> 90\u001b[0m \u001b[38;5;28;01mraise\u001b[39;00m TimeoutException(message, screen, stacktrace)\n",
      "\u001b[1;31mTimeoutException\u001b[0m: Message: \n"
     ]
    }
   ],
   "source": [
    "elements = driver.find_elements(By.CSS_SELECTOR, value = 'div[class=\"_99s5\"]')\n",
    "i = 1\n",
    "for element in elements:\n",
    "    print(i,' ', find_ID(element))\n",
    "    i+=1\n",
    "    WebDriverWait(element, 2).until(EC.presence_of_all_elements_located((By.CSS_SELECTOR,'div[class=\"_2zgz\"]')))\n",
    "[0]"
   ]
  },
  {
   "cell_type": "code",
   "execution_count": 43,
   "id": "f6169409",
   "metadata": {
    "scrolled": true
   },
   "outputs": [],
   "source": [
    "# Create database\n",
    "conn = sqlite3.connect('FaceBoookADS.db')\n",
    "c = conn.cursor()\n",
    "c.execute('''DROP TABLE ads''')\n",
    "c.execute('''\n",
    "CREATE TABLE ads\n",
    "(AD_ID TEXT PRIMARY KEY, \n",
    "Status TEXT,\n",
    "Started_date TEXT,\n",
    "profile_pic TEXT,\n",
    "links TEXT,\n",
    "images TEXT,\n",
    "videos TEXT,\n",
    "content TEXT,\n",
    "Footer_TEXT TEXT,\n",
    "Footer_action TEXT,\n",
    "Page_name TEXT,\n",
    "AD_occurance INT,\n",
    "Page_ID_1 TEXT,\n",
    "Page_ID_2 TEXT,\n",
    "Page_likes INT,\n",
    "insta_followers INT,\n",
    "Ads_count INT,\n",
    "search_term TEXT)''')\n",
    "conn.commit()\n",
    "conn.close()"
   ]
  },
  {
   "cell_type": "code",
   "execution_count": null,
   "id": "bf4be871",
   "metadata": {},
   "outputs": [],
   "source": []
  },
  {
   "cell_type": "code",
   "execution_count": 81,
   "id": "90ae003e",
   "metadata": {},
   "outputs": [
    {
     "name": "stdout",
     "output_type": "stream",
     "text": [
      "72\n",
      "9\n",
      "9\n",
      "9\n",
      "9\n",
      "9\n",
      "9\n",
      "9\n",
      "9\n",
      "3\n",
      "1\n",
      "1\n",
      "1\n",
      "2\n",
      "31\n",
      "3\n",
      "1\n",
      "1\n",
      "2\n",
      "1\n",
      "1\n",
      "2\n",
      "2\n",
      "1\n",
      "1\n",
      "4\n",
      "4\n",
      "3\n",
      "1\n",
      "1\n"
     ]
    }
   ],
   "source": [
    "sqliteConnection = sqlite3.connect('FaceBoookADS.db')\n",
    "cursor = sqliteConnection.cursor()\n",
    "sqlite_select_query = \"\"\"SELECT * FROM \"ads\" ORDER BY \"Page_likes\" DESC\"\"\"\n",
    "cursor.execute(sqlite_select_query)\n",
    "records = cursor.fetchall()\n",
    "cursor.close()\n",
    "for i in records:\n",
    "    print(i[16])\n"
   ]
  },
  {
   "cell_type": "code",
   "execution_count": 78,
   "id": "dd14e2c0",
   "metadata": {},
   "outputs": [
    {
     "name": "stdout",
     "output_type": "stream",
     "text": [
      "72\n",
      "31\n",
      "9\n",
      "9\n",
      "9\n",
      "9\n",
      "9\n",
      "9\n",
      "9\n",
      "9\n",
      "4\n",
      "4\n",
      "3\n",
      "3\n",
      "3\n",
      "2\n",
      "2\n",
      "2\n",
      "2\n",
      "1\n",
      "1\n",
      "1\n",
      "1\n",
      "1\n",
      "1\n",
      "1\n",
      "1\n",
      "1\n",
      "1\n",
      "1\n"
     ]
    }
   ],
   "source": []
  },
  {
   "cell_type": "code",
   "execution_count": 13,
   "id": "208614b9",
   "metadata": {},
   "outputs": [
    {
     "data": {
      "text/plain": [
       "30"
      ]
     },
     "execution_count": 13,
     "metadata": {},
     "output_type": "execute_result"
    }
   ],
   "source": [
    "len(records)"
   ]
  },
  {
   "cell_type": "code",
   "execution_count": 348,
   "id": "4829d530",
   "metadata": {},
   "outputs": [],
   "source": [
    "# Create database\n",
    "conn = sqlite3.connect('FaceBoookADS.db')\n",
    "c = conn.cursor()\n",
    "# c.execute('''DROP TABLE ads2''')\n",
    "c.execute('''\n",
    "CREATE TABLE ads2\n",
    "(AD_ID TEXT PRIMARY KEY, \n",
    "TEXT TEXT)''')\n",
    "conn.commit()\n",
    "conn.close()"
   ]
  },
  {
   "cell_type": "code",
   "execution_count": 4,
   "id": "0deda092",
   "metadata": {},
   "outputs": [],
   "source": [
    "conn = sqlite3.connect('FaceBoookADS.db')\n",
    "c = conn.cursor()\n",
    "try:\n",
    "    conn = sqlite3.connect('FaceBoookADS.db')\n",
    "    c = conn.cursor()\n",
    "    c.execute('''INSERT INTO ads2 VALUES \n",
    "    (?,?);''',('id1','id2'))\n",
    "except:\n",
    "    conn = sqlite3.connect('FaceBoookADS.db')\n",
    "    c = conn.cursor()\n",
    "    c.execute('''UPDATE ads2 SET TEXT = 'text3' WHERE AD_ID = \"id1\"''')\n",
    "    conn.commit()\n",
    "    conn.close()"
   ]
  },
  {
   "cell_type": "code",
   "execution_count": 384,
   "id": "54e4daac",
   "metadata": {},
   "outputs": [
    {
     "data": {
      "text/plain": [
       "<sqlite3.Connection at 0x2be301cd6c0>"
      ]
     },
     "execution_count": 384,
     "metadata": {},
     "output_type": "execute_result"
    }
   ],
   "source": [
    "conn"
   ]
  },
  {
   "cell_type": "code",
   "execution_count": 356,
   "id": "0286d139",
   "metadata": {},
   "outputs": [
    {
     "ename": "OperationalError",
     "evalue": "near \"=\": syntax error",
     "output_type": "error",
     "traceback": [
      "\u001b[1;31m---------------------------------------------------------------------------\u001b[0m",
      "\u001b[1;31mOperationalError\u001b[0m                          Traceback (most recent call last)",
      "Input \u001b[1;32mIn [356]\u001b[0m, in \u001b[0;36m<cell line: 3>\u001b[1;34m()\u001b[0m\n\u001b[0;32m      1\u001b[0m conn \u001b[38;5;241m=\u001b[39m sqlite3\u001b[38;5;241m.\u001b[39mconnect(\u001b[38;5;124m'\u001b[39m\u001b[38;5;124mFaceBoookADS.db\u001b[39m\u001b[38;5;124m'\u001b[39m)\n\u001b[0;32m      2\u001b[0m c \u001b[38;5;241m=\u001b[39m conn\u001b[38;5;241m.\u001b[39mcursor()\n\u001b[1;32m----> 3\u001b[0m \u001b[43mc\u001b[49m\u001b[38;5;241;43m.\u001b[39;49m\u001b[43mexecute\u001b[49m\u001b[43m(\u001b[49m\u001b[38;5;124;43m'''\u001b[39;49m\u001b[38;5;124;43mUPDATE ads2 SET = \u001b[39;49m\u001b[38;5;124;43m'\u001b[39;49m\u001b[38;5;124;43mtext1\u001b[39;49m\u001b[38;5;124;43m'\u001b[39;49m\u001b[38;5;124;43m WHERE AD_ID = \u001b[39;49m\u001b[38;5;124;43m\"\u001b[39;49m\u001b[38;5;124;43mid1\u001b[39;49m\u001b[38;5;124;43m\"\u001b[39;49m\u001b[38;5;124;43m'''\u001b[39;49m\u001b[43m)\u001b[49m\n\u001b[0;32m      4\u001b[0m conn\u001b[38;5;241m.\u001b[39mcommit()\n\u001b[0;32m      5\u001b[0m conn\u001b[38;5;241m.\u001b[39mclose()\n",
      "\u001b[1;31mOperationalError\u001b[0m: near \"=\": syntax error"
     ]
    }
   ],
   "source": [
    "conn = sqlite3.connect('FaceBoookADS.db')\n",
    "c = conn.cursor()\n",
    "c.execute('''UPDATE ads2 SET = 'text1' WHERE AD_ID = \"id1\"''')\n",
    "conn.commit()\n",
    "conn.close()"
   ]
  },
  {
   "cell_type": "code",
   "execution_count": 263,
   "id": "fd1976c6",
   "metadata": {},
   "outputs": [
    {
     "name": "stdout",
     "output_type": "stream",
     "text": [
      "better\n",
      "21 0\n"
     ]
    },
    {
     "ename": "KeyboardInterrupt",
     "evalue": "",
     "output_type": "error",
     "traceback": [
      "\u001b[1;31m---------------------------------------------------------------------------\u001b[0m",
      "\u001b[1;31mKeyboardInterrupt\u001b[0m                         Traceback (most recent call last)",
      "Input \u001b[1;32mIn [263]\u001b[0m, in \u001b[0;36m<cell line: 1>\u001b[1;34m()\u001b[0m\n\u001b[0;32m      1\u001b[0m \u001b[38;5;28;01mfor\u001b[39;00m i \u001b[38;5;129;01min\u001b[39;00m terms:\n\u001b[0;32m      2\u001b[0m     \u001b[38;5;28mprint\u001b[39m(i)\n\u001b[1;32m----> 3\u001b[0m     \u001b[43mget_search\u001b[49m\u001b[43m(\u001b[49m\u001b[43mi\u001b[49m\u001b[43m,\u001b[49m\u001b[43mlimit\u001b[49m\u001b[38;5;241;43m=\u001b[39;49m\u001b[38;5;241;43m500\u001b[39;49m\u001b[43m)\u001b[49m\n\u001b[0;32m      4\u001b[0m     get_search_page_data(\u001b[38;5;241m500\u001b[39m)\n\u001b[0;32m      5\u001b[0m     time\u001b[38;5;241m.\u001b[39msleep(\u001b[38;5;241m2\u001b[39m\u001b[38;5;241m*\u001b[39m\u001b[38;5;241m60\u001b[39m)\n",
      "Input \u001b[1;32mIn [254]\u001b[0m, in \u001b[0;36mget_search\u001b[1;34m(searchterm, country, start_date, end_date, limit)\u001b[0m\n\u001b[0;32m     13\u001b[0m temp_ads \u001b[38;5;241m=\u001b[39m \u001b[38;5;28mlen\u001b[39m(ads)\n\u001b[0;32m     14\u001b[0m driver\u001b[38;5;241m.\u001b[39mexecute_script(\u001b[38;5;124m\"\u001b[39m\u001b[38;5;124mwindow.scrollTo(0, document.body.scrollHeight);\u001b[39m\u001b[38;5;124m\"\u001b[39m)\n\u001b[1;32m---> 15\u001b[0m \u001b[43mtime\u001b[49m\u001b[38;5;241;43m.\u001b[39;49m\u001b[43msleep\u001b[49m\u001b[43m(\u001b[49m\u001b[38;5;241;43m3\u001b[39;49m\u001b[43m)\u001b[49m\n\u001b[0;32m     16\u001b[0m ads \u001b[38;5;241m=\u001b[39m driver\u001b[38;5;241m.\u001b[39mfind_elements(By\u001b[38;5;241m.\u001b[39mCSS_SELECTOR, value \u001b[38;5;241m=\u001b[39m \u001b[38;5;124m'\u001b[39m\u001b[38;5;124mdiv[class=\u001b[39m\u001b[38;5;124m\"\u001b[39m\u001b[38;5;124m_99s5\u001b[39m\u001b[38;5;124m\"\u001b[39m\u001b[38;5;124m]\u001b[39m\u001b[38;5;124m'\u001b[39m)\n",
      "\u001b[1;31mKeyboardInterrupt\u001b[0m: "
     ]
    }
   ],
   "source": [
    "for i in terms:\n",
    "    print(i)\n",
    "    get_search(i,limit=500)\n",
    "    get_search_page_data(500)\n",
    "    time.sleep(2*60)"
   ]
  },
  {
   "cell_type": "code",
   "execution_count": 114,
   "id": "ad837c7c",
   "metadata": {},
   "outputs": [],
   "source": [
    "import sqlite3\n",
    "from sqlite3 import Error\n",
    "\n",
    "\n",
    "def create_connection(db_file):\n",
    "    \"\"\" create a database connection to a SQLite database \"\"\"\n",
    "    conn = None\n",
    "    try:\n",
    "        conn = sqlite3.connect(db_file)\n",
    "        print(sqlite3.version)\n",
    "    except Error as e:\n",
    "        print(e)\n",
    "    finally:\n",
    "        if conn:\n",
    "            conn.close()"
   ]
  },
  {
   "cell_type": "code",
   "execution_count": 281,
   "id": "ba597359",
   "metadata": {},
   "outputs": [],
   "source": [
    "# Create database\n",
    "conn = sqlite3.connect('FaceBoookADS.db')\n",
    "c = conn.cursor()\n",
    "c.execute('''DROP TABLE ads''')\n",
    "c.execute('''\n",
    "CREATE TABLE ads\n",
    "(AD_ID TEXT, \n",
    "Status TEXT,\n",
    "Started_date TEXT,\n",
    "profile_pic TEXT,\n",
    "links TEXT,\n",
    "images TEXT,\n",
    "videos TEXT,\n",
    "content TEXT,\n",
    "Footer_TEXT TEXT,\n",
    "Footer_action TEXT,\n",
    "Page_name TEXT,\n",
    "AD_occurance TEXT,\n",
    "Page_ID_1 TEXT,\n",
    "Page_ID_2 TEXT,\n",
    "Page_likes TEXT,\n",
    "insta_followers TEXT,\n",
    "Ads_count TEXT,\n",
    "search_term)''')\n",
    "conn.commit()\n",
    "conn.close()"
   ]
  },
  {
   "cell_type": "code",
   "execution_count": null,
   "id": "dcb66713",
   "metadata": {},
   "outputs": [],
   "source": [
    "def Save_to_DataBase():\n",
    "    conn = sqlite3.connect('tablename.db')\n",
    "    c = conn.cursor()\n",
    "    c.execute('''INSERT INTO ads VALUES \n",
    "    (?, ?)'''\n",
    "              , (name, number))\n",
    "    conn.commit()\n",
    "    conn.close()"
   ]
  },
  {
   "cell_type": "code",
   "execution_count": null,
   "id": "a541c9ba",
   "metadata": {},
   "outputs": [],
   "source": [
    "def sort_started(by)"
   ]
  },
  {
   "cell_type": "code",
   "execution_count": null,
   "id": "07af84e5",
   "metadata": {},
   "outputs": [],
   "source": [
    "# # Insert Values\n",
    "# conn = sqlite3.connect('tablename.db')\n",
    "# c = conn.cursor()\n",
    "# c.execute(\"INSERT INTO tablename VALUES (?, ?)\", (name, number))\n",
    "# conn.commit()\n",
    "# conn.close()\n",
    "\n",
    "# Read Values\n",
    "conn = sqlite3.connect('tablename.db')\n",
    "c = conn.cursor()\n",
    "\n",
    "for row in c.execute('SELECT * FROM tablename'):\n",
    "\tprint(row)\n",
    "\n",
    "number = [row[2] for row in c.execute('SELECT * FROM tablename')]\n",
    "conn.close()\n"
   ]
  }
 ],
 "metadata": {
  "kernelspec": {
   "display_name": "Python 3 (ipykernel)",
   "language": "python",
   "name": "python3"
  },
  "language_info": {
   "codemirror_mode": {
    "name": "ipython",
    "version": 3
   },
   "file_extension": ".py",
   "mimetype": "text/x-python",
   "name": "python",
   "nbconvert_exporter": "python",
   "pygments_lexer": "ipython3",
   "version": "3.9.12"
  }
 },
 "nbformat": 4,
 "nbformat_minor": 5
}
