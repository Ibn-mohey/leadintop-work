{
 "cells": [
  {
   "cell_type": "code",
   "execution_count": 10,
   "id": "366ca1aa",
   "metadata": {},
   "outputs": [],
   "source": [
    "import json\n",
    "with open('countries.json') as f:\n",
    "    countries = json.load(f)\n",
    "del countries[\"EG\"]\n",
    "del countries[\"SA\"]"
   ]
  },
  {
   "cell_type": "code",
   "execution_count": 1,
   "id": "2b6bd190",
   "metadata": {},
   "outputs": [],
   "source": [
    "import  plotdigitizer"
   ]
  },
  {
   "cell_type": "code",
   "execution_count": null,
   "id": "5eacaac3",
   "metadata": {},
   "outputs": [],
   "source": [
    " plotdigitizer-locate dwonload.png"
   ]
  },
  {
   "cell_type": "code",
   "execution_count": 12,
   "id": "3cc60b68",
   "metadata": {
    "scrolled": true
   },
   "outputs": [],
   "source": []
  },
  {
   "cell_type": "code",
   "execution_count": 2,
   "id": "266b5bd9",
   "metadata": {},
   "outputs": [],
   "source": [
    "from selenium import webdriver\n",
    "from selenium.webdriver.common.keys import Keys\n",
    "from selenium.webdriver.common.by import By\n",
    "from selenium.webdriver.chrome.service import Service\n",
    "from webdriver_manager.chrome import ChromeDriverManager\n",
    "from selenium.webdriver.support.ui import WebDriverWait\n",
    "import re\n",
    "from selenium import webdriver\n",
    "import urllib.request\n",
    "import urllib.error\n",
    "from selenium.webdriver.support import expected_conditions as EC\n",
    "import time\n",
    "from selenium import webdriver\n",
    "import time\n",
    "from selenium import webdriver\n",
    "from datetime import datetime\n",
    "import urllib.request\n",
    "from datetime import datetime\n",
    "import sqlite3\n",
    "import requests\n",
    "from selenium import webdriver\n",
    "from selenium.webdriver.common.keys import Keys\n",
    "from selenium.webdriver.common.by import By\n",
    "from selenium.webdriver.chrome.service import Service\n",
    "from webdriver_manager.chrome import ChromeDriverManager\n",
    "from selenium.webdriver.support.ui import WebDriverWait\n",
    "import re\n",
    "from selenium import webdriver\n",
    "import urllib.request\n",
    "import urllib.error\n",
    "from selenium.webdriver.support import expected_conditions as EC\n",
    "import time\n",
    "from selenium import webdriver\n",
    "import time\n",
    "from selenium import webdriver\n",
    "from datetime import datetime\n",
    "import urllib.request\n",
    "from datetime import datetime\n",
    "import sqlite3\n",
    "import requests\n",
    "import cv2\n",
    "import sys"
   ]
  },
  {
   "cell_type": "code",
   "execution_count": 2,
   "id": "26af9ed6",
   "metadata": {},
   "outputs": [
    {
     "name": "stdout",
     "output_type": "stream",
     "text": [
      "\n"
     ]
    },
    {
     "name": "stderr",
     "output_type": "stream",
     "text": [
      "[WDM] - ====== WebDriver manager ======\n",
      "[WDM] - Current google-chrome version is 107.0.5304\n",
      "[WDM] - Get LATEST chromedriver version for 107.0.5304 google-chrome\n",
      "[WDM] - About to download new driver from https://chromedriver.storage.googleapis.com/107.0.5304.62/chromedriver_win32.zip\n",
      "[WDM] - Driver has been saved in cache [C:\\Users\\asd_v\\.wdm\\drivers\\chromedriver\\win32\\107.0.5304.62]\n"
     ]
    }
   ],
   "source": [
    "driver = webdriver.Chrome(service=Service(ChromeDriverManager().install()))"
   ]
  },
  {
   "cell_type": "code",
   "execution_count": 4,
   "id": "a8bd3d14",
   "metadata": {},
   "outputs": [],
   "source": [
    "link = 'https://ads.tiktok.com/business/creativecenter/inspiration/topads/pc/en?rid=mqf88wy2l9d&region=EG'"
   ]
  },
  {
   "cell_type": "code",
   "execution_count": 6,
   "id": "57b8cd9f",
   "metadata": {},
   "outputs": [],
   "source": [
    "link_for_all_country = 'https://ads.tiktok.com/business/creativecenter/inspiration/topads/pc/en?rid=hhri1dk3ku'"
   ]
  },
  {
   "cell_type": "code",
   "execution_count": 5,
   "id": "8426573b",
   "metadata": {},
   "outputs": [],
   "source": [
    "driver.get(link)"
   ]
  },
  {
   "cell_type": "code",
   "execution_count": 55,
   "id": "0c8fb17a",
   "metadata": {},
   "outputs": [],
   "source": []
  },
  {
   "cell_type": "code",
   "execution_count": 93,
   "id": "7b34ecd8",
   "metadata": {},
   "outputs": [],
   "source": [
    "def value_to_int(x):\n",
    "    if 'K' in x:\n",
    "        if len(x) > 1:\n",
    "            return int(x.replace('K', '')) * 1000\n",
    "        return 1000\n",
    "    if 'M' in x:\n",
    "        if len(x) > 1:\n",
    "            return int(x.replace('M', '')) * 1000000\n",
    "        return 1000000\n",
    "    if 'B' in x:\n",
    "        return int(x.replace('B', '')) * 1000000000\n",
    "    return int(x)"
   ]
  },
  {
   "cell_type": "markdown",
   "id": "3774b283",
   "metadata": {},
   "source": [
    "TEST area\n"
   ]
  },
  {
   "cell_type": "markdown",
   "id": "4fe9e884",
   "metadata": {},
   "source": [
    "### pics save and name"
   ]
  },
  {
   "cell_type": "code",
   "execution_count": null,
   "id": "333a17ab",
   "metadata": {},
   "outputs": [],
   "source": []
  }
 ],
 "metadata": {
  "kernelspec": {
   "display_name": "Python 3 (ipykernel)",
   "language": "python",
   "name": "python3"
  },
  "language_info": {
   "codemirror_mode": {
    "name": "ipython",
    "version": 3
   },
   "file_extension": ".py",
   "mimetype": "text/x-python",
   "name": "python",
   "nbconvert_exporter": "python",
   "pygments_lexer": "ipython3",
   "version": "3.9.12"
  },
  "vscode": {
   "interpreter": {
    "hash": "e39af0c14b348bd64ddbbc0d6ad0a49bf3f56f2f598aaf5cb80319f87d5370cd"
   }
  }
 },
 "nbformat": 4,
 "nbformat_minor": 5
}
