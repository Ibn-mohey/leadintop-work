{
 "cells": [
  {
   "cell_type": "code",
   "execution_count": 10,
   "id": "366ca1aa",
   "metadata": {},
   "outputs": [],
   "source": [
    "import json\n",
    "with open('countries.json') as f:\n",
    "    countries = json.load(f)\n",
    "del countries[\"EG\"]\n",
    "del countries[\"SA\"]"
   ]
  },
  {
   "cell_type": "code",
   "execution_count": 2,
   "id": "266b5bd9",
   "metadata": {},
   "outputs": [],
   "source": [
    "from selenium import webdriver\n",
    "from selenium.webdriver.common.keys import Keys\n",
    "from selenium.webdriver.common.by import By\n",
    "from selenium.webdriver.chrome.service import Service\n",
    "from webdriver_manager.chrome import ChromeDriverManager\n",
    "from selenium.webdriver.support.ui import WebDriverWait\n",
    "from selenium.webdriver.common.action_chains import ActionChains\n",
    "\n",
    "import re\n",
    "from selenium import webdriver\n",
    "import urllib.request\n",
    "import urllib.error\n",
    "from selenium.webdriver.support import expected_conditions as EC\n",
    "import time\n",
    "from selenium import webdriver\n",
    "import time\n",
    "from selenium import webdriver\n",
    "from datetime import datetime\n",
    "import urllib.request\n",
    "from datetime import datetime\n",
    "import sqlite3\n",
    "import requests\n",
    "from selenium import webdriver\n",
    "from selenium.webdriver.common.keys import Keys\n",
    "from selenium.webdriver.common.by import By\n",
    "from selenium.webdriver.chrome.service import Service\n",
    "from webdriver_manager.chrome import ChromeDriverManager\n",
    "from selenium.webdriver.support.ui import WebDriverWait\n",
    "import re\n",
    "from selenium import webdriver\n",
    "import urllib.request\n",
    "import urllib.error\n",
    "from selenium.webdriver.support import expected_conditions as EC\n",
    "import time\n",
    "from selenium import webdriver\n",
    "import time\n",
    "from selenium import webdriver\n",
    "from datetime import datetime\n",
    "import urllib.request\n",
    "from datetime import datetime\n",
    "import sqlite3\n",
    "import requests\n",
    "import cv2\n",
    "import sys"
   ]
  },
  {
   "cell_type": "code",
   "execution_count": 4,
   "id": "26af9ed6",
   "metadata": {},
   "outputs": [
    {
     "name": "stdout",
     "output_type": "stream",
     "text": [
      "\n"
     ]
    },
    {
     "name": "stderr",
     "output_type": "stream",
     "text": [
      "[WDM] - ====== WebDriver manager ======\n",
      "[WDM] - Current google-chrome version is 108.0.5359\n",
      "[WDM] - Get LATEST chromedriver version for 108.0.5359 google-chrome\n",
      "[WDM] - About to download new driver from https://chromedriver.storage.googleapis.com/108.0.5359.71/chromedriver_win32.zip\n",
      "[WDM] - Driver has been saved in cache [C:\\Users\\asd_v\\.wdm\\drivers\\chromedriver\\win32\\108.0.5359.71]\n"
     ]
    }
   ],
   "source": [
    "driver = webdriver.Chrome(service=Service(ChromeDriverManager().install()))"
   ]
  },
  {
   "cell_type": "code",
   "execution_count": 5,
   "id": "8426573b",
   "metadata": {},
   "outputs": [],
   "source": [
    "link = 'https://ads.tiktok.com/business/creativecenter/inspiration/topads/pc/en?rid=mqf88wy2l9d&region=EG'\n",
    "driver.get(link)"
   ]
  },
  {
   "cell_type": "code",
   "execution_count": 27,
   "id": "ed62f2d0",
   "metadata": {},
   "outputs": [],
   "source": [
    "### get all the cards \n",
    "all_cards = driver.find_elements(By.CSS_SELECTOR, value = 'div[class^=\"card-wrapper\"]')"
   ]
  },
  {
   "cell_type": "code",
   "execution_count": 28,
   "id": "9ba0b28d",
   "metadata": {},
   "outputs": [],
   "source": [
    "## first card \n",
    "card = all_cards[0]\n",
    "card.click()\n",
    "driver.switch_to.window(driver.window_handles[1])"
   ]
  },
  {
   "cell_type": "code",
   "execution_count": 6,
   "id": "93e428fa",
   "metadata": {},
   "outputs": [
    {
     "data": {
      "text/plain": [
       "<selenium.webdriver.remote.webelement.WebElement (session=\"4c7b238e5dba515bba08dfa7a29bc8ee\", element=\"f9f427cb-813a-4f81-9566-f8094825c082\")>"
      ]
     },
     "execution_count": 6,
     "metadata": {},
     "output_type": "execute_result"
    }
   ],
   "source": [
    "### get the view more \n",
    "driver.find_element(By.CSS_SELECTOR, value = 'div[class^=\"view-more-btn\"]')\n",
    "# driver.find_element(By.CSS_SELECTOR, value = 'div[contains(@class,\"view-more-btn\")]')\n"
   ]
  },
  {
   "cell_type": "code",
   "execution_count": null,
   "id": "a1bb06fb",
   "metadata": {},
   "outputs": [],
   "source": []
  },
  {
   "cell_type": "code",
   "execution_count": 112,
   "id": "825539b0",
   "metadata": {},
   "outputs": [
    {
     "data": {
      "text/plain": [
       "'9'"
      ]
     },
     "execution_count": 112,
     "metadata": {},
     "output_type": "execute_result"
    }
   ],
   "source": [
    "### inside the card get the canvas \n",
    "driver.find_element(By.CSS_SELECTOR, value = 'span[class^=\"tool-tip-value-metric\"]').get_attribute('innerHTML')"
   ]
  },
  {
   "cell_type": "code",
   "execution_count": 144,
   "id": "74cb0e16",
   "metadata": {
    "scrolled": true
   },
   "outputs": [],
   "source": [
    "canvas = driver.find_element(By.CSS_SELECTOR, value = 'canvas')"
   ]
  },
  {
   "cell_type": "code",
   "execution_count": 142,
   "id": "a20fcd3d",
   "metadata": {},
   "outputs": [],
   "source": [
    "action = ActionChains(driver)"
   ]
  },
  {
   "cell_type": "code",
   "execution_count": 147,
   "id": "31be2355",
   "metadata": {},
   "outputs": [
    {
     "data": {
      "text/plain": [
       "'80'"
      ]
     },
     "execution_count": 147,
     "metadata": {},
     "output_type": "execute_result"
    }
   ],
   "source": [
    "action.move_to_element(canvas).perform()\n",
    "driver.find_element(By.CSS_SELECTOR, value = 'span[class^=\"tool-tip-value-metric\"]').get_attribute('innerHTML')"
   ]
  },
  {
   "cell_type": "code",
   "execution_count": 140,
   "id": "95638406",
   "metadata": {},
   "outputs": [
    {
     "data": {
      "text/plain": [
       "'11'"
      ]
     },
     "execution_count": 140,
     "metadata": {},
     "output_type": "execute_result"
    }
   ],
   "source": [
    "action.move_by_offset(2, 20).click().perform()\n",
    "driver.find_element(By.CSS_SELECTOR, value = 'span[class^=\"tool-tip-value-metric\"]').get_attribute('innerHTML')"
   ]
  },
  {
   "cell_type": "code",
   "execution_count": null,
   "id": "9ff30fd6",
   "metadata": {},
   "outputs": [],
   "source": [
    "canvas = driver.find_element(By.CSS_SELECTOR, value = 'canvas')\n",
    "action.move_to_element(canvas).click().perform()\n",
    "box=driver.find_element_by_xpath('//*[@id=\"root\"]/div/div[2]')\n",
    "print(box.text)\n",
    "action.move_by_offset(-50, -50).click().perform()\n",
    "box=driver.find_element_by_xpath('//*[@id=\"root\"]/div/div[2]')\n",
    "print(box.text)"
   ]
  },
  {
   "cell_type": "code",
   "execution_count": 23,
   "id": "ab2ac39f",
   "metadata": {},
   "outputs": [
    {
     "data": {
      "text/plain": [
       "<selenium.webdriver.remote.webelement.WebElement (session=\"fde11ed96b46ff0ba53c24e8e38808c9\", element=\"f20b3bb4-e724-413a-869d-0981b6e8d2a2\")>"
      ]
     },
     "execution_count": 23,
     "metadata": {},
     "output_type": "execute_result"
    }
   ],
   "source": []
  },
  {
   "cell_type": "code",
   "execution_count": 3,
   "id": "0c8fb17a",
   "metadata": {},
   "outputs": [],
   "source": [
    "link_for_all_country = 'https://ads.tiktok.com/business/creativecenter/inspiration/topads/pc/en?rid=hhri1dk3ku'\n",
    "driver.get(link_for_all_country)"
   ]
  },
  {
   "cell_type": "code",
   "execution_count": 4,
   "id": "37f9a8cc",
   "metadata": {},
   "outputs": [
    {
     "data": {
      "text/plain": [
       "[]"
      ]
     },
     "execution_count": 4,
     "metadata": {},
     "output_type": "execute_result"
    }
   ],
   "source": [
    "driver.find_elements(By.CSS_SELECTOR, value = 'div[class=\" _ab8s _ab8w  _ab94 _ab99 _ab9f _ab9m _ab9p _abcm\"]')"
   ]
  },
  {
   "cell_type": "code",
   "execution_count": 12,
   "id": "90ed2952",
   "metadata": {},
   "outputs": [],
   "source": [
    "video_url = driver.find_element(By.CSS_SELECTOR,value= 'video').get_attribute(\"src\")"
   ]
  },
  {
   "cell_type": "code",
   "execution_count": 16,
   "id": "e3c65d7e",
   "metadata": {},
   "outputs": [],
   "source": [
    "video_url = video_url[0:4] + 's' + video_url[4:]"
   ]
  },
  {
   "cell_type": "code",
   "execution_count": 17,
   "id": "05998d1d",
   "metadata": {},
   "outputs": [
    {
     "data": {
      "text/plain": [
       "('videoname.mp4', <http.client.HTTPMessage at 0x1f8f581ba60>)"
      ]
     },
     "execution_count": 17,
     "metadata": {},
     "output_type": "execute_result"
    }
   ],
   "source": [
    "import urllib.request\n",
    "\n",
    "urllib.request.urlretrieve(video_url, 'videoname.mp4')\n"
   ]
  },
  {
   "cell_type": "code",
   "execution_count": 93,
   "id": "7b34ecd8",
   "metadata": {},
   "outputs": [],
   "source": [
    "def value_to_int(x):\n",
    "    if 'K' in x:\n",
    "        if len(x) > 1:\n",
    "            return int(x.replace('K', '')) * 1000\n",
    "        return 1000\n",
    "    if 'M' in x:\n",
    "        if len(x) > 1:\n",
    "            return int(x.replace('M', '')) * 1000000\n",
    "        return 1000000\n",
    "    if 'B' in x:\n",
    "        return int(x.replace('B', '')) * 1000000000\n",
    "    return int(x)"
   ]
  },
  {
   "cell_type": "markdown",
   "id": "3774b283",
   "metadata": {},
   "source": [
    "TEST area\n"
   ]
  },
  {
   "cell_type": "markdown",
   "id": "4fe9e884",
   "metadata": {},
   "source": [
    "### pics save and name"
   ]
  },
  {
   "cell_type": "code",
   "execution_count": null,
   "id": "333a17ab",
   "metadata": {},
   "outputs": [],
   "source": []
  }
 ],
 "metadata": {
  "kernelspec": {
   "display_name": "Python 3 (ipykernel)",
   "language": "python",
   "name": "python3"
  },
  "language_info": {
   "codemirror_mode": {
    "name": "ipython",
    "version": 3
   },
   "file_extension": ".py",
   "mimetype": "text/x-python",
   "name": "python",
   "nbconvert_exporter": "python",
   "pygments_lexer": "ipython3",
   "version": "3.9.12"
  },
  "vscode": {
   "interpreter": {
    "hash": "e39af0c14b348bd64ddbbc0d6ad0a49bf3f56f2f598aaf5cb80319f87d5370cd"
   }
  }
 },
 "nbformat": 4,
 "nbformat_minor": 5
}
