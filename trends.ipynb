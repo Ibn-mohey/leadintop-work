{
 "cells": [
  {
   "cell_type": "code",
   "execution_count": 1,
   "id": "7e075cfd",
   "metadata": {},
   "outputs": [
    {
     "name": "stdout",
     "output_type": "stream",
     "text": [
      "\n"
     ]
    },
    {
     "name": "stderr",
     "output_type": "stream",
     "text": [
      "[WDM] - ====== WebDriver manager ======\n",
      "[WDM] - Current google-chrome version is 103.0.5060\n",
      "[WDM] - Get LATEST chromedriver version for 103.0.5060 google-chrome\n",
      "[WDM] - Driver [C:\\Users\\asd_v\\.wdm\\drivers\\chromedriver\\win32\\103.0.5060.134\\chromedriver.exe] found in cache\n"
     ]
    }
   ],
   "source": [
    "import pandas as pd\n",
    "from selenium import webdriver\n",
    "from selenium.webdriver.chrome.options import Options\n",
    "from selenium.webdriver.common.keys import Keys\n",
    "from selenium.webdriver.common.by import By\n",
    "from selenium.webdriver.chrome.service import Service\n",
    "from webdriver_manager.chrome import ChromeDriverManager\n",
    "from selenium.webdriver.support.ui import Select\n",
    "from datetime import date\n",
    "import urllib.request \n",
    "import urllib.parse \n",
    "import time\n",
    "import csv\n",
    "import random\n",
    "import threading as th\n",
    "\n",
    "\n",
    "options = webdriver.ChromeOptions()\n",
    "\n",
    "driver = webdriver.Chrome(service=Service(ChromeDriverManager().install()))"
   ]
  },
  {
   "cell_type": "code",
   "execution_count": 2,
   "id": "f7fc4851",
   "metadata": {},
   "outputs": [],
   "source": [
    "def login(user_name, password):\n",
    "    link = 'https://twitter.com/i/flow/login'\n",
    "    driver.get(link)\n",
    "    time.sleep(3)\n",
    "    driver.find_element(By.CSS_SELECTOR,\n",
    "                       value = 'input').send_keys(user_name + Keys.ENTER)\n",
    "    time.sleep(1)\n",
    "    driver.find_element(By.CSS_SELECTOR,\n",
    "                       value = 'input[name=\"password\"]').send_keys(password + Keys.ENTER)\n",
    "\n",
    "# login('kegoco2609', 'lordasdwithme')\n",
    "login('_m0usa__', 'lordasdwithme')\n"
   ]
  },
  {
   "cell_type": "code",
   "execution_count": 63,
   "id": "05b0b294",
   "metadata": {},
   "outputs": [],
   "source": [
    "def post_pic(text = ''):\n",
    "    path = gui_fname()\n",
    "    driver.find_element(By.CSS_SELECTOR,\n",
    "       value = 'div[class=\"public-DraftStyleDefault-block public-DraftStyleDefault-ltr\"]').send_keys(text)\n",
    "    driver.find_element(By.CSS_SELECTOR,\n",
    "       value = 'input[class=\"r-8akbif r-orgf3d r-1udh08x r-u8s1d r-xjis5s r-1wyyakw\"]').send_keys(path)\n",
    "    driver.find_element(By.CSS_SELECTOR\n",
    "        ,value='div[class=\"css-18t94o4 css-1dbjc4n r-l5o3uw r-42olwf r-sdzlij r-1phboty r-rs99b7 r-19u6a5r r-2yi16 r-1qi8awa r-1ny4l3l r-ymttw5 r-o7ynqc r-6416eg r-lrvibr\"]').click()\n",
    "\n",
    "def post_text(text):\n",
    "    driver.find_element(By.CSS_SELECTOR,\n",
    "       value = 'div[class=\"public-DraftStyleDefault-block public-DraftStyleDefault-ltr\"]').send_keys(text)\n",
    "    driver.find_element(By.CSS_SELECTOR\n",
    "        ,value='div[class=\"css-18t94o4 css-1dbjc4n r-l5o3uw r-42olwf r-sdzlij r-1phboty r-rs99b7 r-19u6a5r r-2yi16 r-1qi8awa r-1ny4l3l r-ymttw5 r-o7ynqc r-6416eg r-lrvibr\"]').click()"
   ]
  },
  {
   "cell_type": "code",
   "execution_count": 3,
   "id": "e12400cd",
   "metadata": {},
   "outputs": [],
   "source": [
    "def trend_by_country(location):\n",
    "    driver.get(\"https://twitter.com/settings/trends/location\")\n",
    "    if 'countries_bottoms' in locals():\n",
    "        time.sleep(3)\n",
    "        countries_bottoms[location.title()].click()\n",
    "    else: \n",
    "        countries_bottoms = {}\n",
    "        time.sleep(3)\n",
    "        for i in driver.find_elements(By.CSS_SELECTOR,value = 'div[role=\"button\"]'):\n",
    "            text = i.text\n",
    "            countries_bottoms[text] = i\n",
    "        countries_bottoms[location.title()].click()\n",
    "    driver.get('https://twitter.com/explore/tabs/trending')\n",
    "trend_by_country('egypt')"
   ]
  },
  {
   "cell_type": "code",
   "execution_count": 3,
   "id": "b173c6d2",
   "metadata": {},
   "outputs": [],
   "source": [
    "# %gui qt\n",
    "\n",
    "# from PyQt5.QtWidgets import QFileDialog\n",
    "\n",
    "# def gui_fname(dir=None):\n",
    "#     \"\"\"Select a file via a dialog and return the file name.\"\"\"\n",
    "#     if dir is None: dir ='./'\n",
    "#     fname = QFileDialog.getOpenFileName(None, \"Select data file...\", \n",
    "#                 dir, filter=\"All files (*);; SM Files (*.sm)\")\n",
    "#     return fname[0]"
   ]
  },
  {
   "cell_type": "code",
   "execution_count": 55,
   "id": "7fc1d14c",
   "metadata": {
    "collapsed": true
   },
   "outputs": [
    {
     "name": "stdout",
     "output_type": "stream",
     "text": [
      "1\n",
      "#الدوري_يا_رجال_الزمالك\n",
      "2\n",
      "#جمهور_الاهلي_معاك_بيبو\n",
      "3\n",
      "#حاكموا_سيد_عبدالحفيظ\n",
      "4\n",
      "#لابديل_عن_رحيل_السيسي\n",
      "5\n",
      "#HOBIPALOOZA\n",
      "6\n",
      "ابو السعود\n",
      "7\n",
      "راموس\n",
      "8\n",
      "صربيا\n",
      "9\n",
      "اليوم الاثنين\n",
      "10\n",
      "ذياب الجبل\n",
      "11\n",
      "1 اغسطس 2022\n",
      "12\n",
      "blackpink\n",
      "13\n",
      "31 يوليو 2022\n",
      "14\n",
      "JUNG HOSEOK\n",
      "15\n",
      "Becky\n",
      "16\n",
      "عباس\n",
      "17\n",
      "Ferrari\n",
      "18\n",
      "مصطفي محمد\n",
      "19\n",
      "النصر\n"
     ]
    }
   ],
   "source": [
    "# get trend names and data \n",
    "trend_names = []\n",
    "trends_tweets  = []\n",
    "for trend in driver.find_elements(By.CSS_SELECTOR,value = 'div[data-testid=\"cellInnerDiv\"]')[2:-1]:\n",
    "    #trend No \n",
    "    \n",
    "    tren_NO = trend.find_element(By.CSS_SELECTOR\n",
    "                  ,value = 'span[class=\"css-901oao css-16my406 r-poiln3 r-bcqeeo r-qvutc0\"]').text\n",
    "    print(tren_NO)\n",
    "\n",
    "    #amount of tweets\n",
    "    try:\n",
    "        trend_tweets = trend.find_element(By.CSS_SELECTOR\n",
    "                      ,value = 'span[class=\"css-901oao css-16my406 r-poiln3 r-bcqeeo r-qvutc0\"]').text\n",
    "    except:\n",
    "        trend_tweets = 'unavilable'\n",
    "    trends_tweets.append(trend_tweets)\n",
    "    ## trend name\n",
    "    try:\n",
    "        trend_name = trend.find_element(By.CSS_SELECTOR\n",
    "                      ,value = 'div[class=\"css-901oao r-1nao33i r-1k78y06 r-a023e6 r-b88u0q r-rjixqe r-1bymd8e r-bcqeeo r-qvutc0 r-1vmecro\"]').text\n",
    "    except:\n",
    "        trend_name = trend.find_element(By.CSS_SELECTOR\n",
    "                      ,value = 'div[class=\"css-901oao r-1nao33i r-37j5jr r-a023e6 r-b88u0q r-rjixqe r-1bymd8e r-bcqeeo r-qvutc0\"]').text\n",
    "    trend_names.append(trend_name)\n",
    "    print(trend_name)"
   ]
  },
  {
   "cell_type": "code",
   "execution_count": 57,
   "id": "d46526f7",
   "metadata": {},
   "outputs": [],
   "source": [
    "def go_tren_page(trend_name):\n",
    "    driver.find_element(By.CSS_SELECTOR,value = 'input[placeholder=\"Search Twitter\"]').send_keys(trend_name,Keys.ENTER)\n",
    "go_tren_page(trend_names[0])"
   ]
  },
  {
   "cell_type": "code",
   "execution_count": null,
   "id": "0383ad2e",
   "metadata": {},
   "outputs": [],
   "source": [
    "def go_trending(driver):\n",
    "    \n",
    "#search bar\n",
    "\n",
    "# driver.find_element(By.CSS_SELECTOR,value = 'input[placeholder=\"Search Twitter\"]').send_keys(\"help\",Keys.ENTER)"
   ]
  },
  {
   "cell_type": "code",
   "execution_count": 79,
   "id": "96107222",
   "metadata": {},
   "outputs": [],
   "source": []
  },
  {
   "cell_type": "code",
   "execution_count": 80,
   "id": "dfec814e",
   "metadata": {},
   "outputs": [],
   "source": [
    "def retweet(link):\n",
    "    driver.find_element(By.XPATH,value='//*[@id=\"id__wkx115whuap\"]/div[2]/div').click()\n",
    "    driver.find_element(By.XPATH,value='//*[@id=\"layers\"]/div[2]/div/div/div/div[2]/div[3]/div/div/div').click()"
   ]
  },
  {
   "cell_type": "code",
   "execution_count": 90,
   "id": "8b4fe7aa",
   "metadata": {},
   "outputs": [],
   "source": [
    "go_tren_page(trend_names[0])"
   ]
  },
  {
   "cell_type": "code",
   "execution_count": 92,
   "id": "58c8aa18",
   "metadata": {},
   "outputs": [
    {
     "ename": "NoSuchElementException",
     "evalue": "Message: no such element: Unable to locate element: {\"method\":\"xpath\",\"selector\":\"//*[@id=\"id__6vr1ecw3chf\"]/div[2]/div/div/div/svg\"}\n  (Session info: chrome=103.0.5060.134)\nStacktrace:\nBacktrace:\n\tOrdinal0 [0x00D05FD3+2187219]\n\tOrdinal0 [0x00C9E6D1+1763025]\n\tOrdinal0 [0x00BB3E78+802424]\n\tOrdinal0 [0x00BE1C10+990224]\n\tOrdinal0 [0x00BE1EAB+990891]\n\tOrdinal0 [0x00C0EC92+1174674]\n\tOrdinal0 [0x00BFCBD4+1100756]\n\tOrdinal0 [0x00C0CFC2+1167298]\n\tOrdinal0 [0x00BFC9A6+1100198]\n\tOrdinal0 [0x00BD6F80+946048]\n\tOrdinal0 [0x00BD7E76+949878]\n\tGetHandleVerifier [0x00FA90C2+2721218]\n\tGetHandleVerifier [0x00F9AAF0+2662384]\n\tGetHandleVerifier [0x00D9137A+526458]\n\tGetHandleVerifier [0x00D90416+522518]\n\tOrdinal0 [0x00CA4EAB+1789611]\n\tOrdinal0 [0x00CA97A8+1808296]\n\tOrdinal0 [0x00CA9895+1808533]\n\tOrdinal0 [0x00CB26C1+1844929]\n\tBaseThreadInitThunk [0x757DFA29+25]\n\tRtlGetAppContainerNamedObjectPath [0x77957A9E+286]\n\tRtlGetAppContainerNamedObjectPath [0x77957A6E+238]\n",
     "output_type": "error",
     "traceback": [
      "\u001b[1;31m---------------------------------------------------------------------------\u001b[0m",
      "\u001b[1;31mNoSuchElementException\u001b[0m                    Traceback (most recent call last)",
      "Input \u001b[1;32mIn [92]\u001b[0m, in \u001b[0;36m<cell line: 1>\u001b[1;34m()\u001b[0m\n\u001b[1;32m----> 1\u001b[0m \u001b[43mdriver\u001b[49m\u001b[38;5;241;43m.\u001b[39;49m\u001b[43mfind_element\u001b[49m\u001b[43m(\u001b[49m\u001b[43mBy\u001b[49m\u001b[38;5;241;43m.\u001b[39;49m\u001b[43mXPATH\u001b[49m\u001b[43m,\u001b[49m\u001b[43mvalue\u001b[49m\u001b[38;5;241;43m=\u001b[39;49m\u001b[38;5;124;43m'\u001b[39;49m\u001b[38;5;124;43m//*[@id=\u001b[39;49m\u001b[38;5;124;43m\"\u001b[39;49m\u001b[38;5;124;43mid__6vr1ecw3chf\u001b[39;49m\u001b[38;5;124;43m\"\u001b[39;49m\u001b[38;5;124;43m]/div[2]/div/div/div/svg\u001b[39;49m\u001b[38;5;124;43m'\u001b[39;49m\u001b[43m)\u001b[49m\n",
      "File \u001b[1;32m~\\anaconda3\\lib\\site-packages\\selenium\\webdriver\\remote\\webdriver.py:857\u001b[0m, in \u001b[0;36mWebDriver.find_element\u001b[1;34m(self, by, value)\u001b[0m\n\u001b[0;32m    854\u001b[0m     by \u001b[38;5;241m=\u001b[39m By\u001b[38;5;241m.\u001b[39mCSS_SELECTOR\n\u001b[0;32m    855\u001b[0m     value \u001b[38;5;241m=\u001b[39m \u001b[38;5;124m'\u001b[39m\u001b[38;5;124m[name=\u001b[39m\u001b[38;5;124m\"\u001b[39m\u001b[38;5;132;01m%s\u001b[39;00m\u001b[38;5;124m\"\u001b[39m\u001b[38;5;124m]\u001b[39m\u001b[38;5;124m'\u001b[39m \u001b[38;5;241m%\u001b[39m value\n\u001b[1;32m--> 857\u001b[0m \u001b[38;5;28;01mreturn\u001b[39;00m \u001b[38;5;28;43mself\u001b[39;49m\u001b[38;5;241;43m.\u001b[39;49m\u001b[43mexecute\u001b[49m\u001b[43m(\u001b[49m\u001b[43mCommand\u001b[49m\u001b[38;5;241;43m.\u001b[39;49m\u001b[43mFIND_ELEMENT\u001b[49m\u001b[43m,\u001b[49m\u001b[43m \u001b[49m\u001b[43m{\u001b[49m\n\u001b[0;32m    858\u001b[0m \u001b[43m    \u001b[49m\u001b[38;5;124;43m'\u001b[39;49m\u001b[38;5;124;43musing\u001b[39;49m\u001b[38;5;124;43m'\u001b[39;49m\u001b[43m:\u001b[49m\u001b[43m \u001b[49m\u001b[43mby\u001b[49m\u001b[43m,\u001b[49m\n\u001b[0;32m    859\u001b[0m \u001b[43m    \u001b[49m\u001b[38;5;124;43m'\u001b[39;49m\u001b[38;5;124;43mvalue\u001b[39;49m\u001b[38;5;124;43m'\u001b[39;49m\u001b[43m:\u001b[49m\u001b[43m \u001b[49m\u001b[43mvalue\u001b[49m\u001b[43m}\u001b[49m\u001b[43m)\u001b[49m[\u001b[38;5;124m'\u001b[39m\u001b[38;5;124mvalue\u001b[39m\u001b[38;5;124m'\u001b[39m]\n",
      "File \u001b[1;32m~\\anaconda3\\lib\\site-packages\\selenium\\webdriver\\remote\\webdriver.py:435\u001b[0m, in \u001b[0;36mWebDriver.execute\u001b[1;34m(self, driver_command, params)\u001b[0m\n\u001b[0;32m    433\u001b[0m response \u001b[38;5;241m=\u001b[39m \u001b[38;5;28mself\u001b[39m\u001b[38;5;241m.\u001b[39mcommand_executor\u001b[38;5;241m.\u001b[39mexecute(driver_command, params)\n\u001b[0;32m    434\u001b[0m \u001b[38;5;28;01mif\u001b[39;00m response:\n\u001b[1;32m--> 435\u001b[0m     \u001b[38;5;28;43mself\u001b[39;49m\u001b[38;5;241;43m.\u001b[39;49m\u001b[43merror_handler\u001b[49m\u001b[38;5;241;43m.\u001b[39;49m\u001b[43mcheck_response\u001b[49m\u001b[43m(\u001b[49m\u001b[43mresponse\u001b[49m\u001b[43m)\u001b[49m\n\u001b[0;32m    436\u001b[0m     response[\u001b[38;5;124m'\u001b[39m\u001b[38;5;124mvalue\u001b[39m\u001b[38;5;124m'\u001b[39m] \u001b[38;5;241m=\u001b[39m \u001b[38;5;28mself\u001b[39m\u001b[38;5;241m.\u001b[39m_unwrap_value(\n\u001b[0;32m    437\u001b[0m         response\u001b[38;5;241m.\u001b[39mget(\u001b[38;5;124m'\u001b[39m\u001b[38;5;124mvalue\u001b[39m\u001b[38;5;124m'\u001b[39m, \u001b[38;5;28;01mNone\u001b[39;00m))\n\u001b[0;32m    438\u001b[0m     \u001b[38;5;28;01mreturn\u001b[39;00m response\n",
      "File \u001b[1;32m~\\anaconda3\\lib\\site-packages\\selenium\\webdriver\\remote\\errorhandler.py:247\u001b[0m, in \u001b[0;36mErrorHandler.check_response\u001b[1;34m(self, response)\u001b[0m\n\u001b[0;32m    245\u001b[0m         alert_text \u001b[38;5;241m=\u001b[39m value[\u001b[38;5;124m'\u001b[39m\u001b[38;5;124malert\u001b[39m\u001b[38;5;124m'\u001b[39m]\u001b[38;5;241m.\u001b[39mget(\u001b[38;5;124m'\u001b[39m\u001b[38;5;124mtext\u001b[39m\u001b[38;5;124m'\u001b[39m)\n\u001b[0;32m    246\u001b[0m     \u001b[38;5;28;01mraise\u001b[39;00m exception_class(message, screen, stacktrace, alert_text)  \u001b[38;5;66;03m# type: ignore[call-arg]  # mypy is not smart enough here\u001b[39;00m\n\u001b[1;32m--> 247\u001b[0m \u001b[38;5;28;01mraise\u001b[39;00m exception_class(message, screen, stacktrace)\n",
      "\u001b[1;31mNoSuchElementException\u001b[0m: Message: no such element: Unable to locate element: {\"method\":\"xpath\",\"selector\":\"//*[@id=\"id__6vr1ecw3chf\"]/div[2]/div/div/div/svg\"}\n  (Session info: chrome=103.0.5060.134)\nStacktrace:\nBacktrace:\n\tOrdinal0 [0x00D05FD3+2187219]\n\tOrdinal0 [0x00C9E6D1+1763025]\n\tOrdinal0 [0x00BB3E78+802424]\n\tOrdinal0 [0x00BE1C10+990224]\n\tOrdinal0 [0x00BE1EAB+990891]\n\tOrdinal0 [0x00C0EC92+1174674]\n\tOrdinal0 [0x00BFCBD4+1100756]\n\tOrdinal0 [0x00C0CFC2+1167298]\n\tOrdinal0 [0x00BFC9A6+1100198]\n\tOrdinal0 [0x00BD6F80+946048]\n\tOrdinal0 [0x00BD7E76+949878]\n\tGetHandleVerifier [0x00FA90C2+2721218]\n\tGetHandleVerifier [0x00F9AAF0+2662384]\n\tGetHandleVerifier [0x00D9137A+526458]\n\tGetHandleVerifier [0x00D90416+522518]\n\tOrdinal0 [0x00CA4EAB+1789611]\n\tOrdinal0 [0x00CA97A8+1808296]\n\tOrdinal0 [0x00CA9895+1808533]\n\tOrdinal0 [0x00CB26C1+1844929]\n\tBaseThreadInitThunk [0x757DFA29+25]\n\tRtlGetAppContainerNamedObjectPath [0x77957A9E+286]\n\tRtlGetAppContainerNamedObjectPath [0x77957A6E+238]\n"
     ]
    }
   ],
   "source": [
    "driver.find_element(By.XPATH,value='//*[@id=\"id__6vr1ecw3chf\"]/div[2]/div/div/div/svg')"
   ]
  },
  {
   "cell_type": "code",
   "execution_count": 82,
   "id": "0cbdc292",
   "metadata": {},
   "outputs": [
    {
     "ename": "NoSuchElementException",
     "evalue": "Message: no such element: Unable to locate element: {\"method\":\"xpath\",\"selector\":\"//*[@id=\"id__wkx115whuap\"]/div[2]/div\"}\n  (Session info: chrome=103.0.5060.134)\nStacktrace:\nBacktrace:\n\tOrdinal0 [0x00D05FD3+2187219]\n\tOrdinal0 [0x00C9E6D1+1763025]\n\tOrdinal0 [0x00BB3E78+802424]\n\tOrdinal0 [0x00BE1C10+990224]\n\tOrdinal0 [0x00BE1EAB+990891]\n\tOrdinal0 [0x00C0EC92+1174674]\n\tOrdinal0 [0x00BFCBD4+1100756]\n\tOrdinal0 [0x00C0CFC2+1167298]\n\tOrdinal0 [0x00BFC9A6+1100198]\n\tOrdinal0 [0x00BD6F80+946048]\n\tOrdinal0 [0x00BD7E76+949878]\n\tGetHandleVerifier [0x00FA90C2+2721218]\n\tGetHandleVerifier [0x00F9AAF0+2662384]\n\tGetHandleVerifier [0x00D9137A+526458]\n\tGetHandleVerifier [0x00D90416+522518]\n\tOrdinal0 [0x00CA4EAB+1789611]\n\tOrdinal0 [0x00CA97A8+1808296]\n\tOrdinal0 [0x00CA9895+1808533]\n\tOrdinal0 [0x00CB26C1+1844929]\n\tBaseThreadInitThunk [0x757DFA29+25]\n\tRtlGetAppContainerNamedObjectPath [0x77957A9E+286]\n\tRtlGetAppContainerNamedObjectPath [0x77957A6E+238]\n",
     "output_type": "error",
     "traceback": [
      "\u001b[1;31m---------------------------------------------------------------------------\u001b[0m",
      "\u001b[1;31mNoSuchElementException\u001b[0m                    Traceback (most recent call last)",
      "Input \u001b[1;32mIn [82]\u001b[0m, in \u001b[0;36m<cell line: 1>\u001b[1;34m()\u001b[0m\n\u001b[1;32m----> 1\u001b[0m \u001b[43mdriver\u001b[49m\u001b[38;5;241;43m.\u001b[39;49m\u001b[43mfind_element\u001b[49m\u001b[43m(\u001b[49m\u001b[43mBy\u001b[49m\u001b[38;5;241;43m.\u001b[39;49m\u001b[43mXPATH\u001b[49m\u001b[43m,\u001b[49m\u001b[43mvalue\u001b[49m\u001b[38;5;241;43m=\u001b[39;49m\u001b[38;5;124;43m'\u001b[39;49m\u001b[38;5;124;43m//*[@id=\u001b[39;49m\u001b[38;5;124;43m\"\u001b[39;49m\u001b[38;5;124;43mid__wkx115whuap\u001b[39;49m\u001b[38;5;124;43m\"\u001b[39;49m\u001b[38;5;124;43m]/div[2]/div\u001b[39;49m\u001b[38;5;124;43m'\u001b[39;49m\u001b[43m)\u001b[49m\u001b[38;5;241m.\u001b[39mclick()\n",
      "File \u001b[1;32m~\\anaconda3\\lib\\site-packages\\selenium\\webdriver\\remote\\webdriver.py:857\u001b[0m, in \u001b[0;36mWebDriver.find_element\u001b[1;34m(self, by, value)\u001b[0m\n\u001b[0;32m    854\u001b[0m     by \u001b[38;5;241m=\u001b[39m By\u001b[38;5;241m.\u001b[39mCSS_SELECTOR\n\u001b[0;32m    855\u001b[0m     value \u001b[38;5;241m=\u001b[39m \u001b[38;5;124m'\u001b[39m\u001b[38;5;124m[name=\u001b[39m\u001b[38;5;124m\"\u001b[39m\u001b[38;5;132;01m%s\u001b[39;00m\u001b[38;5;124m\"\u001b[39m\u001b[38;5;124m]\u001b[39m\u001b[38;5;124m'\u001b[39m \u001b[38;5;241m%\u001b[39m value\n\u001b[1;32m--> 857\u001b[0m \u001b[38;5;28;01mreturn\u001b[39;00m \u001b[38;5;28;43mself\u001b[39;49m\u001b[38;5;241;43m.\u001b[39;49m\u001b[43mexecute\u001b[49m\u001b[43m(\u001b[49m\u001b[43mCommand\u001b[49m\u001b[38;5;241;43m.\u001b[39;49m\u001b[43mFIND_ELEMENT\u001b[49m\u001b[43m,\u001b[49m\u001b[43m \u001b[49m\u001b[43m{\u001b[49m\n\u001b[0;32m    858\u001b[0m \u001b[43m    \u001b[49m\u001b[38;5;124;43m'\u001b[39;49m\u001b[38;5;124;43musing\u001b[39;49m\u001b[38;5;124;43m'\u001b[39;49m\u001b[43m:\u001b[49m\u001b[43m \u001b[49m\u001b[43mby\u001b[49m\u001b[43m,\u001b[49m\n\u001b[0;32m    859\u001b[0m \u001b[43m    \u001b[49m\u001b[38;5;124;43m'\u001b[39;49m\u001b[38;5;124;43mvalue\u001b[39;49m\u001b[38;5;124;43m'\u001b[39;49m\u001b[43m:\u001b[49m\u001b[43m \u001b[49m\u001b[43mvalue\u001b[49m\u001b[43m}\u001b[49m\u001b[43m)\u001b[49m[\u001b[38;5;124m'\u001b[39m\u001b[38;5;124mvalue\u001b[39m\u001b[38;5;124m'\u001b[39m]\n",
      "File \u001b[1;32m~\\anaconda3\\lib\\site-packages\\selenium\\webdriver\\remote\\webdriver.py:435\u001b[0m, in \u001b[0;36mWebDriver.execute\u001b[1;34m(self, driver_command, params)\u001b[0m\n\u001b[0;32m    433\u001b[0m response \u001b[38;5;241m=\u001b[39m \u001b[38;5;28mself\u001b[39m\u001b[38;5;241m.\u001b[39mcommand_executor\u001b[38;5;241m.\u001b[39mexecute(driver_command, params)\n\u001b[0;32m    434\u001b[0m \u001b[38;5;28;01mif\u001b[39;00m response:\n\u001b[1;32m--> 435\u001b[0m     \u001b[38;5;28;43mself\u001b[39;49m\u001b[38;5;241;43m.\u001b[39;49m\u001b[43merror_handler\u001b[49m\u001b[38;5;241;43m.\u001b[39;49m\u001b[43mcheck_response\u001b[49m\u001b[43m(\u001b[49m\u001b[43mresponse\u001b[49m\u001b[43m)\u001b[49m\n\u001b[0;32m    436\u001b[0m     response[\u001b[38;5;124m'\u001b[39m\u001b[38;5;124mvalue\u001b[39m\u001b[38;5;124m'\u001b[39m] \u001b[38;5;241m=\u001b[39m \u001b[38;5;28mself\u001b[39m\u001b[38;5;241m.\u001b[39m_unwrap_value(\n\u001b[0;32m    437\u001b[0m         response\u001b[38;5;241m.\u001b[39mget(\u001b[38;5;124m'\u001b[39m\u001b[38;5;124mvalue\u001b[39m\u001b[38;5;124m'\u001b[39m, \u001b[38;5;28;01mNone\u001b[39;00m))\n\u001b[0;32m    438\u001b[0m     \u001b[38;5;28;01mreturn\u001b[39;00m response\n",
      "File \u001b[1;32m~\\anaconda3\\lib\\site-packages\\selenium\\webdriver\\remote\\errorhandler.py:247\u001b[0m, in \u001b[0;36mErrorHandler.check_response\u001b[1;34m(self, response)\u001b[0m\n\u001b[0;32m    245\u001b[0m         alert_text \u001b[38;5;241m=\u001b[39m value[\u001b[38;5;124m'\u001b[39m\u001b[38;5;124malert\u001b[39m\u001b[38;5;124m'\u001b[39m]\u001b[38;5;241m.\u001b[39mget(\u001b[38;5;124m'\u001b[39m\u001b[38;5;124mtext\u001b[39m\u001b[38;5;124m'\u001b[39m)\n\u001b[0;32m    246\u001b[0m     \u001b[38;5;28;01mraise\u001b[39;00m exception_class(message, screen, stacktrace, alert_text)  \u001b[38;5;66;03m# type: ignore[call-arg]  # mypy is not smart enough here\u001b[39;00m\n\u001b[1;32m--> 247\u001b[0m \u001b[38;5;28;01mraise\u001b[39;00m exception_class(message, screen, stacktrace)\n",
      "\u001b[1;31mNoSuchElementException\u001b[0m: Message: no such element: Unable to locate element: {\"method\":\"xpath\",\"selector\":\"//*[@id=\"id__wkx115whuap\"]/div[2]/div\"}\n  (Session info: chrome=103.0.5060.134)\nStacktrace:\nBacktrace:\n\tOrdinal0 [0x00D05FD3+2187219]\n\tOrdinal0 [0x00C9E6D1+1763025]\n\tOrdinal0 [0x00BB3E78+802424]\n\tOrdinal0 [0x00BE1C10+990224]\n\tOrdinal0 [0x00BE1EAB+990891]\n\tOrdinal0 [0x00C0EC92+1174674]\n\tOrdinal0 [0x00BFCBD4+1100756]\n\tOrdinal0 [0x00C0CFC2+1167298]\n\tOrdinal0 [0x00BFC9A6+1100198]\n\tOrdinal0 [0x00BD6F80+946048]\n\tOrdinal0 [0x00BD7E76+949878]\n\tGetHandleVerifier [0x00FA90C2+2721218]\n\tGetHandleVerifier [0x00F9AAF0+2662384]\n\tGetHandleVerifier [0x00D9137A+526458]\n\tGetHandleVerifier [0x00D90416+522518]\n\tOrdinal0 [0x00CA4EAB+1789611]\n\tOrdinal0 [0x00CA97A8+1808296]\n\tOrdinal0 [0x00CA9895+1808533]\n\tOrdinal0 [0x00CB26C1+1844929]\n\tBaseThreadInitThunk [0x757DFA29+25]\n\tRtlGetAppContainerNamedObjectPath [0x77957A9E+286]\n\tRtlGetAppContainerNamedObjectPath [0x77957A6E+238]\n"
     ]
    }
   ],
   "source": [
    "driver.find_element(By.XPATH,value='//*[@id=\"id__wkx115whuap\"]/div[2]/div').click()\n",
    "driver.find_element(By.XPATH,value='//*[@id=\"layers\"]/div[2]/div/div/div/div[2]/div[3]/div/div/div').click()"
   ]
  },
  {
   "cell_type": "code",
   "execution_count": 23,
   "id": "bf81e9bb",
   "metadata": {},
   "outputs": [
    {
     "name": "stdout",
     "output_type": "stream",
     "text": [
      "Today's date: 2022-07-28\n"
     ]
    }
   ],
   "source": [
    "today = date.today()\n",
    "print(\"Today's date:\", today)"
   ]
  },
  {
   "cell_type": "code",
   "execution_count": 29,
   "id": "b05c7472",
   "metadata": {},
   "outputs": [
    {
     "data": {
      "text/plain": [
       "'1,266 Tweets'"
      ]
     },
     "execution_count": 29,
     "metadata": {},
     "output_type": "execute_result"
    }
   ],
   "source": [
    "trend_name"
   ]
  },
  {
   "cell_type": "code",
   "execution_count": 37,
   "id": "cd4e929e",
   "metadata": {},
   "outputs": [
    {
     "name": "stdout",
     "output_type": "stream",
     "text": [
      "1\n",
      "حوار القايمه\n",
      "2\n",
      "#انه_غض\n",
      "3\n",
      "#الاهلي_نادي_القرن\n",
      "4\n",
      "#صلوا_علي_سيدنا_محمد\n",
      "5\n",
      "#قايمه_المنقولات\n",
      "6\n",
      "#خليها_تعنس\n",
      "7\n",
      "علي النظام القديم\n",
      "8\n",
      "محمود وحيد\n",
      "9\n",
      "كريم فؤاد\n",
      "10\n",
      "hobi\n",
      "11\n",
      "علي العريس\n",
      "12\n",
      "محمد ابن\n",
      "13\n",
      "دار الافتاء\n",
      "14\n",
      "الحور العين\n",
      "15\n",
      "اليوم الخميس\n",
      "16\n",
      "ديمبلي\n",
      "17\n",
      "بنت الحلال\n",
      "18\n",
      "علي لطفي\n",
      "19\n",
      "الفيدرالي الامريكي\n",
      "20\n",
      "اقبلي الادد\n",
      "21\n",
      "محمد فخري\n",
      "22\n",
      "الثانويه الازهريه\n",
      "23\n",
      "عبد القادر\n",
      "24\n",
      "زياد طارق\n",
      "25\n",
      "28 يوليو 2022\n",
      "26\n",
      "شكري السيد\n",
      "27\n",
      "الحلل التيفال\n",
      "28\n",
      "جاب جول\n",
      "29\n",
      "انيستا\n",
      "30\n",
      "الشوط الاول\n"
     ]
    }
   ],
   "source": []
  },
  {
   "cell_type": "code",
   "execution_count": 77,
   "id": "bb93a5a4",
   "metadata": {},
   "outputs": [],
   "source": [
    "driver.find_element(By.CSS_SELECTOR,value = 'input[placeholder=\"Search Twitter\"]').send_keys(trend_name,Keys.ENTER)"
   ]
  },
  {
   "cell_type": "code",
   "execution_count": 50,
   "id": "1e39c3e1",
   "metadata": {},
   "outputs": [],
   "source": [
    "\n",
    "url2 = f'https://twitter.com/search?q={urllib.parse.quote(trend_name)}&src=trend_click&pt=1551486498498924544&vertical=trends'"
   ]
  },
  {
   "cell_type": "code",
   "execution_count": 48,
   "id": "1c9c8f2a",
   "metadata": {},
   "outputs": [],
   "source": [
    "trend_name = "
   ]
  },
  {
   "cell_type": "code",
   "execution_count": 49,
   "id": "c675d6fb",
   "metadata": {},
   "outputs": [
    {
     "data": {
      "text/plain": [
       "\"'الشوط الاول'\""
      ]
     },
     "execution_count": 49,
     "metadata": {},
     "output_type": "execute_result"
    }
   ],
   "source": [
    "trend_name"
   ]
  },
  {
   "cell_type": "code",
   "execution_count": 75,
   "id": "da1e92e6",
   "metadata": {},
   "outputs": [
    {
     "data": {
      "text/plain": [
       "'%22%27%D8%A7%D9%84%D8%B4%D9%88%D8%B7%20%D8%A7%D9%84%D8%A7%D9%88%D9%84%27%22'"
      ]
     },
     "execution_count": 75,
     "metadata": {},
     "output_type": "execute_result"
    }
   ],
   "source": [
    "urllib.parse.quote(f'\"{trend_name}\"')"
   ]
  },
  {
   "cell_type": "code",
   "execution_count": 64,
   "id": "3db2daf4",
   "metadata": {},
   "outputs": [
    {
     "data": {
      "text/plain": [
       "'%22%D8%A7%D9%84%D8%B4%D9%88%D8%B7%20%D8%A7%D9%84%D8%A7%D9%88%D9%84%22'"
      ]
     },
     "execution_count": 64,
     "metadata": {},
     "output_type": "execute_result"
    }
   ],
   "source": [
    "'%22%D8%A7%D9%84%D8%B4%D9%88%D8%B7%20%D8%A7%D9%84%D8%A7%D9%88%D9%84%22'"
   ]
  },
  {
   "cell_type": "code",
   "execution_count": 51,
   "id": "0698e5e5",
   "metadata": {},
   "outputs": [
    {
     "data": {
      "text/plain": [
       "False"
      ]
     },
     "execution_count": 51,
     "metadata": {},
     "output_type": "execute_result"
    }
   ],
   "source": [
    "url2 == 'https://twitter.com/search?q=%22%D8%A7%D9%84%D8%B4%D9%88%D8%B7%20%D8%A7%D9%84%D8%A7%D9%88%D9%84%22&src=trend_click&vertical=trends'"
   ]
  },
  {
   "cell_type": "code",
   "execution_count": 45,
   "id": "1316a4cc",
   "metadata": {},
   "outputs": [
    {
     "data": {
      "text/plain": [
       "'https://twitter.com/search?q=%D8%A7%D9%84%D8%B4%D9%88%D8%B7%20%D8%A7%D9%84%D8%A7%D9%88%D9%84&src=trend_click&pt=1551486498498924544&vertical=trends'"
      ]
     },
     "execution_count": 45,
     "metadata": {},
     "output_type": "execute_result"
    }
   ],
   "source": [
    "url2"
   ]
  },
  {
   "cell_type": "code",
   "execution_count": null,
   "id": "d688e986",
   "metadata": {},
   "outputs": [],
   "source": []
  }
 ],
 "metadata": {
  "kernelspec": {
   "display_name": "Python 3 (ipykernel)",
   "language": "python",
   "name": "python3"
  },
  "language_info": {
   "codemirror_mode": {
    "name": "ipython",
    "version": 3
   },
   "file_extension": ".py",
   "mimetype": "text/x-python",
   "name": "python",
   "nbconvert_exporter": "python",
   "pygments_lexer": "ipython3",
   "version": "3.9.12"
  }
 },
 "nbformat": 4,
 "nbformat_minor": 5
}
