{
 "cells": [
  {
   "cell_type": "code",
   "execution_count": 1,
   "id": "7ce5e125",
   "metadata": {},
   "outputs": [
    {
     "name": "stdout",
     "output_type": "stream",
     "text": [
      "\n"
     ]
    },
    {
     "name": "stderr",
     "output_type": "stream",
     "text": [
      "[WDM] - ====== WebDriver manager ======\n",
      "[WDM] - Current google-chrome version is 103.0.5060\n",
      "[WDM] - Get LATEST chromedriver version for 103.0.5060 google-chrome\n",
      "[WDM] - About to download new driver from https://chromedriver.storage.googleapis.com/103.0.5060.134/chromedriver_win32.zip\n",
      "[WDM] - Driver has been saved in cache [C:\\Users\\asd_v\\.wdm\\drivers\\chromedriver\\win32\\103.0.5060.134]\n"
     ]
    }
   ],
   "source": [
    "import pandas as pd\n",
    "from selenium import webdriver\n",
    "from selenium.webdriver.chrome.options import Options\n",
    "from selenium.webdriver.common.keys import Keys\n",
    "from selenium.webdriver.common.by import By\n",
    "from selenium.webdriver.chrome.service import Service\n",
    "from webdriver_manager.chrome import ChromeDriverManager\n",
    "from selenium.webdriver.support.ui import Select\n",
    "\n",
    "import time\n",
    "import csv\n",
    "import random\n",
    "import threading as th\n",
    "import re \n",
    "\n",
    "options = webdriver.ChromeOptions()\n",
    "\n",
    "driver = webdriver.Chrome(service=Service(ChromeDriverManager().install()))"
   ]
  },
  {
   "cell_type": "code",
   "execution_count": 2,
   "id": "7f398696",
   "metadata": {},
   "outputs": [],
   "source": [
    "def new_email():\n",
    "    import requests\n",
    "\n",
    "    url = \"https://temp-mail44.p.rapidapi.com/api/v3/email/new\"\n",
    "\n",
    "    payload = {\n",
    "        \"key1\": \"value\",\n",
    "        \"key2\": \"value\"\n",
    "    }\n",
    "    headers = {\n",
    "        \"content-type\": \"application/json\",\n",
    "        \"X-RapidAPI-Key\": \"b9d0fe705cmsh620988e79a6ae44p1f34b8jsncb7d33e935c7\",\n",
    "        \"X-RapidAPI-Host\": \"temp-mail44.p.rapidapi.com\"\n",
    "    }\n",
    "\n",
    "    response_new = requests.request(\"POST\", url, json=payload, headers=headers)\n",
    "    email = response_new.json()['email']\n",
    "    return email\n",
    "def get_var_code(email):\n",
    "    import requests\n",
    "\n",
    "    url = f\"https://temp-mail44.p.rapidapi.com/api/v3/email/{email}/messages\"\n",
    "\n",
    "    headers = {\n",
    "        \"X-RapidAPI-Key\": \"b9d0fe705cmsh620988e79a6ae44p1f34b8jsncb7d33e935c7\",\n",
    "        \"X-RapidAPI-Host\": \"temp-mail44.p.rapidapi.com\"\n",
    "    }\n",
    "\n",
    "    response = requests.request(\"GET\", url, headers=headers)\n",
    "\n",
    "    return re.findall(r'\\d+', response.json()[-1]['subject'])[0]"
   ]
  },
  {
   "cell_type": "code",
   "execution_count": 3,
   "id": "5185c1de",
   "metadata": {},
   "outputs": [
    {
     "data": {
      "text/plain": [
       "'zaqckerx7a31m@waterisgone.com'"
      ]
     },
     "execution_count": 3,
     "metadata": {},
     "output_type": "execute_result"
    }
   ],
   "source": [
    "new_email()"
   ]
  },
  {
   "cell_type": "code",
   "execution_count": null,
   "id": "a88eb0aa",
   "metadata": {},
   "outputs": [],
   "source": []
  },
  {
   "cell_type": "code",
   "execution_count": 177,
   "id": "25ed0f9e",
   "metadata": {},
   "outputs": [
    {
     "data": {
      "text/plain": [
       "'672622'"
      ]
     },
     "execution_count": 177,
     "metadata": {},
     "output_type": "execute_result"
    }
   ],
   "source": [
    "get_var_code('i5mht6xou@block521.com')"
   ]
  },
  {
   "cell_type": "code",
   "execution_count": 37,
   "id": "156d7358",
   "metadata": {},
   "outputs": [],
   "source": [
    "def create_account(name,email):\n",
    "    link = 'https://twitter.com/i/flow/signup'\n",
    "    driver.get(link)\n",
    "    time.sleep(2)\n",
    "    driver.find_element(By.CSS_SELECTOR\n",
    "                    ,value = 'div[class=\"css-18t94o4 css-1dbjc4n r-sdzlij r-1phboty r-rs99b7 r-ywje51 r-usiww2 r-2yi16 r-1qi8awa r-1ny4l3l r-ymttw5 r-o7ynqc r-6416eg r-lrvibr r-13qz1uu\"]').send_keys(Keys.ENTER)\n",
    "    #use e mail instead\n",
    "    time.sleep(2)\n",
    "    driver.find_element(By.CSS_SELECTOR\n",
    "                    ,value = 'div[class=\"css-18t94o4 css-901oao r-37j5jr r-a023e6 r-16dba41 r-rjixqe r-bcqeeo r-1ff274t r-qvutc0\"]').click()\n",
    "    #name\n",
    "    driver.find_element(By.CSS_SELECTOR,value = 'input[name=\"name\"]').send_keys(name)\n",
    "    #email\n",
    "    driver.find_element(By.CSS_SELECTOR,value = 'input[name=\"email\"]').send_keys(email)\n",
    "    #month\n",
    "    Select(driver.find_element(By.ID,value = 'SELECTOR_1')).select_by_visible_text('May')\n",
    "    #day\n",
    "    Select(driver.find_element(By.ID,value = 'SELECTOR_2')).select_by_visible_text('12')\n",
    "    #year\n",
    "    Select(driver.find_element(By.ID,value = 'SELECTOR_3')).select_by_visible_text('1996')\n",
    "    #next\n",
    "    time.sleep(2)\n",
    "    driver.find_element(By.CSS_SELECTOR\n",
    "                    ,value = 'div[class=\"css-18t94o4 css-1dbjc4n r-sdzlij r-1phboty r-rs99b7 r-19yznuf r-64el8z r-1ny4l3l r-1dye5f7 r-o7ynqc r-6416eg r-lrvibr\" ]').click()\n",
    "    #next\n",
    "    time.sleep(2)\n",
    "\n",
    "    driver.find_element(By.CSS_SELECTOR\n",
    "                        ,value = 'div[ data-testid=\"ocfSettingsListNextButton\" ]').click()\n",
    "\n",
    "    #final next\n",
    "    time.sleep(2)\n",
    "\n",
    "    driver.find_element(By.CSS_SELECTOR\n",
    "                    ,value = 'div[data-testid=\"ocfSignupReviewNextLink\" ]').click()\n",
    "\n",
    "    time.sleep(4)\n",
    "    driver.find_element(By.CSS_SELECTOR,value = 'input[name=\"verfication_code\"]').send_keys(get_var_code(email))\n",
    "\n",
    "    driver.find_element(By.CSS_SELECTOR\n",
    "                    ,value = f'div[class=\"css-18t94o4 css-1dbjc4n r-sdzlij r-1phboty r-rs99b7 r-19yznuf r-64el8z r-1ny4l3l r-1dye5f7 r-o7ynqc r-6416eg r-lrvibr\"]').click()\n",
    "    time.sleep(2)\n",
    "    driver.find_element(By.CSS_SELECTOR,value = 'input[name=\"password\"]').send_keys('lordasdwithme')\n",
    "\n",
    "    driver.find_element(By.CSS_SELECTOR\n",
    "                    ,value = f'div[class=\"css-18t94o4 css-1dbjc4n r-sdzlij r-1phboty r-rs99b7 r-19yznuf r-64el8z r-1ny4l3l r-1dye5f7 r-o7ynqc r-6416eg r-lrvibr\"]').click()\n",
    "    time.sleep(2)\n",
    "    driver.find_element(By.CSS_SELECTOR\n",
    "                    ,value = f'div[data-testid=\"ocfSelectAvatarSkipForNowButton\"]').click()\n",
    "    time.sleep(2)\n",
    "    driver.find_element(By.CSS_SELECTOR\n",
    "                    ,value = f'div[data-testid=\"ocfEnterTextSkipForNowButton\"]').click()\n",
    "\n",
    "    time.sleep(2)\n",
    "    try:\n",
    "        driver.find_element(By.CSS_SELECTOR\n",
    "                        ,value = f'div[class=\"css-18t94o4 css-901oao css-16my406 r-1cvl2hr r-poiln3 r-bcqeeo r-qvutc0\"]').click()\n",
    "    except:\n",
    "        driver.find_element(By.CSS_SELECTOR\n",
    "                        ,value = f'div[data-testid=\"ocfEnterUsernameSkipButton\"]').click()\n",
    "\n",
    "    time.sleep(2)\n",
    "    driver.find_element(By.CSS_SELECTOR\n",
    "                        ,value = f'div[class=\"css-18t94o4 css-1dbjc4n r-1niwhzg r-sdzlij r-1phboty r-rs99b7 r-1wzrnnt r-19yznuf r-64el8z r-1ny4l3l r-1dye5f7 r-o7ynqc r-6416eg r-lrvibr\"]').click()\n",
    "    driver.get('twitter.com')\n",
    "    return email,password"
   ]
  },
  {
   "cell_type": "code",
   "execution_count": null,
   "id": "8fcfc1d8",
   "metadata": {},
   "outputs": [],
   "source": [
    "email = new_email()\n",
    "name = 'ahmed mohammed'\n"
   ]
  },
  {
   "cell_type": "code",
   "execution_count": 179,
   "id": "ea656d5a",
   "metadata": {},
   "outputs": [],
   "source": [
    "# link = 'https://twitter.com/i/flow/signup'\n",
    "# driver.get(link)\n",
    "# #use emial or\n",
    "# time.sleep(2)\n",
    "# driver.find_element(By.CSS_SELECTOR\n",
    "#                     ,value = 'div[class=\"css-18t94o4 css-1dbjc4n r-sdzlij r-1phboty r-rs99b7 r-ywje51 r-usiww2 r-2yi16 r-1qi8awa r-1ny4l3l r-ymttw5 r-o7ynqc r-6416eg r-lrvibr r-13qz1uu\"]').send_keys(Keys.ENTER)\n",
    "# #use e mail instead\n",
    "# time.sleep(2)\n",
    "# driver.find_element(By.CSS_SELECTOR\n",
    "#                     ,value = 'div[class=\"css-18t94o4 css-901oao r-37j5jr r-a023e6 r-16dba41 r-rjixqe r-bcqeeo r-1ff274t r-qvutc0\"]').click()\n",
    "# name = 'mohammed samir'\n",
    "# #name\n",
    "# driver.find_element(By.CSS_SELECTOR,value = 'input[name=\"name\"]').send_keys(name)\n",
    "# #email\n",
    "# driver.find_element(By.CSS_SELECTOR,value = 'input[name=\"email\"]').send_keys(email)\n",
    "# #month\n",
    "# Select(driver.find_element(By.ID,value = 'SELECTOR_1')).select_by_visible_text('May')\n",
    "# #day\n",
    "# Select(driver.find_element(By.ID,value = 'SELECTOR_2')).select_by_visible_text('12')\n",
    "# #year\n",
    "# Select(driver.find_element(By.ID,value = 'SELECTOR_3')).select_by_visible_text('1996')\n",
    "# #next\n",
    "# time.sleep(2)\n",
    "# driver.find_element(By.CSS_SELECTOR\n",
    "#                     ,value = 'div[class=\"css-18t94o4 css-1dbjc4n r-sdzlij r-1phboty r-rs99b7 r-19yznuf r-64el8z r-1ny4l3l r-1dye5f7 r-o7ynqc r-6416eg r-lrvibr\" ]').click()\n",
    "# #next\n",
    "# time.sleep(2)\n",
    "# try:\n",
    "#     driver.find_element(By.CSS_SELECTOR\n",
    "#                         ,value = 'div[ class=\"css-18t94o4 css-1dbjc4n r-sdzlij r-1phboty r-rs99b7 r-19yznuf r-64el8z r-1ny4l3l r-1dye5f7 r-o7ynqc r-6416eg r-lrvibr\" ]').click()\n",
    "# except:\n",
    "#     pass\n",
    "# #final next\n",
    "# time.sleep(2)\n",
    "# driver.find_element(By.CSS_SELECTOR\n",
    "#                     ,value = 'div[class=\"css-18t94o4 css-1dbjc4n r-l5o3uw r-sdzlij r-1phboty r-rs99b7 r-19yznuf r-64el8z r-1ny4l3l r-1dye5f7 r-o7ynqc r-6416eg r-lrvibr\" ]').click()\n",
    "# time.sleep(2)\n",
    "# driver.find_element(By.CSS_SELECTOR,value = 'input[name=\"verfication_code\"]').send_keys(get_var_code(email))\n",
    "# driver.find_element(By.CSS_SELECTOR\n",
    "#                     ,value = f'div[]').click()\n",
    "# driver.find_element(By.CSS_SELECTOR\n",
    "#                     ,value = f'div[class=\"css-18t94o4 css-1dbjc4n r-sdzlij r-1phboty r-rs99b7 r-19yznuf r-64el8z r-1ny4l3l r-1dye5f7 r-o7ynqc r-6416eg r-lrvibr\"]').click()\n",
    "# driver.find_element(By.CSS_SELECTOR,value = 'input[name=\"password\"]').send_keys(email)\n",
    "# driver.find_element(By.CSS_SELECTOR\n",
    "#                     ,value = f'div[class=\"css-18t94o4 css-1dbjc4n r-sdzlij r-1phboty r-rs99b7 r-19yznuf r-64el8z r-1ny4l3l r-1dye5f7 r-o7ynqc r-6416eg r-lrvibr\"]').click()"
   ]
  },
  {
   "cell_type": "code",
   "execution_count": 35,
   "id": "3e9874cc",
   "metadata": {},
   "outputs": [],
   "source": [
    "def login(user_name, password):\n",
    "    link = 'https://twitter.com/i/flow/login'\n",
    "    driver.get(link)\n",
    "    time.sleep(3)\n",
    "    driver.find_element(By.CSS_SELECTOR,\n",
    "                       value = 'input').send_keys(user_name + Keys.ENTER)\n",
    "    time.sleep(1)\n",
    "    driver.find_element(By.CSS_SELECTOR,\n",
    "                       value = 'input[name=\"password\"]').send_keys(password + Keys.ENTER)\n",
    "\n",
    "login('u95ehzgtupxuqstp@plancetose.com', 'lordasdwithme')"
   ]
  },
  {
   "cell_type": "code",
   "execution_count": 33,
   "id": "4dbb2e3d",
   "metadata": {},
   "outputs": [
    {
     "data": {
      "text/plain": [
       "'yqx5zb72qqx1c2bt8b@block521.comlordasdwithmeahmedes74118245'"
      ]
     },
     "execution_count": 33,
     "metadata": {},
     "output_type": "execute_result"
    }
   ],
   "source": [
    "'yqx5zb72qqx1c2bt8b@block521.com' 'lordasdwithme' 'ahmedes74118245'"
   ]
  },
  {
   "cell_type": "code",
   "execution_count": 36,
   "id": "58f8c3e1",
   "metadata": {},
   "outputs": [
    {
     "data": {
      "text/plain": [
       "'u95ehzgtupxuqstp@plancetose.comlordasdwithmemousan44525501'"
      ]
     },
     "execution_count": 36,
     "metadata": {},
     "output_type": "execute_result"
    }
   ],
   "source": [
    "'u95ehzgtupxuqstp@plancetose.com' 'lordasdwithme' 'mousan44525501'"
   ]
  },
  {
   "cell_type": "code",
   "execution_count": 3,
   "id": "fb377bd5",
   "metadata": {},
   "outputs": [],
   "source": [
    "def trend_by_country(location):\n",
    "    driver.get(\"https://twitter.com/settings/trends/location\")\n",
    "    if 'countries_bottoms' in locals():\n",
    "        time.sleep(3)\n",
    "        countries_bottoms[location.title()].click()\n",
    "    else: \n",
    "        countries_bottoms = {}\n",
    "        time.sleep(3)\n",
    "        for i in driver.find_elements(By.CSS_SELECTOR,value = 'div[role=\"button\"]'):\n",
    "            text = i.text\n",
    "            countries_bottoms[text] = i\n",
    "        countries_bottoms[location.title()].click()\n",
    "    driver.get('https://twitter.com/explore/tabs/trending')\n",
    "trend_by_country('egypt')"
   ]
  },
  {
   "cell_type": "code",
   "execution_count": 18,
   "id": "79b117b7",
   "metadata": {},
   "outputs": [
    {
     "ename": "NoSuchElementException",
     "evalue": "Message: no such element: Unable to locate element: {\"method\":\"css selector\",\"selector\":\"input[placeholder=\"Search Twitter\"]\"}\n  (Session info: chrome=103.0.5060.134)\nStacktrace:\nBacktrace:\n\tOrdinal0 [0x01515FD3+2187219]\n\tOrdinal0 [0x014AE6D1+1763025]\n\tOrdinal0 [0x013C3E78+802424]\n\tOrdinal0 [0x013F1C10+990224]\n\tOrdinal0 [0x013F1EAB+990891]\n\tOrdinal0 [0x0141EC92+1174674]\n\tOrdinal0 [0x0140CBD4+1100756]\n\tOrdinal0 [0x0141CFC2+1167298]\n\tOrdinal0 [0x0140C9A6+1100198]\n\tOrdinal0 [0x013E6F80+946048]\n\tOrdinal0 [0x013E7E76+949878]\n\tGetHandleVerifier [0x017B90C2+2721218]\n\tGetHandleVerifier [0x017AAAF0+2662384]\n\tGetHandleVerifier [0x015A137A+526458]\n\tGetHandleVerifier [0x015A0416+522518]\n\tOrdinal0 [0x014B4EAB+1789611]\n\tOrdinal0 [0x014B97A8+1808296]\n\tOrdinal0 [0x014B9895+1808533]\n\tOrdinal0 [0x014C26C1+1844929]\n\tBaseThreadInitThunk [0x7528347D+18]\n\tRtlInitializeExceptionChain [0x76F19852+99]\n\tRtlInitializeExceptionChain [0x76F19825+54]\n",
     "output_type": "error",
     "traceback": [
      "\u001b[1;31m---------------------------------------------------------------------------\u001b[0m",
      "\u001b[1;31mNoSuchElementException\u001b[0m                    Traceback (most recent call last)",
      "\u001b[1;32m<ipython-input-18-119915dabb4a>\u001b[0m in \u001b[0;36m<module>\u001b[1;34m\u001b[0m\n\u001b[0;32m      5\u001b[0m \u001b[1;31m#search bar\u001b[0m\u001b[1;33m\u001b[0m\u001b[1;33m\u001b[0m\u001b[1;33m\u001b[0m\u001b[0m\n\u001b[0;32m      6\u001b[0m \u001b[1;33m\u001b[0m\u001b[0m\n\u001b[1;32m----> 7\u001b[1;33m \u001b[0mdriver\u001b[0m\u001b[1;33m.\u001b[0m\u001b[0mfind_element\u001b[0m\u001b[1;33m(\u001b[0m\u001b[0mBy\u001b[0m\u001b[1;33m.\u001b[0m\u001b[0mCSS_SELECTOR\u001b[0m\u001b[1;33m,\u001b[0m\u001b[0mvalue\u001b[0m \u001b[1;33m=\u001b[0m \u001b[1;34m'input[placeholder=\"Search Twitter\"]'\u001b[0m\u001b[1;33m)\u001b[0m\u001b[1;33m.\u001b[0m\u001b[0msend_keys\u001b[0m\u001b[1;33m(\u001b[0m\u001b[1;34m\"help\"\u001b[0m\u001b[1;33m,\u001b[0m\u001b[0mKeys\u001b[0m\u001b[1;33m.\u001b[0m\u001b[0mENTER\u001b[0m\u001b[1;33m)\u001b[0m\u001b[1;33m\u001b[0m\u001b[1;33m\u001b[0m\u001b[0m\n\u001b[0m",
      "\u001b[1;32mC:\\Anaconda3\\lib\\site-packages\\selenium\\webdriver\\remote\\webdriver.py\u001b[0m in \u001b[0;36mfind_element\u001b[1;34m(self, by, value)\u001b[0m\n\u001b[0;32m    855\u001b[0m             \u001b[0mvalue\u001b[0m \u001b[1;33m=\u001b[0m \u001b[1;34m'[name=\"%s\"]'\u001b[0m \u001b[1;33m%\u001b[0m \u001b[0mvalue\u001b[0m\u001b[1;33m\u001b[0m\u001b[1;33m\u001b[0m\u001b[0m\n\u001b[0;32m    856\u001b[0m \u001b[1;33m\u001b[0m\u001b[0m\n\u001b[1;32m--> 857\u001b[1;33m         return self.execute(Command.FIND_ELEMENT, {\n\u001b[0m\u001b[0;32m    858\u001b[0m             \u001b[1;34m'using'\u001b[0m\u001b[1;33m:\u001b[0m \u001b[0mby\u001b[0m\u001b[1;33m,\u001b[0m\u001b[1;33m\u001b[0m\u001b[1;33m\u001b[0m\u001b[0m\n\u001b[0;32m    859\u001b[0m             'value': value})['value']\n",
      "\u001b[1;32mC:\\Anaconda3\\lib\\site-packages\\selenium\\webdriver\\remote\\webdriver.py\u001b[0m in \u001b[0;36mexecute\u001b[1;34m(self, driver_command, params)\u001b[0m\n\u001b[0;32m    433\u001b[0m         \u001b[0mresponse\u001b[0m \u001b[1;33m=\u001b[0m \u001b[0mself\u001b[0m\u001b[1;33m.\u001b[0m\u001b[0mcommand_executor\u001b[0m\u001b[1;33m.\u001b[0m\u001b[0mexecute\u001b[0m\u001b[1;33m(\u001b[0m\u001b[0mdriver_command\u001b[0m\u001b[1;33m,\u001b[0m \u001b[0mparams\u001b[0m\u001b[1;33m)\u001b[0m\u001b[1;33m\u001b[0m\u001b[1;33m\u001b[0m\u001b[0m\n\u001b[0;32m    434\u001b[0m         \u001b[1;32mif\u001b[0m \u001b[0mresponse\u001b[0m\u001b[1;33m:\u001b[0m\u001b[1;33m\u001b[0m\u001b[1;33m\u001b[0m\u001b[0m\n\u001b[1;32m--> 435\u001b[1;33m             \u001b[0mself\u001b[0m\u001b[1;33m.\u001b[0m\u001b[0merror_handler\u001b[0m\u001b[1;33m.\u001b[0m\u001b[0mcheck_response\u001b[0m\u001b[1;33m(\u001b[0m\u001b[0mresponse\u001b[0m\u001b[1;33m)\u001b[0m\u001b[1;33m\u001b[0m\u001b[1;33m\u001b[0m\u001b[0m\n\u001b[0m\u001b[0;32m    436\u001b[0m             response['value'] = self._unwrap_value(\n\u001b[0;32m    437\u001b[0m                 response.get('value', None))\n",
      "\u001b[1;32mC:\\Anaconda3\\lib\\site-packages\\selenium\\webdriver\\remote\\errorhandler.py\u001b[0m in \u001b[0;36mcheck_response\u001b[1;34m(self, response)\u001b[0m\n\u001b[0;32m    245\u001b[0m                 \u001b[0malert_text\u001b[0m \u001b[1;33m=\u001b[0m \u001b[0mvalue\u001b[0m\u001b[1;33m[\u001b[0m\u001b[1;34m'alert'\u001b[0m\u001b[1;33m]\u001b[0m\u001b[1;33m.\u001b[0m\u001b[0mget\u001b[0m\u001b[1;33m(\u001b[0m\u001b[1;34m'text'\u001b[0m\u001b[1;33m)\u001b[0m\u001b[1;33m\u001b[0m\u001b[1;33m\u001b[0m\u001b[0m\n\u001b[0;32m    246\u001b[0m             \u001b[1;32mraise\u001b[0m \u001b[0mexception_class\u001b[0m\u001b[1;33m(\u001b[0m\u001b[0mmessage\u001b[0m\u001b[1;33m,\u001b[0m \u001b[0mscreen\u001b[0m\u001b[1;33m,\u001b[0m \u001b[0mstacktrace\u001b[0m\u001b[1;33m,\u001b[0m \u001b[0malert_text\u001b[0m\u001b[1;33m)\u001b[0m  \u001b[1;31m# type: ignore[call-arg]  # mypy is not smart enough here\u001b[0m\u001b[1;33m\u001b[0m\u001b[1;33m\u001b[0m\u001b[0m\n\u001b[1;32m--> 247\u001b[1;33m         \u001b[1;32mraise\u001b[0m \u001b[0mexception_class\u001b[0m\u001b[1;33m(\u001b[0m\u001b[0mmessage\u001b[0m\u001b[1;33m,\u001b[0m \u001b[0mscreen\u001b[0m\u001b[1;33m,\u001b[0m \u001b[0mstacktrace\u001b[0m\u001b[1;33m)\u001b[0m\u001b[1;33m\u001b[0m\u001b[1;33m\u001b[0m\u001b[0m\n\u001b[0m\u001b[0;32m    248\u001b[0m \u001b[1;33m\u001b[0m\u001b[0m\n\u001b[0;32m    249\u001b[0m     \u001b[1;32mdef\u001b[0m \u001b[0m_value_or_default\u001b[0m\u001b[1;33m(\u001b[0m\u001b[0mself\u001b[0m\u001b[1;33m,\u001b[0m \u001b[0mobj\u001b[0m\u001b[1;33m:\u001b[0m \u001b[0mMapping\u001b[0m\u001b[1;33m[\u001b[0m\u001b[0m_KT\u001b[0m\u001b[1;33m,\u001b[0m \u001b[0m_VT\u001b[0m\u001b[1;33m]\u001b[0m\u001b[1;33m,\u001b[0m \u001b[0mkey\u001b[0m\u001b[1;33m:\u001b[0m \u001b[0m_KT\u001b[0m\u001b[1;33m,\u001b[0m \u001b[0mdefault\u001b[0m\u001b[1;33m:\u001b[0m \u001b[0m_VT\u001b[0m\u001b[1;33m)\u001b[0m \u001b[1;33m->\u001b[0m \u001b[0m_VT\u001b[0m\u001b[1;33m:\u001b[0m\u001b[1;33m\u001b[0m\u001b[1;33m\u001b[0m\u001b[0m\n",
      "\u001b[1;31mNoSuchElementException\u001b[0m: Message: no such element: Unable to locate element: {\"method\":\"css selector\",\"selector\":\"input[placeholder=\"Search Twitter\"]\"}\n  (Session info: chrome=103.0.5060.134)\nStacktrace:\nBacktrace:\n\tOrdinal0 [0x01515FD3+2187219]\n\tOrdinal0 [0x014AE6D1+1763025]\n\tOrdinal0 [0x013C3E78+802424]\n\tOrdinal0 [0x013F1C10+990224]\n\tOrdinal0 [0x013F1EAB+990891]\n\tOrdinal0 [0x0141EC92+1174674]\n\tOrdinal0 [0x0140CBD4+1100756]\n\tOrdinal0 [0x0141CFC2+1167298]\n\tOrdinal0 [0x0140C9A6+1100198]\n\tOrdinal0 [0x013E6F80+946048]\n\tOrdinal0 [0x013E7E76+949878]\n\tGetHandleVerifier [0x017B90C2+2721218]\n\tGetHandleVerifier [0x017AAAF0+2662384]\n\tGetHandleVerifier [0x015A137A+526458]\n\tGetHandleVerifier [0x015A0416+522518]\n\tOrdinal0 [0x014B4EAB+1789611]\n\tOrdinal0 [0x014B97A8+1808296]\n\tOrdinal0 [0x014B9895+1808533]\n\tOrdinal0 [0x014C26C1+1844929]\n\tBaseThreadInitThunk [0x7528347D+18]\n\tRtlInitializeExceptionChain [0x76F19852+99]\n\tRtlInitializeExceptionChain [0x76F19825+54]\n"
     ]
    }
   ],
   "source": [
    "def go_trending(driver):\n",
    "    link = driver.get(\"https://twitter.com/explore/tabs/trending\")\n",
    "#search bar\n",
    "\n",
    "driver.find_element(By.CSS_SELECTOR,value = 'input[placeholder=\"Search Twitter\"]').send_keys(\"help\",Keys.ENTER)"
   ]
  },
  {
   "cell_type": "code",
   "execution_count": 20,
   "id": "8686b729",
   "metadata": {},
   "outputs": [],
   "source": [
    "trend_by_country('egypt')"
   ]
  },
  {
   "cell_type": "code",
   "execution_count": 21,
   "id": "aaf3fb66",
   "metadata": {},
   "outputs": [],
   "source": [
    "for trend in driver.find_elements(By.CSS_SELECTOR,value = 'div[data-testid=\"cellInnerDiv\"]')[2:]:\n",
    "    tren_NO = trend.find_element(By.CSS_SELECTOR\n",
    "                  ,value = 'div[class=\"css-901oao r-14j79pv r-37j5jr r-n6v787 r-16dba41 r-1cwl3u0 r-bcqeeo r-qvutc0\"]').text\n",
    "    try:\n",
    "        trend_tweets = trnd.find_element(By.CSS_SELECTOR\n",
    "                      ,value = 'div[class=\"css-901oao r-14j79pv r-37j5jr r-n6v787 r-16dba41 r-1cwl3u0 r-14gqq1x r-bcqeeo r-qvutc0\"]').texte\n",
    "    except:\n",
    "        trend_tweets = 'unavilable'\n",
    "    trend_name = trnd.find_element(By.CSS_SELECTOR\n",
    "                  ,value = 'div[class=\"css-901oao r-18jsvk2 r-1k78y06 r-a023e6 r-b88u0q r-rjixqe r-1bymd8e r-bcqeeo r-qvutc0 r-1vmecro\"]').text\n",
    "    "
   ]
  },
  {
   "cell_type": "code",
   "execution_count": null,
   "id": "dab653e3",
   "metadata": {},
   "outputs": [],
   "source": []
  },
  {
   "cell_type": "code",
   "execution_count": 22,
   "id": "41d60f0c",
   "metadata": {},
   "outputs": [],
   "source": [
    "url = 'https://twitter.com/search?q=%D8%B2%D9%8A%D8%B2%D9%88&src=trend_click&pt=1551486498498924544&vertical=trends'"
   ]
  },
  {
   "cell_type": "code",
   "execution_count": 26,
   "id": "e507a507",
   "metadata": {},
   "outputs": [
    {
     "data": {
      "text/plain": [
       "'%D8%B2%D9%8A%D8%B2%D9%88'"
      ]
     },
     "execution_count": 26,
     "metadata": {},
     "output_type": "execute_result"
    }
   ],
   "source": []
  },
  {
   "cell_type": "code",
   "execution_count": 29,
   "id": "90cd463e",
   "metadata": {},
   "outputs": [],
   "source": [
    "url2 = f'https://twitter.com/search?q={urllib.parse.quote(\"زيزو\")}&src=trend_click&pt=1551486498498924544&vertical=trends'"
   ]
  },
  {
   "cell_type": "code",
   "execution_count": 30,
   "id": "ac8f9c08",
   "metadata": {},
   "outputs": [
    {
     "data": {
      "text/plain": [
       "True"
      ]
     },
     "execution_count": 30,
     "metadata": {},
     "output_type": "execute_result"
    }
   ],
   "source": [
    "url == url2"
   ]
  },
  {
   "cell_type": "code",
   "execution_count": 2,
   "id": "08a3768b",
   "metadata": {},
   "outputs": [
    {
     "ename": "NameError",
     "evalue": "name 'urllib' is not defined",
     "output_type": "error",
     "traceback": [
      "\u001b[1;31m---------------------------------------------------------------------------\u001b[0m",
      "\u001b[1;31mNameError\u001b[0m                                 Traceback (most recent call last)",
      "Input \u001b[1;32mIn [2]\u001b[0m, in \u001b[0;36m<cell line: 1>\u001b[1;34m()\u001b[0m\n\u001b[1;32m----> 1\u001b[0m \u001b[38;5;124mf\u001b[39m\u001b[38;5;124m'\u001b[39m\u001b[38;5;124mhttps://twitter.com/search?q=\u001b[39m\u001b[38;5;132;01m{\u001b[39;00murllib\u001b[38;5;241m.\u001b[39mparse\u001b[38;5;241m.\u001b[39mquote(\u001b[38;5;124m\"\u001b[39m\u001b[38;5;124mزيزو\u001b[39m\u001b[38;5;124m\"\u001b[39m)\u001b[38;5;132;01m}\u001b[39;00m\u001b[38;5;124m&src=trend_click&pt=1551486498498924544&vertical=trends\u001b[39m\u001b[38;5;124m'\u001b[39m\n",
      "\u001b[1;31mNameError\u001b[0m: name 'urllib' is not defined"
     ]
    }
   ],
   "source": [
    "f'https://twitter.com/search?q={urllib.parse.quote(\"زيزو\")}&src=trend_click&pt=1551486498498924544&vertical=trends'"
   ]
  },
  {
   "cell_type": "code",
   "execution_count": null,
   "id": "07da5255",
   "metadata": {},
   "outputs": [],
   "source": [
    "i= 4\n",
    "trnd = driver.find_elements(By.CSS_SELECTOR,value = 'div[data-testid=\"cellInnerDiv\"]')[i]"
   ]
  },
  {
   "cell_type": "code",
   "execution_count": null,
   "id": "788ef130",
   "metadata": {},
   "outputs": [],
   "source": [
    "trnd.find_element(By.CSS_SELECTOR\n",
    "                  ,value = 'div[class=\"css-901oao r-14j79pv r-37j5jr r-n6v787 r-16dba41 r-1cwl3u0 r-bcqeeo r-qvutc0\"]').text"
   ]
  },
  {
   "cell_type": "code",
   "execution_count": null,
   "id": "1bc85a8c",
   "metadata": {},
   "outputs": [],
   "source": [
    "try:\n",
    "    trnd.find_element(By.CSS_SELECTOR\n",
    "                  ,value = 'div[class=\"css-901oao r-14j79pv r-37j5jr r-n6v787 r-16dba41 r-1cwl3u0 r-14gqq1x r-bcqeeo r-qvutc0\"]').texte\n",
    "except:\n",
    "    pass"
   ]
  },
  {
   "cell_type": "code",
   "execution_count": null,
   "id": "0e938dd4",
   "metadata": {},
   "outputs": [],
   "source": [
    "trnd.find_element(By.CSS_SELECTOR\n",
    "                  ,value = 'div[class=\"css-901oao r-18jsvk2 r-1k78y06 r-a023e6 r-b88u0q r-rjixqe r-1bymd8e r-bcqeeo r-qvutc0 r-1vmecro\"]').text"
   ]
  },
  {
   "cell_type": "code",
   "execution_count": null,
   "id": "cb9298b5",
   "metadata": {},
   "outputs": [],
   "source": [
    "trnd"
   ]
  },
  {
   "cell_type": "code",
   "execution_count": 131,
   "id": "9a2ca7e8",
   "metadata": {},
   "outputs": [
    {
     "ename": "StaleElementReferenceException",
     "evalue": "Message: stale element reference: element is not attached to the page document\n  (Session info: chrome=103.0.5060.134)\nStacktrace:\nBacktrace:\n\tOrdinal0 [0x01135FD3+2187219]\n\tOrdinal0 [0x010CE6D1+1763025]\n\tOrdinal0 [0x00FE3E78+802424]\n\tOrdinal0 [0x00FE6854+813140]\n\tOrdinal0 [0x00FE6712+812818]\n\tOrdinal0 [0x00FE708A+815242]\n\tOrdinal0 [0x0103D9F9+1169913]\n\tOrdinal0 [0x0102CB8C+1100684]\n\tOrdinal0 [0x0103CFC2+1167298]\n\tOrdinal0 [0x0102C9A6+1100198]\n\tOrdinal0 [0x01006F80+946048]\n\tOrdinal0 [0x01007E76+949878]\n\tGetHandleVerifier [0x013D90C2+2721218]\n\tGetHandleVerifier [0x013CAAF0+2662384]\n\tGetHandleVerifier [0x011C137A+526458]\n\tGetHandleVerifier [0x011C0416+522518]\n\tOrdinal0 [0x010D4EAB+1789611]\n\tOrdinal0 [0x010D97A8+1808296]\n\tOrdinal0 [0x010D9895+1808533]\n\tOrdinal0 [0x010E26C1+1844929]\n\tBaseThreadInitThunk [0x7528347D+18]\n\tRtlInitializeExceptionChain [0x76F19852+99]\n\tRtlInitializeExceptionChain [0x76F19825+54]\n",
     "output_type": "error",
     "traceback": [
      "\u001b[1;31m---------------------------------------------------------------------------\u001b[0m",
      "\u001b[1;31mStaleElementReferenceException\u001b[0m            Traceback (most recent call last)",
      "\u001b[1;32m<ipython-input-131-e27163cedd02>\u001b[0m in \u001b[0;36m<module>\u001b[1;34m\u001b[0m\n\u001b[1;32m----> 1\u001b[1;33m \u001b[0mtrnd\u001b[0m\u001b[1;33m.\u001b[0m\u001b[0mget_attribute\u001b[0m\u001b[1;33m(\u001b[0m\u001b[1;34m\"href\"\u001b[0m\u001b[1;33m)\u001b[0m\u001b[1;33m\u001b[0m\u001b[1;33m\u001b[0m\u001b[0m\n\u001b[0m",
      "\u001b[1;32mC:\\Anaconda3\\lib\\site-packages\\selenium\\webdriver\\remote\\webelement.py\u001b[0m in \u001b[0;36mget_attribute\u001b[1;34m(self, name)\u001b[0m\n\u001b[0;32m    170\u001b[0m         \u001b[1;32mif\u001b[0m \u001b[0mgetAttribute_js\u001b[0m \u001b[1;32mis\u001b[0m \u001b[1;32mNone\u001b[0m\u001b[1;33m:\u001b[0m\u001b[1;33m\u001b[0m\u001b[1;33m\u001b[0m\u001b[0m\n\u001b[0;32m    171\u001b[0m             \u001b[0m_load_js\u001b[0m\u001b[1;33m(\u001b[0m\u001b[1;33m)\u001b[0m\u001b[1;33m\u001b[0m\u001b[1;33m\u001b[0m\u001b[0m\n\u001b[1;32m--> 172\u001b[1;33m         attribute_value = self.parent.execute_script(\n\u001b[0m\u001b[0;32m    173\u001b[0m             \u001b[1;34m\"return (%s).apply(null, arguments);\"\u001b[0m \u001b[1;33m%\u001b[0m \u001b[0mgetAttribute_js\u001b[0m\u001b[1;33m,\u001b[0m\u001b[1;33m\u001b[0m\u001b[1;33m\u001b[0m\u001b[0m\n\u001b[0;32m    174\u001b[0m             self, name)\n",
      "\u001b[1;32mC:\\Anaconda3\\lib\\site-packages\\selenium\\webdriver\\remote\\webdriver.py\u001b[0m in \u001b[0;36mexecute_script\u001b[1;34m(self, script, *args)\u001b[0m\n\u001b[0;32m    491\u001b[0m         \u001b[0mcommand\u001b[0m \u001b[1;33m=\u001b[0m \u001b[0mCommand\u001b[0m\u001b[1;33m.\u001b[0m\u001b[0mW3C_EXECUTE_SCRIPT\u001b[0m\u001b[1;33m\u001b[0m\u001b[1;33m\u001b[0m\u001b[0m\n\u001b[0;32m    492\u001b[0m \u001b[1;33m\u001b[0m\u001b[0m\n\u001b[1;32m--> 493\u001b[1;33m         return self.execute(command, {\n\u001b[0m\u001b[0;32m    494\u001b[0m             \u001b[1;34m'script'\u001b[0m\u001b[1;33m:\u001b[0m \u001b[0mscript\u001b[0m\u001b[1;33m,\u001b[0m\u001b[1;33m\u001b[0m\u001b[1;33m\u001b[0m\u001b[0m\n\u001b[0;32m    495\u001b[0m             'args': converted_args})['value']\n",
      "\u001b[1;32mC:\\Anaconda3\\lib\\site-packages\\selenium\\webdriver\\remote\\webdriver.py\u001b[0m in \u001b[0;36mexecute\u001b[1;34m(self, driver_command, params)\u001b[0m\n\u001b[0;32m    433\u001b[0m         \u001b[0mresponse\u001b[0m \u001b[1;33m=\u001b[0m \u001b[0mself\u001b[0m\u001b[1;33m.\u001b[0m\u001b[0mcommand_executor\u001b[0m\u001b[1;33m.\u001b[0m\u001b[0mexecute\u001b[0m\u001b[1;33m(\u001b[0m\u001b[0mdriver_command\u001b[0m\u001b[1;33m,\u001b[0m \u001b[0mparams\u001b[0m\u001b[1;33m)\u001b[0m\u001b[1;33m\u001b[0m\u001b[1;33m\u001b[0m\u001b[0m\n\u001b[0;32m    434\u001b[0m         \u001b[1;32mif\u001b[0m \u001b[0mresponse\u001b[0m\u001b[1;33m:\u001b[0m\u001b[1;33m\u001b[0m\u001b[1;33m\u001b[0m\u001b[0m\n\u001b[1;32m--> 435\u001b[1;33m             \u001b[0mself\u001b[0m\u001b[1;33m.\u001b[0m\u001b[0merror_handler\u001b[0m\u001b[1;33m.\u001b[0m\u001b[0mcheck_response\u001b[0m\u001b[1;33m(\u001b[0m\u001b[0mresponse\u001b[0m\u001b[1;33m)\u001b[0m\u001b[1;33m\u001b[0m\u001b[1;33m\u001b[0m\u001b[0m\n\u001b[0m\u001b[0;32m    436\u001b[0m             response['value'] = self._unwrap_value(\n\u001b[0;32m    437\u001b[0m                 response.get('value', None))\n",
      "\u001b[1;32mC:\\Anaconda3\\lib\\site-packages\\selenium\\webdriver\\remote\\errorhandler.py\u001b[0m in \u001b[0;36mcheck_response\u001b[1;34m(self, response)\u001b[0m\n\u001b[0;32m    245\u001b[0m                 \u001b[0malert_text\u001b[0m \u001b[1;33m=\u001b[0m \u001b[0mvalue\u001b[0m\u001b[1;33m[\u001b[0m\u001b[1;34m'alert'\u001b[0m\u001b[1;33m]\u001b[0m\u001b[1;33m.\u001b[0m\u001b[0mget\u001b[0m\u001b[1;33m(\u001b[0m\u001b[1;34m'text'\u001b[0m\u001b[1;33m)\u001b[0m\u001b[1;33m\u001b[0m\u001b[1;33m\u001b[0m\u001b[0m\n\u001b[0;32m    246\u001b[0m             \u001b[1;32mraise\u001b[0m \u001b[0mexception_class\u001b[0m\u001b[1;33m(\u001b[0m\u001b[0mmessage\u001b[0m\u001b[1;33m,\u001b[0m \u001b[0mscreen\u001b[0m\u001b[1;33m,\u001b[0m \u001b[0mstacktrace\u001b[0m\u001b[1;33m,\u001b[0m \u001b[0malert_text\u001b[0m\u001b[1;33m)\u001b[0m  \u001b[1;31m# type: ignore[call-arg]  # mypy is not smart enough here\u001b[0m\u001b[1;33m\u001b[0m\u001b[1;33m\u001b[0m\u001b[0m\n\u001b[1;32m--> 247\u001b[1;33m         \u001b[1;32mraise\u001b[0m \u001b[0mexception_class\u001b[0m\u001b[1;33m(\u001b[0m\u001b[0mmessage\u001b[0m\u001b[1;33m,\u001b[0m \u001b[0mscreen\u001b[0m\u001b[1;33m,\u001b[0m \u001b[0mstacktrace\u001b[0m\u001b[1;33m)\u001b[0m\u001b[1;33m\u001b[0m\u001b[1;33m\u001b[0m\u001b[0m\n\u001b[0m\u001b[0;32m    248\u001b[0m \u001b[1;33m\u001b[0m\u001b[0m\n\u001b[0;32m    249\u001b[0m     \u001b[1;32mdef\u001b[0m \u001b[0m_value_or_default\u001b[0m\u001b[1;33m(\u001b[0m\u001b[0mself\u001b[0m\u001b[1;33m,\u001b[0m \u001b[0mobj\u001b[0m\u001b[1;33m:\u001b[0m \u001b[0mMapping\u001b[0m\u001b[1;33m[\u001b[0m\u001b[0m_KT\u001b[0m\u001b[1;33m,\u001b[0m \u001b[0m_VT\u001b[0m\u001b[1;33m]\u001b[0m\u001b[1;33m,\u001b[0m \u001b[0mkey\u001b[0m\u001b[1;33m:\u001b[0m \u001b[0m_KT\u001b[0m\u001b[1;33m,\u001b[0m \u001b[0mdefault\u001b[0m\u001b[1;33m:\u001b[0m \u001b[0m_VT\u001b[0m\u001b[1;33m)\u001b[0m \u001b[1;33m->\u001b[0m \u001b[0m_VT\u001b[0m\u001b[1;33m:\u001b[0m\u001b[1;33m\u001b[0m\u001b[1;33m\u001b[0m\u001b[0m\n",
      "\u001b[1;31mStaleElementReferenceException\u001b[0m: Message: stale element reference: element is not attached to the page document\n  (Session info: chrome=103.0.5060.134)\nStacktrace:\nBacktrace:\n\tOrdinal0 [0x01135FD3+2187219]\n\tOrdinal0 [0x010CE6D1+1763025]\n\tOrdinal0 [0x00FE3E78+802424]\n\tOrdinal0 [0x00FE6854+813140]\n\tOrdinal0 [0x00FE6712+812818]\n\tOrdinal0 [0x00FE708A+815242]\n\tOrdinal0 [0x0103D9F9+1169913]\n\tOrdinal0 [0x0102CB8C+1100684]\n\tOrdinal0 [0x0103CFC2+1167298]\n\tOrdinal0 [0x0102C9A6+1100198]\n\tOrdinal0 [0x01006F80+946048]\n\tOrdinal0 [0x01007E76+949878]\n\tGetHandleVerifier [0x013D90C2+2721218]\n\tGetHandleVerifier [0x013CAAF0+2662384]\n\tGetHandleVerifier [0x011C137A+526458]\n\tGetHandleVerifier [0x011C0416+522518]\n\tOrdinal0 [0x010D4EAB+1789611]\n\tOrdinal0 [0x010D97A8+1808296]\n\tOrdinal0 [0x010D9895+1808533]\n\tOrdinal0 [0x010E26C1+1844929]\n\tBaseThreadInitThunk [0x7528347D+18]\n\tRtlInitializeExceptionChain [0x76F19852+99]\n\tRtlInitializeExceptionChain [0x76F19825+54]\n"
     ]
    }
   ],
   "source": [
    "trnd.get_attribute(\"href\")"
   ]
  },
  {
   "cell_type": "code",
   "execution_count": 1,
   "id": "35fc41c2",
   "metadata": {},
   "outputs": [
    {
     "ename": "AttributeError",
     "evalue": "'str' object has no attribute 'decode'",
     "output_type": "error",
     "traceback": [
      "\u001b[1;31m---------------------------------------------------------------------------\u001b[0m",
      "\u001b[1;31mAttributeError\u001b[0m                            Traceback (most recent call last)",
      "Input \u001b[1;32mIn [1]\u001b[0m, in \u001b[0;36m<cell line: 1>\u001b[1;34m()\u001b[0m\n\u001b[1;32m----> 1\u001b[0m \u001b[38;5;124;43m\"\u001b[39;49m\u001b[38;5;124;43mده\u001b[39;49m\u001b[38;5;124;43m\"\u001b[39;49m\u001b[38;5;241;43m.\u001b[39;49m\u001b[43mdecode\u001b[49m(\u001b[38;5;124m'\u001b[39m\u001b[38;5;124mutf8\u001b[39m\u001b[38;5;124m'\u001b[39m)\n",
      "\u001b[1;31mAttributeError\u001b[0m: 'str' object has no attribute 'decode'"
     ]
    }
   ],
   "source": [
    "\"ده\".decode('utf8')\n"
   ]
  },
  {
   "cell_type": "code",
   "execution_count": 2,
   "id": "4ff9de58",
   "metadata": {},
   "outputs": [
    {
     "ename": "NameError",
     "evalue": "name 'unicode' is not defined",
     "output_type": "error",
     "traceback": [
      "\u001b[1;31m---------------------------------------------------------------------------\u001b[0m",
      "\u001b[1;31mNameError\u001b[0m                                 Traceback (most recent call last)",
      "\u001b[1;32m<ipython-input-2-5723c1a1256c>\u001b[0m in \u001b[0;36m<module>\u001b[1;34m\u001b[0m\n\u001b[1;32m----> 1\u001b[1;33m \u001b[0municode\u001b[0m\u001b[1;33m(\u001b[0m\u001b[1;34m\"ده_يا\"\u001b[0m\u001b[1;33m,\u001b[0m \u001b[1;34m'utf8'\u001b[0m\u001b[1;33m)\u001b[0m\u001b[1;33m\u001b[0m\u001b[1;33m\u001b[0m\u001b[0m\n\u001b[0m",
      "\u001b[1;31mNameError\u001b[0m: name 'unicode' is not defined"
     ]
    }
   ],
   "source": [
    "unicode(\"ده_يا\", 'utf8')"
   ]
  },
  {
   "cell_type": "code",
   "execution_count": 4,
   "id": "eab54b70",
   "metadata": {},
   "outputs": [
    {
     "name": "stdout",
     "output_type": "stream",
     "text": [
      "b'\\xd8\\xaf\\xd9\\x87_\\xd9\\x8a\\xd8\\xa7'\n"
     ]
    }
   ],
   "source": [
    "print(\"ده_يا\".encode('utf8'))"
   ]
  },
  {
   "cell_type": "code",
   "execution_count": 5,
   "id": "7ce95191",
   "metadata": {},
   "outputs": [],
   "source": [
    "import urllib.request \n",
    "import urllib.parse \n",
    "import re "
   ]
  },
  {
   "cell_type": "code",
   "execution_count": 6,
   "id": "8252c56a",
   "metadata": {},
   "outputs": [],
   "source": [
    "import urllib.request \n",
    "import urllib.parse \n",
    "import re \n",
    "   \n",
    "url = 'https://www.geeksforgeeks.org/'\n",
    "values = {'s':'python programming', \n",
    "          'submit':'search'} \n",
    "   \n",
    "data = urllib.parse.urlencode(values) \n",
    "data = data.encode('utf-8') \n",
    "req = urllib.request.Request(url, data) "
   ]
  },
  {
   "cell_type": "code",
   "execution_count": 13,
   "id": "e87ea868",
   "metadata": {},
   "outputs": [
    {
     "data": {
      "text/plain": [
       "'/'"
      ]
     },
     "execution_count": 13,
     "metadata": {},
     "output_type": "execute_result"
    }
   ],
   "source": [
    "urllib.parse.quote('/')"
   ]
  },
  {
   "cell_type": "code",
   "execution_count": 8,
   "id": "3731b6a1",
   "metadata": {},
   "outputs": [
    {
     "data": {
      "text/plain": [
       "b's=python+programming&submit=search'"
      ]
     },
     "execution_count": 8,
     "metadata": {},
     "output_type": "execute_result"
    }
   ],
   "source": [
    "data"
   ]
  },
  {
   "cell_type": "code",
   "execution_count": null,
   "id": "9761fae7",
   "metadata": {},
   "outputs": [],
   "source": [
    "# get_attribute('innerHTML')text"
   ]
  }
 ],
 "metadata": {
  "kernelspec": {
   "display_name": "Python 3 (ipykernel)",
   "language": "python",
   "name": "python3"
  },
  "language_info": {
   "codemirror_mode": {
    "name": "ipython",
    "version": 3
   },
   "file_extension": ".py",
   "mimetype": "text/x-python",
   "name": "python",
   "nbconvert_exporter": "python",
   "pygments_lexer": "ipython3",
   "version": "3.9.12"
  }
 },
 "nbformat": 4,
 "nbformat_minor": 5
}
